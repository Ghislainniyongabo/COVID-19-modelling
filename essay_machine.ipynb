{
 "cells": [
  {
   "cell_type": "markdown",
   "metadata": {},
   "source": [
    "# Data analysis of the COVID-19 "
   ]
  },
  {
   "cell_type": "markdown",
   "metadata": {},
   "source": [
    "# importing libraries"
   ]
  },
  {
   "cell_type": "code",
   "execution_count": 294,
   "metadata": {},
   "outputs": [],
   "source": [
    "\n",
    "import pandas as pd  \n",
    "import numpy as np  \n",
    "import seaborn as sn\n",
    "import matplotlib.pyplot as plt  \n",
    "import seaborn as seabornInstance \n",
    "from sklearn.model_selection import train_test_split \n",
    "from sklearn import metrics\n",
    "%matplotlib inline\n",
    "from sklearn.ensemble import RandomForestRegressor\n",
    "from sklearn.tree import export_graphviz\n",
    "import plotly.graph_objects as go\n",
    "import plotly.express as px\n",
    "from scipy.stats import pearsonr\n",
    "import statsmodels.api\n",
    "import statsmodels.api as sm\n",
    "import seaborn as sns\n",
    "\n",
    "from sklearn.model_selection import cross_val_score, GridSearchCV\n",
    "from sklearn.ensemble import RandomForestRegressor\n",
    "\n",
    "import folium\n",
    "import pandas as pd\n",
    "import os\n",
    "import json\n",
    "\n",
    "import pydot\n",
    "from pandas.plotting import register_matplotlib_converters\n",
    "register_matplotlib_converters()"
   ]
  },
  {
   "cell_type": "markdown",
   "metadata": {},
   "source": [
    "# Report data for the COVID-19"
   ]
  },
  {
   "cell_type": "code",
   "execution_count": 134,
   "metadata": {},
   "outputs": [],
   "source": [
    "data_covid191=pd.read_csv(\"dataset/confirmed.csv\")"
   ]
  },
  {
   "cell_type": "code",
   "execution_count": 135,
   "metadata": {},
   "outputs": [],
   "source": [
    "data_covid19=data_covid191.groupby(['Country/Region']).sum().reset_index()"
   ]
  },
  {
   "cell_type": "code",
   "execution_count": 136,
   "metadata": {},
   "outputs": [
    {
     "data": {
      "text/html": [
       "<div>\n",
       "<style scoped>\n",
       "    .dataframe tbody tr th:only-of-type {\n",
       "        vertical-align: middle;\n",
       "    }\n",
       "\n",
       "    .dataframe tbody tr th {\n",
       "        vertical-align: top;\n",
       "    }\n",
       "\n",
       "    .dataframe thead th {\n",
       "        text-align: right;\n",
       "    }\n",
       "</style>\n",
       "<table border=\"1\" class=\"dataframe\">\n",
       "  <thead>\n",
       "    <tr style=\"text-align: right;\">\n",
       "      <th></th>\n",
       "      <th>Country/Region</th>\n",
       "      <th>Lat</th>\n",
       "      <th>Long</th>\n",
       "      <th>1/22/20</th>\n",
       "      <th>1/23/20</th>\n",
       "      <th>1/24/20</th>\n",
       "      <th>1/25/20</th>\n",
       "      <th>1/26/20</th>\n",
       "      <th>1/27/20</th>\n",
       "      <th>1/28/20</th>\n",
       "      <th>...</th>\n",
       "      <th>4/1/20</th>\n",
       "      <th>4/2/20</th>\n",
       "      <th>4/3/20</th>\n",
       "      <th>4/4/20</th>\n",
       "      <th>4/5/20</th>\n",
       "      <th>4/6/20</th>\n",
       "      <th>4/7/20</th>\n",
       "      <th>4/8/20</th>\n",
       "      <th>4/9/20</th>\n",
       "      <th>4/10/20</th>\n",
       "    </tr>\n",
       "  </thead>\n",
       "  <tbody>\n",
       "    <tr>\n",
       "      <th>0</th>\n",
       "      <td>Afghanistan</td>\n",
       "      <td>33.0000</td>\n",
       "      <td>65.0000</td>\n",
       "      <td>0</td>\n",
       "      <td>0</td>\n",
       "      <td>0</td>\n",
       "      <td>0</td>\n",
       "      <td>0</td>\n",
       "      <td>0</td>\n",
       "      <td>0</td>\n",
       "      <td>...</td>\n",
       "      <td>237</td>\n",
       "      <td>273</td>\n",
       "      <td>281</td>\n",
       "      <td>299</td>\n",
       "      <td>349</td>\n",
       "      <td>367</td>\n",
       "      <td>423</td>\n",
       "      <td>444</td>\n",
       "      <td>484</td>\n",
       "      <td>521</td>\n",
       "    </tr>\n",
       "    <tr>\n",
       "      <th>1</th>\n",
       "      <td>Albania</td>\n",
       "      <td>41.1533</td>\n",
       "      <td>20.1683</td>\n",
       "      <td>0</td>\n",
       "      <td>0</td>\n",
       "      <td>0</td>\n",
       "      <td>0</td>\n",
       "      <td>0</td>\n",
       "      <td>0</td>\n",
       "      <td>0</td>\n",
       "      <td>...</td>\n",
       "      <td>259</td>\n",
       "      <td>277</td>\n",
       "      <td>304</td>\n",
       "      <td>333</td>\n",
       "      <td>361</td>\n",
       "      <td>377</td>\n",
       "      <td>383</td>\n",
       "      <td>400</td>\n",
       "      <td>409</td>\n",
       "      <td>416</td>\n",
       "    </tr>\n",
       "    <tr>\n",
       "      <th>2</th>\n",
       "      <td>Algeria</td>\n",
       "      <td>28.0339</td>\n",
       "      <td>1.6596</td>\n",
       "      <td>0</td>\n",
       "      <td>0</td>\n",
       "      <td>0</td>\n",
       "      <td>0</td>\n",
       "      <td>0</td>\n",
       "      <td>0</td>\n",
       "      <td>0</td>\n",
       "      <td>...</td>\n",
       "      <td>847</td>\n",
       "      <td>986</td>\n",
       "      <td>1171</td>\n",
       "      <td>1251</td>\n",
       "      <td>1320</td>\n",
       "      <td>1423</td>\n",
       "      <td>1468</td>\n",
       "      <td>1572</td>\n",
       "      <td>1666</td>\n",
       "      <td>1761</td>\n",
       "    </tr>\n",
       "    <tr>\n",
       "      <th>3</th>\n",
       "      <td>Andorra</td>\n",
       "      <td>42.5063</td>\n",
       "      <td>1.5218</td>\n",
       "      <td>0</td>\n",
       "      <td>0</td>\n",
       "      <td>0</td>\n",
       "      <td>0</td>\n",
       "      <td>0</td>\n",
       "      <td>0</td>\n",
       "      <td>0</td>\n",
       "      <td>...</td>\n",
       "      <td>390</td>\n",
       "      <td>428</td>\n",
       "      <td>439</td>\n",
       "      <td>466</td>\n",
       "      <td>501</td>\n",
       "      <td>525</td>\n",
       "      <td>545</td>\n",
       "      <td>564</td>\n",
       "      <td>583</td>\n",
       "      <td>601</td>\n",
       "    </tr>\n",
       "    <tr>\n",
       "      <th>4</th>\n",
       "      <td>Angola</td>\n",
       "      <td>-11.2027</td>\n",
       "      <td>17.8739</td>\n",
       "      <td>0</td>\n",
       "      <td>0</td>\n",
       "      <td>0</td>\n",
       "      <td>0</td>\n",
       "      <td>0</td>\n",
       "      <td>0</td>\n",
       "      <td>0</td>\n",
       "      <td>...</td>\n",
       "      <td>8</td>\n",
       "      <td>8</td>\n",
       "      <td>8</td>\n",
       "      <td>10</td>\n",
       "      <td>14</td>\n",
       "      <td>16</td>\n",
       "      <td>17</td>\n",
       "      <td>19</td>\n",
       "      <td>19</td>\n",
       "      <td>19</td>\n",
       "    </tr>\n",
       "  </tbody>\n",
       "</table>\n",
       "<p>5 rows × 83 columns</p>\n",
       "</div>"
      ],
      "text/plain": [
       "  Country/Region      Lat     Long  1/22/20  1/23/20  1/24/20  1/25/20  \\\n",
       "0    Afghanistan  33.0000  65.0000        0        0        0        0   \n",
       "1        Albania  41.1533  20.1683        0        0        0        0   \n",
       "2        Algeria  28.0339   1.6596        0        0        0        0   \n",
       "3        Andorra  42.5063   1.5218        0        0        0        0   \n",
       "4         Angola -11.2027  17.8739        0        0        0        0   \n",
       "\n",
       "   1/26/20  1/27/20  1/28/20  ...  4/1/20  4/2/20  4/3/20  4/4/20  4/5/20  \\\n",
       "0        0        0        0  ...     237     273     281     299     349   \n",
       "1        0        0        0  ...     259     277     304     333     361   \n",
       "2        0        0        0  ...     847     986    1171    1251    1320   \n",
       "3        0        0        0  ...     390     428     439     466     501   \n",
       "4        0        0        0  ...       8       8       8      10      14   \n",
       "\n",
       "   4/6/20  4/7/20  4/8/20  4/9/20  4/10/20  \n",
       "0     367     423     444     484      521  \n",
       "1     377     383     400     409      416  \n",
       "2    1423    1468    1572    1666     1761  \n",
       "3     525     545     564     583      601  \n",
       "4      16      17      19      19       19  \n",
       "\n",
       "[5 rows x 83 columns]"
      ]
     },
     "execution_count": 136,
     "metadata": {},
     "output_type": "execute_result"
    }
   ],
   "source": [
    "data_covid19.head()"
   ]
  },
  {
   "cell_type": "code",
   "execution_count": null,
   "metadata": {},
   "outputs": [],
   "source": []
  },
  {
   "cell_type": "markdown",
   "metadata": {},
   "source": [
    "# Data preparation"
   ]
  },
  {
   "cell_type": "code",
   "execution_count": 137,
   "metadata": {},
   "outputs": [],
   "source": [
    "data_covid19_cleaned1=data_covid19.melt(id_vars=['Country/Region','Lat','Long'],var_name=\"Date\",value_name=\"Confirmed\")\n",
    "#data_covid19_death_cleaned1=data_covid19_death.melt(id_vars=['Country/Region','Lat','Long'],var_name=\"Date\",value_name=\"Deaths\")"
   ]
  },
  {
   "cell_type": "code",
   "execution_count": 138,
   "metadata": {},
   "outputs": [],
   "source": [
    "data_covid19_cleaned1['Date']=pd.to_datetime(data_covid19_cleaned1['Date'])\n",
    "#data_covid19_death_cleaned1['Date']=pd.to_datetime(data_covid19_death_cleaned1['Date'])"
   ]
  },
  {
   "cell_type": "code",
   "execution_count": 139,
   "metadata": {},
   "outputs": [],
   "source": [
    "data_covid19_cleaned=data_covid19_cleaned1.groupby(['Country/Region','Date']).sum().reset_index()\n",
    "#data_covid19_death_cleaned=data_covid19_death_cleaned1.groupby(['Country/Region','Date']).sum().reset_index()"
   ]
  },
  {
   "cell_type": "code",
   "execution_count": 140,
   "metadata": {},
   "outputs": [],
   "source": [
    "data_covid19_cleaned['Date']=data_covid19_cleaned1['Date']\n",
    "#data_covid19_death_cleaned1.head()"
   ]
  },
  {
   "cell_type": "code",
   "execution_count": 141,
   "metadata": {},
   "outputs": [],
   "source": [
    "#data_covid19_death_cleaned1['Confirmed']=data_covid19_cleaned['Confirmed']"
   ]
  },
  {
   "cell_type": "code",
   "execution_count": 142,
   "metadata": {},
   "outputs": [],
   "source": [
    "#plt.plot(data_covid19_death_cleaned1['Date'],data_covid19_death_cleaned1['Confirmed'])"
   ]
  },
  {
   "cell_type": "code",
   "execution_count": 143,
   "metadata": {},
   "outputs": [],
   "source": [
    "#data_covid19_death_cleaned1.head()"
   ]
  },
  {
   "cell_type": "markdown",
   "metadata": {},
   "source": [
    "# Humidity Data "
   ]
  },
  {
   "cell_type": "code",
   "execution_count": 144,
   "metadata": {},
   "outputs": [],
   "source": [
    "humidity=pd.read_csv(\"dataset/humidity.csv\")"
   ]
  },
  {
   "cell_type": "code",
   "execution_count": 145,
   "metadata": {},
   "outputs": [
    {
     "data": {
      "text/html": [
       "<div>\n",
       "<style scoped>\n",
       "    .dataframe tbody tr th:only-of-type {\n",
       "        vertical-align: middle;\n",
       "    }\n",
       "\n",
       "    .dataframe tbody tr th {\n",
       "        vertical-align: top;\n",
       "    }\n",
       "\n",
       "    .dataframe thead th {\n",
       "        text-align: right;\n",
       "    }\n",
       "</style>\n",
       "<table border=\"1\" class=\"dataframe\">\n",
       "  <thead>\n",
       "    <tr style=\"text-align: right;\">\n",
       "      <th></th>\n",
       "      <th>Province/State</th>\n",
       "      <th>Country/Region</th>\n",
       "      <th>Lat</th>\n",
       "      <th>Long</th>\n",
       "      <th>1/22/20</th>\n",
       "      <th>1/23/20</th>\n",
       "      <th>1/24/20</th>\n",
       "      <th>1/25/20</th>\n",
       "      <th>1/26/20</th>\n",
       "      <th>1/27/20</th>\n",
       "      <th>...</th>\n",
       "      <th>4/1/20</th>\n",
       "      <th>4/2/20</th>\n",
       "      <th>4/3/20</th>\n",
       "      <th>4/4/20</th>\n",
       "      <th>4/5/20</th>\n",
       "      <th>4/6/20</th>\n",
       "      <th>4/7/20</th>\n",
       "      <th>4/8/20</th>\n",
       "      <th>4/9/20</th>\n",
       "      <th>4/10/20</th>\n",
       "    </tr>\n",
       "  </thead>\n",
       "  <tbody>\n",
       "    <tr>\n",
       "      <th>0</th>\n",
       "      <td>NaN</td>\n",
       "      <td>Afghanistan</td>\n",
       "      <td>33.0000</td>\n",
       "      <td>65.0000</td>\n",
       "      <td>95.625000</td>\n",
       "      <td>95.625000</td>\n",
       "      <td>95.625000</td>\n",
       "      <td>95.625000</td>\n",
       "      <td>95.625000</td>\n",
       "      <td>95.625000</td>\n",
       "      <td>...</td>\n",
       "      <td>60.583333</td>\n",
       "      <td>48.791667</td>\n",
       "      <td>51.708333</td>\n",
       "      <td>64.541667</td>\n",
       "      <td>60.041667</td>\n",
       "      <td>68.791667</td>\n",
       "      <td>50.958333</td>\n",
       "      <td>55.625000</td>\n",
       "      <td>65.500000</td>\n",
       "      <td>67.583333</td>\n",
       "    </tr>\n",
       "    <tr>\n",
       "      <th>1</th>\n",
       "      <td>NaN</td>\n",
       "      <td>Albania</td>\n",
       "      <td>41.1533</td>\n",
       "      <td>20.1683</td>\n",
       "      <td>94.583333</td>\n",
       "      <td>94.583333</td>\n",
       "      <td>94.583333</td>\n",
       "      <td>94.583333</td>\n",
       "      <td>94.583333</td>\n",
       "      <td>94.583333</td>\n",
       "      <td>...</td>\n",
       "      <td>87.875000</td>\n",
       "      <td>72.250000</td>\n",
       "      <td>77.458333</td>\n",
       "      <td>71.250000</td>\n",
       "      <td>63.750000</td>\n",
       "      <td>53.166667</td>\n",
       "      <td>29.791667</td>\n",
       "      <td>31.083333</td>\n",
       "      <td>32.291667</td>\n",
       "      <td>37.458333</td>\n",
       "    </tr>\n",
       "    <tr>\n",
       "      <th>2</th>\n",
       "      <td>NaN</td>\n",
       "      <td>Algeria</td>\n",
       "      <td>28.0339</td>\n",
       "      <td>1.6596</td>\n",
       "      <td>8.833333</td>\n",
       "      <td>8.833333</td>\n",
       "      <td>8.833333</td>\n",
       "      <td>8.833333</td>\n",
       "      <td>8.833333</td>\n",
       "      <td>8.833333</td>\n",
       "      <td>...</td>\n",
       "      <td>7.500000</td>\n",
       "      <td>6.000000</td>\n",
       "      <td>12.958333</td>\n",
       "      <td>11.875000</td>\n",
       "      <td>10.541667</td>\n",
       "      <td>9.125000</td>\n",
       "      <td>13.791667</td>\n",
       "      <td>12.166667</td>\n",
       "      <td>12.041667</td>\n",
       "      <td>10.125000</td>\n",
       "    </tr>\n",
       "    <tr>\n",
       "      <th>3</th>\n",
       "      <td>NaN</td>\n",
       "      <td>Andorra</td>\n",
       "      <td>42.5063</td>\n",
       "      <td>1.5218</td>\n",
       "      <td>90.458333</td>\n",
       "      <td>90.458333</td>\n",
       "      <td>90.458333</td>\n",
       "      <td>90.458333</td>\n",
       "      <td>90.458333</td>\n",
       "      <td>90.458333</td>\n",
       "      <td>...</td>\n",
       "      <td>78.041667</td>\n",
       "      <td>75.500000</td>\n",
       "      <td>62.041667</td>\n",
       "      <td>49.916667</td>\n",
       "      <td>56.666667</td>\n",
       "      <td>73.500000</td>\n",
       "      <td>80.333333</td>\n",
       "      <td>78.083333</td>\n",
       "      <td>73.125000</td>\n",
       "      <td>68.083333</td>\n",
       "    </tr>\n",
       "    <tr>\n",
       "      <th>4</th>\n",
       "      <td>NaN</td>\n",
       "      <td>Angola</td>\n",
       "      <td>-11.2027</td>\n",
       "      <td>17.8739</td>\n",
       "      <td>78.041667</td>\n",
       "      <td>78.041667</td>\n",
       "      <td>78.041667</td>\n",
       "      <td>78.041667</td>\n",
       "      <td>78.041667</td>\n",
       "      <td>78.041667</td>\n",
       "      <td>...</td>\n",
       "      <td>79.958333</td>\n",
       "      <td>94.625000</td>\n",
       "      <td>88.583333</td>\n",
       "      <td>88.333333</td>\n",
       "      <td>85.125000</td>\n",
       "      <td>82.166667</td>\n",
       "      <td>84.291667</td>\n",
       "      <td>88.791667</td>\n",
       "      <td>81.750000</td>\n",
       "      <td>93.666667</td>\n",
       "    </tr>\n",
       "  </tbody>\n",
       "</table>\n",
       "<p>5 rows × 84 columns</p>\n",
       "</div>"
      ],
      "text/plain": [
       "  Province/State Country/Region      Lat     Long    1/22/20    1/23/20  \\\n",
       "0            NaN    Afghanistan  33.0000  65.0000  95.625000  95.625000   \n",
       "1            NaN        Albania  41.1533  20.1683  94.583333  94.583333   \n",
       "2            NaN        Algeria  28.0339   1.6596   8.833333   8.833333   \n",
       "3            NaN        Andorra  42.5063   1.5218  90.458333  90.458333   \n",
       "4            NaN         Angola -11.2027  17.8739  78.041667  78.041667   \n",
       "\n",
       "     1/24/20    1/25/20    1/26/20    1/27/20  ...     4/1/20     4/2/20  \\\n",
       "0  95.625000  95.625000  95.625000  95.625000  ...  60.583333  48.791667   \n",
       "1  94.583333  94.583333  94.583333  94.583333  ...  87.875000  72.250000   \n",
       "2   8.833333   8.833333   8.833333   8.833333  ...   7.500000   6.000000   \n",
       "3  90.458333  90.458333  90.458333  90.458333  ...  78.041667  75.500000   \n",
       "4  78.041667  78.041667  78.041667  78.041667  ...  79.958333  94.625000   \n",
       "\n",
       "      4/3/20     4/4/20     4/5/20     4/6/20     4/7/20     4/8/20  \\\n",
       "0  51.708333  64.541667  60.041667  68.791667  50.958333  55.625000   \n",
       "1  77.458333  71.250000  63.750000  53.166667  29.791667  31.083333   \n",
       "2  12.958333  11.875000  10.541667   9.125000  13.791667  12.166667   \n",
       "3  62.041667  49.916667  56.666667  73.500000  80.333333  78.083333   \n",
       "4  88.583333  88.333333  85.125000  82.166667  84.291667  88.791667   \n",
       "\n",
       "      4/9/20    4/10/20  \n",
       "0  65.500000  67.583333  \n",
       "1  32.291667  37.458333  \n",
       "2  12.041667  10.125000  \n",
       "3  73.125000  68.083333  \n",
       "4  81.750000  93.666667  \n",
       "\n",
       "[5 rows x 84 columns]"
      ]
     },
     "execution_count": 145,
     "metadata": {},
     "output_type": "execute_result"
    }
   ],
   "source": [
    "humidity.head()"
   ]
  },
  {
   "cell_type": "code",
   "execution_count": 146,
   "metadata": {},
   "outputs": [
    {
     "data": {
      "text/plain": [
       "Index(['Province/State', 'Country/Region', 'Lat', 'Long', '1/22/20', '1/23/20',\n",
       "       '1/24/20', '1/25/20', '1/26/20', '1/27/20', '1/28/20', '1/29/20',\n",
       "       '1/30/20', '1/31/20', '2/1/20', '2/2/20', '2/3/20', '2/4/20', '2/5/20',\n",
       "       '2/6/20', '2/7/20', '2/8/20', '2/9/20', '2/10/20', '2/11/20', '2/12/20',\n",
       "       '2/13/20', '2/14/20', '2/15/20', '2/16/20', '2/17/20', '2/18/20',\n",
       "       '2/19/20', '2/20/20', '2/21/20', '2/22/20', '2/23/20', '2/24/20',\n",
       "       '2/25/20', '2/26/20', '2/27/20', '2/28/20', '2/29/20', '3/1/20',\n",
       "       '3/2/20', '3/3/20', '3/4/20', '3/5/20', '3/6/20', '3/7/20', '3/8/20',\n",
       "       '3/9/20', '3/10/20', '3/11/20', '3/12/20', '3/13/20', '3/14/20',\n",
       "       '3/15/20', '3/16/20', '3/17/20', '3/18/20', '3/19/20', '3/20/20',\n",
       "       '3/21/20', '3/22/20', '3/23/20', '3/24/20', '3/25/20', '3/26/20',\n",
       "       '3/27/20', '3/28/20', '3/29/20', '3/30/20', '3/31/20', '4/1/20',\n",
       "       '4/2/20', '4/3/20', '4/4/20', '4/5/20', '4/6/20', '4/7/20', '4/8/20',\n",
       "       '4/9/20', '4/10/20'],\n",
       "      dtype='object')"
      ]
     },
     "execution_count": 146,
     "metadata": {},
     "output_type": "execute_result"
    }
   ],
   "source": [
    "humidity.columns"
   ]
  },
  {
   "cell_type": "code",
   "execution_count": 147,
   "metadata": {},
   "outputs": [],
   "source": [
    "data_humidity=humidity.melt(id_vars=['Province/State', 'Country/Region', 'Lat', 'Long'], \n",
    "        var_name=\"Date\", \n",
    "        value_name=\"Humidity\")"
   ]
  },
  {
   "cell_type": "code",
   "execution_count": 148,
   "metadata": {},
   "outputs": [
    {
     "data": {
      "text/html": [
       "<div>\n",
       "<style scoped>\n",
       "    .dataframe tbody tr th:only-of-type {\n",
       "        vertical-align: middle;\n",
       "    }\n",
       "\n",
       "    .dataframe tbody tr th {\n",
       "        vertical-align: top;\n",
       "    }\n",
       "\n",
       "    .dataframe thead th {\n",
       "        text-align: right;\n",
       "    }\n",
       "</style>\n",
       "<table border=\"1\" class=\"dataframe\">\n",
       "  <thead>\n",
       "    <tr style=\"text-align: right;\">\n",
       "      <th></th>\n",
       "      <th>Province/State</th>\n",
       "      <th>Country/Region</th>\n",
       "      <th>Lat</th>\n",
       "      <th>Long</th>\n",
       "      <th>Date</th>\n",
       "      <th>Humidity</th>\n",
       "    </tr>\n",
       "  </thead>\n",
       "  <tbody>\n",
       "    <tr>\n",
       "      <th>0</th>\n",
       "      <td>NaN</td>\n",
       "      <td>Afghanistan</td>\n",
       "      <td>33.0000</td>\n",
       "      <td>65.0000</td>\n",
       "      <td>1/22/20</td>\n",
       "      <td>95.625000</td>\n",
       "    </tr>\n",
       "    <tr>\n",
       "      <th>1</th>\n",
       "      <td>NaN</td>\n",
       "      <td>Albania</td>\n",
       "      <td>41.1533</td>\n",
       "      <td>20.1683</td>\n",
       "      <td>1/22/20</td>\n",
       "      <td>94.583333</td>\n",
       "    </tr>\n",
       "    <tr>\n",
       "      <th>2</th>\n",
       "      <td>NaN</td>\n",
       "      <td>Algeria</td>\n",
       "      <td>28.0339</td>\n",
       "      <td>1.6596</td>\n",
       "      <td>1/22/20</td>\n",
       "      <td>8.833333</td>\n",
       "    </tr>\n",
       "    <tr>\n",
       "      <th>3</th>\n",
       "      <td>NaN</td>\n",
       "      <td>Andorra</td>\n",
       "      <td>42.5063</td>\n",
       "      <td>1.5218</td>\n",
       "      <td>1/22/20</td>\n",
       "      <td>90.458333</td>\n",
       "    </tr>\n",
       "    <tr>\n",
       "      <th>4</th>\n",
       "      <td>NaN</td>\n",
       "      <td>Angola</td>\n",
       "      <td>-11.2027</td>\n",
       "      <td>17.8739</td>\n",
       "      <td>1/22/20</td>\n",
       "      <td>78.041667</td>\n",
       "    </tr>\n",
       "  </tbody>\n",
       "</table>\n",
       "</div>"
      ],
      "text/plain": [
       "  Province/State Country/Region      Lat     Long     Date   Humidity\n",
       "0            NaN    Afghanistan  33.0000  65.0000  1/22/20  95.625000\n",
       "1            NaN        Albania  41.1533  20.1683  1/22/20  94.583333\n",
       "2            NaN        Algeria  28.0339   1.6596  1/22/20   8.833333\n",
       "3            NaN        Andorra  42.5063   1.5218  1/22/20  90.458333\n",
       "4            NaN         Angola -11.2027  17.8739  1/22/20  78.041667"
      ]
     },
     "execution_count": 148,
     "metadata": {},
     "output_type": "execute_result"
    }
   ],
   "source": [
    "data_humidity.head()"
   ]
  },
  {
   "cell_type": "code",
   "execution_count": 149,
   "metadata": {},
   "outputs": [],
   "source": [
    "data_humidity_grouped=data_humidity.groupby(['Country/Region','Date']).mean().reset_index()"
   ]
  },
  {
   "cell_type": "code",
   "execution_count": 150,
   "metadata": {},
   "outputs": [
    {
     "data": {
      "text/html": [
       "<div>\n",
       "<style scoped>\n",
       "    .dataframe tbody tr th:only-of-type {\n",
       "        vertical-align: middle;\n",
       "    }\n",
       "\n",
       "    .dataframe tbody tr th {\n",
       "        vertical-align: top;\n",
       "    }\n",
       "\n",
       "    .dataframe thead th {\n",
       "        text-align: right;\n",
       "    }\n",
       "</style>\n",
       "<table border=\"1\" class=\"dataframe\">\n",
       "  <thead>\n",
       "    <tr style=\"text-align: right;\">\n",
       "      <th></th>\n",
       "      <th>Country/Region</th>\n",
       "      <th>Date</th>\n",
       "      <th>Lat</th>\n",
       "      <th>Long</th>\n",
       "      <th>Humidity</th>\n",
       "    </tr>\n",
       "  </thead>\n",
       "  <tbody>\n",
       "    <tr>\n",
       "      <th>14795</th>\n",
       "      <td>Zimbabwe</td>\n",
       "      <td>4/5/20</td>\n",
       "      <td>-20.0</td>\n",
       "      <td>30.0</td>\n",
       "      <td>62.041667</td>\n",
       "    </tr>\n",
       "    <tr>\n",
       "      <th>14796</th>\n",
       "      <td>Zimbabwe</td>\n",
       "      <td>4/6/20</td>\n",
       "      <td>-20.0</td>\n",
       "      <td>30.0</td>\n",
       "      <td>51.833333</td>\n",
       "    </tr>\n",
       "    <tr>\n",
       "      <th>14797</th>\n",
       "      <td>Zimbabwe</td>\n",
       "      <td>4/7/20</td>\n",
       "      <td>-20.0</td>\n",
       "      <td>30.0</td>\n",
       "      <td>44.458333</td>\n",
       "    </tr>\n",
       "    <tr>\n",
       "      <th>14798</th>\n",
       "      <td>Zimbabwe</td>\n",
       "      <td>4/8/20</td>\n",
       "      <td>-20.0</td>\n",
       "      <td>30.0</td>\n",
       "      <td>80.541667</td>\n",
       "    </tr>\n",
       "    <tr>\n",
       "      <th>14799</th>\n",
       "      <td>Zimbabwe</td>\n",
       "      <td>4/9/20</td>\n",
       "      <td>-20.0</td>\n",
       "      <td>30.0</td>\n",
       "      <td>91.250000</td>\n",
       "    </tr>\n",
       "  </tbody>\n",
       "</table>\n",
       "</div>"
      ],
      "text/plain": [
       "      Country/Region    Date   Lat  Long   Humidity\n",
       "14795       Zimbabwe  4/5/20 -20.0  30.0  62.041667\n",
       "14796       Zimbabwe  4/6/20 -20.0  30.0  51.833333\n",
       "14797       Zimbabwe  4/7/20 -20.0  30.0  44.458333\n",
       "14798       Zimbabwe  4/8/20 -20.0  30.0  80.541667\n",
       "14799       Zimbabwe  4/9/20 -20.0  30.0  91.250000"
      ]
     },
     "execution_count": 150,
     "metadata": {},
     "output_type": "execute_result"
    }
   ],
   "source": [
    "data_humidity_grouped.tail()"
   ]
  },
  {
   "cell_type": "code",
   "execution_count": 151,
   "metadata": {},
   "outputs": [
    {
     "data": {
      "text/plain": [
       "(14800, 5)"
      ]
     },
     "execution_count": 151,
     "metadata": {},
     "output_type": "execute_result"
    }
   ],
   "source": [
    "data_humidity_grouped.shape"
   ]
  },
  {
   "cell_type": "code",
   "execution_count": null,
   "metadata": {},
   "outputs": [],
   "source": []
  },
  {
   "cell_type": "markdown",
   "metadata": {},
   "source": [
    "# Temperature data"
   ]
  },
  {
   "cell_type": "code",
   "execution_count": 152,
   "metadata": {},
   "outputs": [],
   "source": [
    "temperature=pd.read_csv(\"dataset/temperature.csv\")"
   ]
  },
  {
   "cell_type": "code",
   "execution_count": 153,
   "metadata": {},
   "outputs": [
    {
     "data": {
      "text/html": [
       "<div>\n",
       "<style scoped>\n",
       "    .dataframe tbody tr th:only-of-type {\n",
       "        vertical-align: middle;\n",
       "    }\n",
       "\n",
       "    .dataframe tbody tr th {\n",
       "        vertical-align: top;\n",
       "    }\n",
       "\n",
       "    .dataframe thead th {\n",
       "        text-align: right;\n",
       "    }\n",
       "</style>\n",
       "<table border=\"1\" class=\"dataframe\">\n",
       "  <thead>\n",
       "    <tr style=\"text-align: right;\">\n",
       "      <th></th>\n",
       "      <th>Province/State</th>\n",
       "      <th>Country/Region</th>\n",
       "      <th>Lat</th>\n",
       "      <th>Long</th>\n",
       "      <th>1/22/20</th>\n",
       "      <th>1/23/20</th>\n",
       "      <th>1/24/20</th>\n",
       "      <th>1/25/20</th>\n",
       "      <th>1/26/20</th>\n",
       "      <th>1/27/20</th>\n",
       "      <th>...</th>\n",
       "      <th>4/1/20</th>\n",
       "      <th>4/2/20</th>\n",
       "      <th>4/3/20</th>\n",
       "      <th>4/4/20</th>\n",
       "      <th>4/5/20</th>\n",
       "      <th>4/6/20</th>\n",
       "      <th>4/7/20</th>\n",
       "      <th>4/8/20</th>\n",
       "      <th>4/9/20</th>\n",
       "      <th>4/10/20</th>\n",
       "    </tr>\n",
       "  </thead>\n",
       "  <tbody>\n",
       "    <tr>\n",
       "      <th>0</th>\n",
       "      <td>NaN</td>\n",
       "      <td>Afghanistan</td>\n",
       "      <td>33.0000</td>\n",
       "      <td>65.0000</td>\n",
       "      <td>9.908750</td>\n",
       "      <td>9.908750</td>\n",
       "      <td>9.908750</td>\n",
       "      <td>9.908750</td>\n",
       "      <td>9.908750</td>\n",
       "      <td>9.908750</td>\n",
       "      <td>...</td>\n",
       "      <td>10.455833</td>\n",
       "      <td>11.140417</td>\n",
       "      <td>14.014583</td>\n",
       "      <td>12.852083</td>\n",
       "      <td>13.083333</td>\n",
       "      <td>11.259167</td>\n",
       "      <td>11.865833</td>\n",
       "      <td>13.893333</td>\n",
       "      <td>13.997917</td>\n",
       "      <td>14.586250</td>\n",
       "    </tr>\n",
       "    <tr>\n",
       "      <th>1</th>\n",
       "      <td>NaN</td>\n",
       "      <td>Albania</td>\n",
       "      <td>41.1533</td>\n",
       "      <td>20.1683</td>\n",
       "      <td>6.367500</td>\n",
       "      <td>6.367500</td>\n",
       "      <td>6.367500</td>\n",
       "      <td>6.367500</td>\n",
       "      <td>6.367500</td>\n",
       "      <td>6.367500</td>\n",
       "      <td>...</td>\n",
       "      <td>6.099167</td>\n",
       "      <td>5.885833</td>\n",
       "      <td>8.513750</td>\n",
       "      <td>11.061250</td>\n",
       "      <td>11.970000</td>\n",
       "      <td>12.524583</td>\n",
       "      <td>12.906667</td>\n",
       "      <td>13.200833</td>\n",
       "      <td>14.398750</td>\n",
       "      <td>15.447083</td>\n",
       "    </tr>\n",
       "    <tr>\n",
       "      <th>2</th>\n",
       "      <td>NaN</td>\n",
       "      <td>Algeria</td>\n",
       "      <td>28.0339</td>\n",
       "      <td>1.6596</td>\n",
       "      <td>22.660417</td>\n",
       "      <td>22.660417</td>\n",
       "      <td>22.660417</td>\n",
       "      <td>22.660417</td>\n",
       "      <td>22.660417</td>\n",
       "      <td>22.660417</td>\n",
       "      <td>...</td>\n",
       "      <td>23.765000</td>\n",
       "      <td>24.420833</td>\n",
       "      <td>22.214167</td>\n",
       "      <td>21.802500</td>\n",
       "      <td>22.341250</td>\n",
       "      <td>23.265000</td>\n",
       "      <td>24.711250</td>\n",
       "      <td>25.454167</td>\n",
       "      <td>25.868333</td>\n",
       "      <td>27.485000</td>\n",
       "    </tr>\n",
       "    <tr>\n",
       "      <th>3</th>\n",
       "      <td>NaN</td>\n",
       "      <td>Andorra</td>\n",
       "      <td>42.5063</td>\n",
       "      <td>1.5218</td>\n",
       "      <td>5.491667</td>\n",
       "      <td>5.491667</td>\n",
       "      <td>5.491667</td>\n",
       "      <td>5.491667</td>\n",
       "      <td>5.491667</td>\n",
       "      <td>5.491667</td>\n",
       "      <td>...</td>\n",
       "      <td>6.207500</td>\n",
       "      <td>5.969583</td>\n",
       "      <td>5.847917</td>\n",
       "      <td>7.210417</td>\n",
       "      <td>7.164583</td>\n",
       "      <td>8.049583</td>\n",
       "      <td>8.455417</td>\n",
       "      <td>9.774583</td>\n",
       "      <td>9.976667</td>\n",
       "      <td>10.343333</td>\n",
       "    </tr>\n",
       "    <tr>\n",
       "      <th>4</th>\n",
       "      <td>NaN</td>\n",
       "      <td>Angola</td>\n",
       "      <td>-11.2027</td>\n",
       "      <td>17.8739</td>\n",
       "      <td>22.600833</td>\n",
       "      <td>22.600833</td>\n",
       "      <td>22.600833</td>\n",
       "      <td>22.600833</td>\n",
       "      <td>22.600833</td>\n",
       "      <td>22.600833</td>\n",
       "      <td>...</td>\n",
       "      <td>23.860417</td>\n",
       "      <td>21.522917</td>\n",
       "      <td>21.160833</td>\n",
       "      <td>21.392500</td>\n",
       "      <td>21.601667</td>\n",
       "      <td>22.343333</td>\n",
       "      <td>22.445417</td>\n",
       "      <td>21.167917</td>\n",
       "      <td>22.607917</td>\n",
       "      <td>20.617500</td>\n",
       "    </tr>\n",
       "  </tbody>\n",
       "</table>\n",
       "<p>5 rows × 84 columns</p>\n",
       "</div>"
      ],
      "text/plain": [
       "  Province/State Country/Region      Lat     Long    1/22/20    1/23/20  \\\n",
       "0            NaN    Afghanistan  33.0000  65.0000   9.908750   9.908750   \n",
       "1            NaN        Albania  41.1533  20.1683   6.367500   6.367500   \n",
       "2            NaN        Algeria  28.0339   1.6596  22.660417  22.660417   \n",
       "3            NaN        Andorra  42.5063   1.5218   5.491667   5.491667   \n",
       "4            NaN         Angola -11.2027  17.8739  22.600833  22.600833   \n",
       "\n",
       "     1/24/20    1/25/20    1/26/20    1/27/20  ...     4/1/20     4/2/20  \\\n",
       "0   9.908750   9.908750   9.908750   9.908750  ...  10.455833  11.140417   \n",
       "1   6.367500   6.367500   6.367500   6.367500  ...   6.099167   5.885833   \n",
       "2  22.660417  22.660417  22.660417  22.660417  ...  23.765000  24.420833   \n",
       "3   5.491667   5.491667   5.491667   5.491667  ...   6.207500   5.969583   \n",
       "4  22.600833  22.600833  22.600833  22.600833  ...  23.860417  21.522917   \n",
       "\n",
       "      4/3/20     4/4/20     4/5/20     4/6/20     4/7/20     4/8/20  \\\n",
       "0  14.014583  12.852083  13.083333  11.259167  11.865833  13.893333   \n",
       "1   8.513750  11.061250  11.970000  12.524583  12.906667  13.200833   \n",
       "2  22.214167  21.802500  22.341250  23.265000  24.711250  25.454167   \n",
       "3   5.847917   7.210417   7.164583   8.049583   8.455417   9.774583   \n",
       "4  21.160833  21.392500  21.601667  22.343333  22.445417  21.167917   \n",
       "\n",
       "      4/9/20    4/10/20  \n",
       "0  13.997917  14.586250  \n",
       "1  14.398750  15.447083  \n",
       "2  25.868333  27.485000  \n",
       "3   9.976667  10.343333  \n",
       "4  22.607917  20.617500  \n",
       "\n",
       "[5 rows x 84 columns]"
      ]
     },
     "execution_count": 153,
     "metadata": {},
     "output_type": "execute_result"
    }
   ],
   "source": [
    "temperature.head()"
   ]
  },
  {
   "cell_type": "code",
   "execution_count": null,
   "metadata": {},
   "outputs": [],
   "source": []
  },
  {
   "cell_type": "code",
   "execution_count": 154,
   "metadata": {},
   "outputs": [],
   "source": [
    "data_temperature=temperature.melt(id_vars=['Province/State', 'Country/Region', 'Lat', 'Long'], \n",
    "        var_name=\"Date\", \n",
    "        value_name=\"temperature\")"
   ]
  },
  {
   "cell_type": "code",
   "execution_count": 155,
   "metadata": {},
   "outputs": [],
   "source": [
    "data_temperature_grouped=data_temperature.groupby(['Country/Region','Date']).mean().reset_index()"
   ]
  },
  {
   "cell_type": "code",
   "execution_count": 156,
   "metadata": {},
   "outputs": [
    {
     "data": {
      "text/html": [
       "<div>\n",
       "<style scoped>\n",
       "    .dataframe tbody tr th:only-of-type {\n",
       "        vertical-align: middle;\n",
       "    }\n",
       "\n",
       "    .dataframe tbody tr th {\n",
       "        vertical-align: top;\n",
       "    }\n",
       "\n",
       "    .dataframe thead th {\n",
       "        text-align: right;\n",
       "    }\n",
       "</style>\n",
       "<table border=\"1\" class=\"dataframe\">\n",
       "  <thead>\n",
       "    <tr style=\"text-align: right;\">\n",
       "      <th></th>\n",
       "      <th>Country/Region</th>\n",
       "      <th>Date</th>\n",
       "      <th>Lat</th>\n",
       "      <th>Long</th>\n",
       "      <th>temperature</th>\n",
       "    </tr>\n",
       "  </thead>\n",
       "  <tbody>\n",
       "    <tr>\n",
       "      <th>0</th>\n",
       "      <td>Afghanistan</td>\n",
       "      <td>1/22/20</td>\n",
       "      <td>33.0</td>\n",
       "      <td>65.0</td>\n",
       "      <td>9.90875</td>\n",
       "    </tr>\n",
       "    <tr>\n",
       "      <th>1</th>\n",
       "      <td>Afghanistan</td>\n",
       "      <td>1/23/20</td>\n",
       "      <td>33.0</td>\n",
       "      <td>65.0</td>\n",
       "      <td>9.90875</td>\n",
       "    </tr>\n",
       "    <tr>\n",
       "      <th>2</th>\n",
       "      <td>Afghanistan</td>\n",
       "      <td>1/24/20</td>\n",
       "      <td>33.0</td>\n",
       "      <td>65.0</td>\n",
       "      <td>9.90875</td>\n",
       "    </tr>\n",
       "    <tr>\n",
       "      <th>3</th>\n",
       "      <td>Afghanistan</td>\n",
       "      <td>1/25/20</td>\n",
       "      <td>33.0</td>\n",
       "      <td>65.0</td>\n",
       "      <td>9.90875</td>\n",
       "    </tr>\n",
       "    <tr>\n",
       "      <th>4</th>\n",
       "      <td>Afghanistan</td>\n",
       "      <td>1/26/20</td>\n",
       "      <td>33.0</td>\n",
       "      <td>65.0</td>\n",
       "      <td>9.90875</td>\n",
       "    </tr>\n",
       "  </tbody>\n",
       "</table>\n",
       "</div>"
      ],
      "text/plain": [
       "  Country/Region     Date   Lat  Long  temperature\n",
       "0    Afghanistan  1/22/20  33.0  65.0      9.90875\n",
       "1    Afghanistan  1/23/20  33.0  65.0      9.90875\n",
       "2    Afghanistan  1/24/20  33.0  65.0      9.90875\n",
       "3    Afghanistan  1/25/20  33.0  65.0      9.90875\n",
       "4    Afghanistan  1/26/20  33.0  65.0      9.90875"
      ]
     },
     "execution_count": 156,
     "metadata": {},
     "output_type": "execute_result"
    }
   ],
   "source": [
    "data_temperature_grouped.head()"
   ]
  },
  {
   "cell_type": "markdown",
   "metadata": {},
   "source": [
    "# Wind data"
   ]
  },
  {
   "cell_type": "code",
   "execution_count": 157,
   "metadata": {},
   "outputs": [],
   "source": [
    "wind=pd.read_csv(\"dataset/wind_speed.csv\")"
   ]
  },
  {
   "cell_type": "code",
   "execution_count": 158,
   "metadata": {},
   "outputs": [],
   "source": [
    "data_wind=wind.melt(id_vars=['Province/State', 'Country/Region', 'Lat', 'Long'], \n",
    "        var_name=\"Date\", \n",
    "        value_name=\"wind\")"
   ]
  },
  {
   "cell_type": "code",
   "execution_count": 159,
   "metadata": {},
   "outputs": [],
   "source": [
    "data_wind_grouped=data_wind.groupby(['Country/Region','Date']).mean().reset_index()"
   ]
  },
  {
   "cell_type": "code",
   "execution_count": 160,
   "metadata": {},
   "outputs": [
    {
     "data": {
      "text/html": [
       "<div>\n",
       "<style scoped>\n",
       "    .dataframe tbody tr th:only-of-type {\n",
       "        vertical-align: middle;\n",
       "    }\n",
       "\n",
       "    .dataframe tbody tr th {\n",
       "        vertical-align: top;\n",
       "    }\n",
       "\n",
       "    .dataframe thead th {\n",
       "        text-align: right;\n",
       "    }\n",
       "</style>\n",
       "<table border=\"1\" class=\"dataframe\">\n",
       "  <thead>\n",
       "    <tr style=\"text-align: right;\">\n",
       "      <th></th>\n",
       "      <th>Country/Region</th>\n",
       "      <th>Date</th>\n",
       "      <th>Lat</th>\n",
       "      <th>Long</th>\n",
       "      <th>wind</th>\n",
       "    </tr>\n",
       "  </thead>\n",
       "  <tbody>\n",
       "    <tr>\n",
       "      <th>0</th>\n",
       "      <td>Afghanistan</td>\n",
       "      <td>1/22/20</td>\n",
       "      <td>33.0</td>\n",
       "      <td>65.0</td>\n",
       "      <td>1.265</td>\n",
       "    </tr>\n",
       "    <tr>\n",
       "      <th>1</th>\n",
       "      <td>Afghanistan</td>\n",
       "      <td>1/23/20</td>\n",
       "      <td>33.0</td>\n",
       "      <td>65.0</td>\n",
       "      <td>1.265</td>\n",
       "    </tr>\n",
       "    <tr>\n",
       "      <th>2</th>\n",
       "      <td>Afghanistan</td>\n",
       "      <td>1/24/20</td>\n",
       "      <td>33.0</td>\n",
       "      <td>65.0</td>\n",
       "      <td>1.265</td>\n",
       "    </tr>\n",
       "    <tr>\n",
       "      <th>3</th>\n",
       "      <td>Afghanistan</td>\n",
       "      <td>1/25/20</td>\n",
       "      <td>33.0</td>\n",
       "      <td>65.0</td>\n",
       "      <td>1.265</td>\n",
       "    </tr>\n",
       "    <tr>\n",
       "      <th>4</th>\n",
       "      <td>Afghanistan</td>\n",
       "      <td>1/26/20</td>\n",
       "      <td>33.0</td>\n",
       "      <td>65.0</td>\n",
       "      <td>1.265</td>\n",
       "    </tr>\n",
       "  </tbody>\n",
       "</table>\n",
       "</div>"
      ],
      "text/plain": [
       "  Country/Region     Date   Lat  Long   wind\n",
       "0    Afghanistan  1/22/20  33.0  65.0  1.265\n",
       "1    Afghanistan  1/23/20  33.0  65.0  1.265\n",
       "2    Afghanistan  1/24/20  33.0  65.0  1.265\n",
       "3    Afghanistan  1/25/20  33.0  65.0  1.265\n",
       "4    Afghanistan  1/26/20  33.0  65.0  1.265"
      ]
     },
     "execution_count": 160,
     "metadata": {},
     "output_type": "execute_result"
    }
   ],
   "source": [
    "data_wind_grouped.head()"
   ]
  },
  {
   "cell_type": "markdown",
   "metadata": {},
   "source": [
    "# Merging the COVID-19 report with the daily weather conditions"
   ]
  },
  {
   "cell_type": "code",
   "execution_count": 161,
   "metadata": {},
   "outputs": [],
   "source": [
    "#data_covid19_cleaned['Deaths']=data_covid19_death_cleaned1['Deaths']\n",
    "data_covid19_cleaned['humidity']=data_humidity_grouped['Humidity']\n",
    "data_covid19_cleaned['temperature']=data_temperature_grouped['temperature']\n",
    "data_covid19_cleaned['wind']=data_wind_grouped['wind']"
   ]
  },
  {
   "cell_type": "code",
   "execution_count": null,
   "metadata": {},
   "outputs": [],
   "source": []
  },
  {
   "cell_type": "code",
   "execution_count": 162,
   "metadata": {},
   "outputs": [
    {
     "data": {
      "text/html": [
       "<div>\n",
       "<style scoped>\n",
       "    .dataframe tbody tr th:only-of-type {\n",
       "        vertical-align: middle;\n",
       "    }\n",
       "\n",
       "    .dataframe tbody tr th {\n",
       "        vertical-align: top;\n",
       "    }\n",
       "\n",
       "    .dataframe thead th {\n",
       "        text-align: right;\n",
       "    }\n",
       "</style>\n",
       "<table border=\"1\" class=\"dataframe\">\n",
       "  <thead>\n",
       "    <tr style=\"text-align: right;\">\n",
       "      <th></th>\n",
       "      <th>Country/Region</th>\n",
       "      <th>Date</th>\n",
       "      <th>Lat</th>\n",
       "      <th>Long</th>\n",
       "      <th>Confirmed</th>\n",
       "      <th>humidity</th>\n",
       "      <th>temperature</th>\n",
       "      <th>wind</th>\n",
       "    </tr>\n",
       "  </thead>\n",
       "  <tbody>\n",
       "    <tr>\n",
       "      <th>0</th>\n",
       "      <td>Afghanistan</td>\n",
       "      <td>2020-01-22</td>\n",
       "      <td>33.0</td>\n",
       "      <td>65.0</td>\n",
       "      <td>0</td>\n",
       "      <td>95.625</td>\n",
       "      <td>9.90875</td>\n",
       "      <td>1.265</td>\n",
       "    </tr>\n",
       "    <tr>\n",
       "      <th>1</th>\n",
       "      <td>Afghanistan</td>\n",
       "      <td>2020-01-22</td>\n",
       "      <td>33.0</td>\n",
       "      <td>65.0</td>\n",
       "      <td>0</td>\n",
       "      <td>95.625</td>\n",
       "      <td>9.90875</td>\n",
       "      <td>1.265</td>\n",
       "    </tr>\n",
       "    <tr>\n",
       "      <th>2</th>\n",
       "      <td>Afghanistan</td>\n",
       "      <td>2020-01-22</td>\n",
       "      <td>33.0</td>\n",
       "      <td>65.0</td>\n",
       "      <td>0</td>\n",
       "      <td>95.625</td>\n",
       "      <td>9.90875</td>\n",
       "      <td>1.265</td>\n",
       "    </tr>\n",
       "    <tr>\n",
       "      <th>3</th>\n",
       "      <td>Afghanistan</td>\n",
       "      <td>2020-01-22</td>\n",
       "      <td>33.0</td>\n",
       "      <td>65.0</td>\n",
       "      <td>0</td>\n",
       "      <td>95.625</td>\n",
       "      <td>9.90875</td>\n",
       "      <td>1.265</td>\n",
       "    </tr>\n",
       "    <tr>\n",
       "      <th>4</th>\n",
       "      <td>Afghanistan</td>\n",
       "      <td>2020-01-22</td>\n",
       "      <td>33.0</td>\n",
       "      <td>65.0</td>\n",
       "      <td>0</td>\n",
       "      <td>95.625</td>\n",
       "      <td>9.90875</td>\n",
       "      <td>1.265</td>\n",
       "    </tr>\n",
       "  </tbody>\n",
       "</table>\n",
       "</div>"
      ],
      "text/plain": [
       "  Country/Region       Date   Lat  Long  Confirmed  humidity  temperature  \\\n",
       "0    Afghanistan 2020-01-22  33.0  65.0          0    95.625      9.90875   \n",
       "1    Afghanistan 2020-01-22  33.0  65.0          0    95.625      9.90875   \n",
       "2    Afghanistan 2020-01-22  33.0  65.0          0    95.625      9.90875   \n",
       "3    Afghanistan 2020-01-22  33.0  65.0          0    95.625      9.90875   \n",
       "4    Afghanistan 2020-01-22  33.0  65.0          0    95.625      9.90875   \n",
       "\n",
       "    wind  \n",
       "0  1.265  \n",
       "1  1.265  \n",
       "2  1.265  \n",
       "3  1.265  \n",
       "4  1.265  "
      ]
     },
     "execution_count": 162,
     "metadata": {},
     "output_type": "execute_result"
    }
   ],
   "source": [
    "data_covid19_cleaned.head()"
   ]
  },
  {
   "cell_type": "code",
   "execution_count": null,
   "metadata": {},
   "outputs": [],
   "source": []
  },
  {
   "cell_type": "code",
   "execution_count": 163,
   "metadata": {},
   "outputs": [],
   "source": [
    "#data_covid19_cleaned.set_index('Date').head()"
   ]
  },
  {
   "cell_type": "code",
   "execution_count": 164,
   "metadata": {},
   "outputs": [
    {
     "data": {
      "text/html": [
       "<div>\n",
       "<style scoped>\n",
       "    .dataframe tbody tr th:only-of-type {\n",
       "        vertical-align: middle;\n",
       "    }\n",
       "\n",
       "    .dataframe tbody tr th {\n",
       "        vertical-align: top;\n",
       "    }\n",
       "\n",
       "    .dataframe thead th {\n",
       "        text-align: right;\n",
       "    }\n",
       "</style>\n",
       "<table border=\"1\" class=\"dataframe\">\n",
       "  <thead>\n",
       "    <tr style=\"text-align: right;\">\n",
       "      <th></th>\n",
       "      <th>Country/Region</th>\n",
       "      <th>Date</th>\n",
       "      <th>Lat</th>\n",
       "      <th>Long</th>\n",
       "      <th>Confirmed</th>\n",
       "      <th>humidity</th>\n",
       "      <th>temperature</th>\n",
       "      <th>wind</th>\n",
       "    </tr>\n",
       "  </thead>\n",
       "  <tbody>\n",
       "    <tr>\n",
       "      <th>0</th>\n",
       "      <td>Afghanistan</td>\n",
       "      <td>2020-01-22</td>\n",
       "      <td>33.0</td>\n",
       "      <td>65.0</td>\n",
       "      <td>0</td>\n",
       "      <td>95.625</td>\n",
       "      <td>9.90875</td>\n",
       "      <td>1.265</td>\n",
       "    </tr>\n",
       "    <tr>\n",
       "      <th>1</th>\n",
       "      <td>Afghanistan</td>\n",
       "      <td>2020-01-22</td>\n",
       "      <td>33.0</td>\n",
       "      <td>65.0</td>\n",
       "      <td>0</td>\n",
       "      <td>95.625</td>\n",
       "      <td>9.90875</td>\n",
       "      <td>1.265</td>\n",
       "    </tr>\n",
       "    <tr>\n",
       "      <th>2</th>\n",
       "      <td>Afghanistan</td>\n",
       "      <td>2020-01-22</td>\n",
       "      <td>33.0</td>\n",
       "      <td>65.0</td>\n",
       "      <td>0</td>\n",
       "      <td>95.625</td>\n",
       "      <td>9.90875</td>\n",
       "      <td>1.265</td>\n",
       "    </tr>\n",
       "    <tr>\n",
       "      <th>3</th>\n",
       "      <td>Afghanistan</td>\n",
       "      <td>2020-01-22</td>\n",
       "      <td>33.0</td>\n",
       "      <td>65.0</td>\n",
       "      <td>0</td>\n",
       "      <td>95.625</td>\n",
       "      <td>9.90875</td>\n",
       "      <td>1.265</td>\n",
       "    </tr>\n",
       "    <tr>\n",
       "      <th>4</th>\n",
       "      <td>Afghanistan</td>\n",
       "      <td>2020-01-22</td>\n",
       "      <td>33.0</td>\n",
       "      <td>65.0</td>\n",
       "      <td>0</td>\n",
       "      <td>95.625</td>\n",
       "      <td>9.90875</td>\n",
       "      <td>1.265</td>\n",
       "    </tr>\n",
       "  </tbody>\n",
       "</table>\n",
       "</div>"
      ],
      "text/plain": [
       "  Country/Region       Date   Lat  Long  Confirmed  humidity  temperature  \\\n",
       "0    Afghanistan 2020-01-22  33.0  65.0          0    95.625      9.90875   \n",
       "1    Afghanistan 2020-01-22  33.0  65.0          0    95.625      9.90875   \n",
       "2    Afghanistan 2020-01-22  33.0  65.0          0    95.625      9.90875   \n",
       "3    Afghanistan 2020-01-22  33.0  65.0          0    95.625      9.90875   \n",
       "4    Afghanistan 2020-01-22  33.0  65.0          0    95.625      9.90875   \n",
       "\n",
       "    wind  \n",
       "0  1.265  \n",
       "1  1.265  \n",
       "2  1.265  \n",
       "3  1.265  \n",
       "4  1.265  "
      ]
     },
     "execution_count": 164,
     "metadata": {},
     "output_type": "execute_result"
    }
   ],
   "source": [
    "data_covid19_cleaned.head()"
   ]
  },
  {
   "cell_type": "code",
   "execution_count": 165,
   "metadata": {},
   "outputs": [
    {
     "data": {
      "text/html": [
       "<div>\n",
       "<style scoped>\n",
       "    .dataframe tbody tr th:only-of-type {\n",
       "        vertical-align: middle;\n",
       "    }\n",
       "\n",
       "    .dataframe tbody tr th {\n",
       "        vertical-align: top;\n",
       "    }\n",
       "\n",
       "    .dataframe thead th {\n",
       "        text-align: right;\n",
       "    }\n",
       "</style>\n",
       "<table border=\"1\" class=\"dataframe\">\n",
       "  <thead>\n",
       "    <tr style=\"text-align: right;\">\n",
       "      <th></th>\n",
       "      <th>Country/Region</th>\n",
       "      <th>Date</th>\n",
       "      <th>Lat</th>\n",
       "      <th>Long</th>\n",
       "      <th>Confirmed</th>\n",
       "      <th>humidity</th>\n",
       "      <th>temperature</th>\n",
       "      <th>wind</th>\n",
       "    </tr>\n",
       "  </thead>\n",
       "  <tbody>\n",
       "  </tbody>\n",
       "</table>\n",
       "</div>"
      ],
      "text/plain": [
       "Empty DataFrame\n",
       "Columns: [Country/Region, Date, Lat, Long, Confirmed, humidity, temperature, wind]\n",
       "Index: []"
      ]
     },
     "execution_count": 165,
     "metadata": {},
     "output_type": "execute_result"
    }
   ],
   "source": [
    "data_covid19_cleaned.loc[(data_covid19_cleaned['Country/Region'] == 'Tunisia') & (data_covid19_cleaned['Date'] == '2020-03-29')]"
   ]
  },
  {
   "cell_type": "code",
   "execution_count": 166,
   "metadata": {},
   "outputs": [
    {
     "data": {
      "text/plain": [
       "array(['Afghanistan', 'Albania', 'Algeria', 'Andorra', 'Angola',\n",
       "       'Antigua and Barbuda', 'Argentina', 'Armenia', 'Australia',\n",
       "       'Austria', 'Azerbaijan', 'Bahamas', 'Bahrain', 'Bangladesh',\n",
       "       'Barbados', 'Belarus', 'Belgium', 'Belize', 'Benin', 'Bhutan',\n",
       "       'Bolivia', 'Bosnia and Herzegovina', 'Botswana', 'Brazil',\n",
       "       'Brunei', 'Bulgaria', 'Burkina Faso', 'Burma', 'Burundi',\n",
       "       'Cabo Verde', 'Cambodia', 'Cameroon', 'Canada',\n",
       "       'Central African Republic', 'Chad', 'Chile', 'China', 'Colombia',\n",
       "       'Congo (Brazzaville)', 'Congo (Kinshasa)', 'Costa Rica',\n",
       "       \"Cote d'Ivoire\", 'Croatia', 'Cuba', 'Cyprus', 'Czechia', 'Denmark',\n",
       "       'Diamond Princess', 'Djibouti', 'Dominica', 'Dominican Republic',\n",
       "       'Ecuador', 'Egypt', 'El Salvador', 'Equatorial Guinea', 'Eritrea',\n",
       "       'Estonia', 'Eswatini', 'Ethiopia', 'Fiji', 'Finland', 'France',\n",
       "       'Gabon', 'Gambia', 'Georgia', 'Germany', 'Ghana', 'Greece',\n",
       "       'Grenada', 'Guatemala', 'Guinea', 'Guinea-Bissau', 'Guyana',\n",
       "       'Haiti', 'Holy See', 'Honduras', 'Hungary', 'Iceland', 'India',\n",
       "       'Indonesia', 'Iran', 'Iraq', 'Ireland', 'Israel', 'Italy',\n",
       "       'Jamaica', 'Japan', 'Jordan', 'Kazakhstan', 'Kenya',\n",
       "       'Korea, South', 'Kosovo', 'Kuwait', 'Kyrgyzstan', 'Laos', 'Latvia',\n",
       "       'Lebanon', 'Liberia', 'Libya', 'Liechtenstein', 'Lithuania',\n",
       "       'Luxembourg', 'MS Zaandam', 'Madagascar', 'Malawi', 'Malaysia',\n",
       "       'Maldives', 'Mali', 'Malta', 'Mauritania', 'Mauritius', 'Mexico',\n",
       "       'Moldova', 'Monaco', 'Mongolia', 'Montenegro', 'Morocco',\n",
       "       'Mozambique', 'Namibia', 'Nepal', 'Netherlands', 'New Zealand',\n",
       "       'Nicaragua', 'Niger', 'Nigeria', 'North Macedonia', 'Norway',\n",
       "       'Oman', 'Pakistan', 'Panama', 'Papua New Guinea', 'Paraguay',\n",
       "       'Peru', 'Philippines', 'Poland', 'Portugal', 'Qatar', 'Romania',\n",
       "       'Russia', 'Rwanda', 'Saint Kitts and Nevis', 'Saint Lucia',\n",
       "       'Saint Vincent and the Grenadines', 'San Marino',\n",
       "       'Sao Tome and Principe', 'Saudi Arabia', 'Senegal', 'Serbia',\n",
       "       'Seychelles', 'Sierra Leone', 'Singapore', 'Slovakia', 'Slovenia',\n",
       "       'Somalia', 'South Africa', 'South Sudan', 'Spain', 'Sri Lanka',\n",
       "       'Sudan', 'Suriname', 'Sweden', 'Switzerland', 'Syria', 'Taiwan*',\n",
       "       'Tanzania', 'Thailand', 'Timor-Leste', 'Togo',\n",
       "       'Trinidad and Tobago', 'Tunisia', 'Turkey', 'US', 'Uganda',\n",
       "       'Ukraine', 'United Arab Emirates', 'United Kingdom', 'Uruguay',\n",
       "       'Uzbekistan', 'Venezuela', 'Vietnam', 'West Bank and Gaza',\n",
       "       'Western Sahara', 'Yemen', 'Zambia', 'Zimbabwe'], dtype=object)"
      ]
     },
     "execution_count": 166,
     "metadata": {},
     "output_type": "execute_result"
    }
   ],
   "source": [
    "data_covid19_cleaned['Country/Region'].unique()"
   ]
  },
  {
   "cell_type": "code",
   "execution_count": null,
   "metadata": {},
   "outputs": [],
   "source": []
  },
  {
   "cell_type": "code",
   "execution_count": null,
   "metadata": {},
   "outputs": [],
   "source": []
  },
  {
   "cell_type": "code",
   "execution_count": 167,
   "metadata": {},
   "outputs": [],
   "source": [
    "data_covid19_cleaned_date=data_covid19_cleaned.groupby('Date').sum().reset_index()"
   ]
  },
  {
   "cell_type": "code",
   "execution_count": 168,
   "metadata": {},
   "outputs": [
    {
     "data": {
      "text/html": [
       "<div>\n",
       "<style scoped>\n",
       "    .dataframe tbody tr th:only-of-type {\n",
       "        vertical-align: middle;\n",
       "    }\n",
       "\n",
       "    .dataframe tbody tr th {\n",
       "        vertical-align: top;\n",
       "    }\n",
       "\n",
       "    .dataframe thead th {\n",
       "        text-align: right;\n",
       "    }\n",
       "</style>\n",
       "<table border=\"1\" class=\"dataframe\">\n",
       "  <thead>\n",
       "    <tr style=\"text-align: right;\">\n",
       "      <th></th>\n",
       "      <th>Date</th>\n",
       "      <th>Lat</th>\n",
       "      <th>Long</th>\n",
       "      <th>Confirmed</th>\n",
       "      <th>humidity</th>\n",
       "      <th>temperature</th>\n",
       "      <th>wind</th>\n",
       "    </tr>\n",
       "  </thead>\n",
       "  <tbody>\n",
       "    <tr>\n",
       "      <th>0</th>\n",
       "      <td>2020-01-22</td>\n",
       "      <td>6633.1115</td>\n",
       "      <td>6854.9540</td>\n",
       "      <td>10654</td>\n",
       "      <td>13938.838768</td>\n",
       "      <td>2026.492101</td>\n",
       "      <td>392.510978</td>\n",
       "    </tr>\n",
       "    <tr>\n",
       "      <th>1</th>\n",
       "      <td>2020-01-23</td>\n",
       "      <td>4382.2335</td>\n",
       "      <td>1106.7170</td>\n",
       "      <td>26122</td>\n",
       "      <td>11406.063406</td>\n",
       "      <td>2833.183569</td>\n",
       "      <td>454.860362</td>\n",
       "    </tr>\n",
       "    <tr>\n",
       "      <th>2</th>\n",
       "      <td>2020-01-24</td>\n",
       "      <td>-1852.4245</td>\n",
       "      <td>-9178.7475</td>\n",
       "      <td>13282</td>\n",
       "      <td>12446.375000</td>\n",
       "      <td>4591.124583</td>\n",
       "      <td>1192.986250</td>\n",
       "    </tr>\n",
       "    <tr>\n",
       "      <th>3</th>\n",
       "      <td>2020-01-25</td>\n",
       "      <td>-16513.7885</td>\n",
       "      <td>93964.9585</td>\n",
       "      <td>113471</td>\n",
       "      <td>12972.784167</td>\n",
       "      <td>1247.744685</td>\n",
       "      <td>475.756558</td>\n",
       "    </tr>\n",
       "    <tr>\n",
       "      <th>4</th>\n",
       "      <td>2020-01-26</td>\n",
       "      <td>7188.9635</td>\n",
       "      <td>1196.3245</td>\n",
       "      <td>215026</td>\n",
       "      <td>12475.949275</td>\n",
       "      <td>1872.408641</td>\n",
       "      <td>534.281612</td>\n",
       "    </tr>\n",
       "  </tbody>\n",
       "</table>\n",
       "</div>"
      ],
      "text/plain": [
       "        Date         Lat        Long  Confirmed      humidity  temperature  \\\n",
       "0 2020-01-22   6633.1115   6854.9540      10654  13938.838768  2026.492101   \n",
       "1 2020-01-23   4382.2335   1106.7170      26122  11406.063406  2833.183569   \n",
       "2 2020-01-24  -1852.4245  -9178.7475      13282  12446.375000  4591.124583   \n",
       "3 2020-01-25 -16513.7885  93964.9585     113471  12972.784167  1247.744685   \n",
       "4 2020-01-26   7188.9635   1196.3245     215026  12475.949275  1872.408641   \n",
       "\n",
       "          wind  \n",
       "0   392.510978  \n",
       "1   454.860362  \n",
       "2  1192.986250  \n",
       "3   475.756558  \n",
       "4   534.281612  "
      ]
     },
     "execution_count": 168,
     "metadata": {},
     "output_type": "execute_result"
    }
   ],
   "source": [
    "data_covid19_cleaned_date.head()"
   ]
  },
  {
   "cell_type": "code",
   "execution_count": 169,
   "metadata": {},
   "outputs": [
    {
     "data": {
      "text/plain": [
       "(80, 7)"
      ]
     },
     "execution_count": 169,
     "metadata": {},
     "output_type": "execute_result"
    }
   ],
   "source": [
    "data_covid19_cleaned_date.shape"
   ]
  },
  {
   "cell_type": "code",
   "execution_count": 170,
   "metadata": {},
   "outputs": [
    {
     "data": {
      "text/html": [
       "<div>\n",
       "<style scoped>\n",
       "    .dataframe tbody tr th:only-of-type {\n",
       "        vertical-align: middle;\n",
       "    }\n",
       "\n",
       "    .dataframe tbody tr th {\n",
       "        vertical-align: top;\n",
       "    }\n",
       "\n",
       "    .dataframe thead th {\n",
       "        text-align: right;\n",
       "    }\n",
       "</style>\n",
       "<table border=\"1\" class=\"dataframe\">\n",
       "  <thead>\n",
       "    <tr style=\"text-align: right;\">\n",
       "      <th></th>\n",
       "      <th>Date</th>\n",
       "      <th>Lat</th>\n",
       "      <th>Long</th>\n",
       "      <th>Confirmed</th>\n",
       "      <th>humidity</th>\n",
       "      <th>temperature</th>\n",
       "      <th>wind</th>\n",
       "    </tr>\n",
       "  </thead>\n",
       "  <tbody>\n",
       "    <tr>\n",
       "      <th>10</th>\n",
       "      <td>2020-02-01</td>\n",
       "      <td>862.0605</td>\n",
       "      <td>6435.448</td>\n",
       "      <td>165685</td>\n",
       "      <td>17024.416667</td>\n",
       "      <td>3843.535</td>\n",
       "      <td>234.5325</td>\n",
       "    </tr>\n",
       "  </tbody>\n",
       "</table>\n",
       "</div>"
      ],
      "text/plain": [
       "         Date       Lat      Long  Confirmed      humidity  temperature  \\\n",
       "10 2020-02-01  862.0605  6435.448     165685  17024.416667     3843.535   \n",
       "\n",
       "        wind  \n",
       "10  234.5325  "
      ]
     },
     "execution_count": 170,
     "metadata": {},
     "output_type": "execute_result"
    }
   ],
   "source": [
    "data_covid19_cleaned_date.loc[(data_covid19_cleaned_date['Date'] == '2020-02-01')]"
   ]
  },
  {
   "cell_type": "code",
   "execution_count": 171,
   "metadata": {},
   "outputs": [
    {
     "data": {
      "text/html": [
       "<div>\n",
       "<style scoped>\n",
       "    .dataframe tbody tr th:only-of-type {\n",
       "        vertical-align: middle;\n",
       "    }\n",
       "\n",
       "    .dataframe tbody tr th {\n",
       "        vertical-align: top;\n",
       "    }\n",
       "\n",
       "    .dataframe thead th {\n",
       "        text-align: right;\n",
       "    }\n",
       "</style>\n",
       "<table border=\"1\" class=\"dataframe\">\n",
       "  <thead>\n",
       "    <tr style=\"text-align: right;\">\n",
       "      <th></th>\n",
       "      <th>Date</th>\n",
       "      <th>Lat</th>\n",
       "      <th>Long</th>\n",
       "      <th>Confirmed</th>\n",
       "      <th>humidity</th>\n",
       "      <th>temperature</th>\n",
       "      <th>wind</th>\n",
       "    </tr>\n",
       "  </thead>\n",
       "  <tbody>\n",
       "    <tr>\n",
       "      <th>39</th>\n",
       "      <td>2020-03-01</td>\n",
       "      <td>6928.21088</td>\n",
       "      <td>11902.23816</td>\n",
       "      <td>361512</td>\n",
       "      <td>10054.768116</td>\n",
       "      <td>1294.56462</td>\n",
       "      <td>607.251504</td>\n",
       "    </tr>\n",
       "  </tbody>\n",
       "</table>\n",
       "</div>"
      ],
      "text/plain": [
       "         Date         Lat         Long  Confirmed      humidity  temperature  \\\n",
       "39 2020-03-01  6928.21088  11902.23816     361512  10054.768116   1294.56462   \n",
       "\n",
       "          wind  \n",
       "39  607.251504  "
      ]
     },
     "execution_count": 171,
     "metadata": {},
     "output_type": "execute_result"
    }
   ],
   "source": [
    "data_covid19_cleaned_date.loc[(data_covid19_cleaned_date['Date'] == '2020-03-01')]"
   ]
  },
  {
   "cell_type": "code",
   "execution_count": 172,
   "metadata": {},
   "outputs": [
    {
     "data": {
      "text/html": [
       "<div>\n",
       "<style scoped>\n",
       "    .dataframe tbody tr th:only-of-type {\n",
       "        vertical-align: middle;\n",
       "    }\n",
       "\n",
       "    .dataframe tbody tr th {\n",
       "        vertical-align: top;\n",
       "    }\n",
       "\n",
       "    .dataframe thead th {\n",
       "        text-align: right;\n",
       "    }\n",
       "</style>\n",
       "<table border=\"1\" class=\"dataframe\">\n",
       "  <thead>\n",
       "    <tr style=\"text-align: right;\">\n",
       "      <th></th>\n",
       "      <th>Date</th>\n",
       "      <th>Lat</th>\n",
       "      <th>Long</th>\n",
       "      <th>Confirmed</th>\n",
       "      <th>humidity</th>\n",
       "      <th>temperature</th>\n",
       "      <th>wind</th>\n",
       "    </tr>\n",
       "  </thead>\n",
       "  <tbody>\n",
       "    <tr>\n",
       "      <th>70</th>\n",
       "      <td>2020-04-01</td>\n",
       "      <td>5052.813</td>\n",
       "      <td>13405.3522</td>\n",
       "      <td>221991</td>\n",
       "      <td>12297.0</td>\n",
       "      <td>2787.167083</td>\n",
       "      <td>350.575417</td>\n",
       "    </tr>\n",
       "  </tbody>\n",
       "</table>\n",
       "</div>"
      ],
      "text/plain": [
       "         Date       Lat        Long  Confirmed  humidity  temperature  \\\n",
       "70 2020-04-01  5052.813  13405.3522     221991   12297.0  2787.167083   \n",
       "\n",
       "          wind  \n",
       "70  350.575417  "
      ]
     },
     "execution_count": 172,
     "metadata": {},
     "output_type": "execute_result"
    }
   ],
   "source": [
    "data_covid19_cleaned_date.loc[(data_covid19_cleaned_date['Date'] == '2020-04-01')]"
   ]
  },
  {
   "cell_type": "markdown",
   "metadata": {},
   "source": [
    "# Data vizualization "
   ]
  },
  {
   "cell_type": "code",
   "execution_count": 173,
   "metadata": {},
   "outputs": [
    {
     "data": {
      "image/png": "[encoded data removed]",
      "text/plain": [
       "<Figure size 864x360 with 1 Axes>"
      ]
     },
     "metadata": {
      "needs_background": "light"
     },
     "output_type": "display_data"
    }
   ],
   "source": [
    "# Create figure and plot space\n",
    "fig, ax = plt.subplots(figsize=(12, 5))\n",
    "\n",
    "# Add x-axis and y-axis\n",
    "ax.bar(data_covid19_cleaned_date['Date'],\n",
    "       data_covid19_cleaned_date['Confirmed'],\n",
    "       color='purple')\n",
    "\n",
    "# Set title and labels for axes\n",
    "ax.set(xlabel=\"Observation Dates\",\n",
    "       ylabel=\"The number of confirmed cases\")\n",
    "\n",
    "plt.show()"
   ]
  },
  {
   "cell_type": "code",
   "execution_count": null,
   "metadata": {},
   "outputs": [],
   "source": []
  },
  {
   "cell_type": "markdown",
   "metadata": {},
   "source": [
    "## Vizualizing the datapoints according to the weather conditions"
   ]
  },
  {
   "cell_type": "code",
   "execution_count": 174,
   "metadata": {},
   "outputs": [
    {
     "data": {
      "text/plain": [
       "(14800, 8)"
      ]
     },
     "execution_count": 174,
     "metadata": {},
     "output_type": "execute_result"
    }
   ],
   "source": [
    "data_covid19_cleaned.shape"
   ]
  },
  {
   "cell_type": "code",
   "execution_count": 175,
   "metadata": {},
   "outputs": [
    {
     "data": {
      "image/png": "[encoded data removed]",
      "text/plain": [
       "<Figure size 360x360 with 1 Axes>"
      ]
     },
     "metadata": {
      "needs_background": "light"
     },
     "output_type": "display_data"
    }
   ],
   "source": [
    "plt.figure(figsize=(5,5))\n",
    "plt.plot( data_covid19_cleaned['humidity'],data_covid19_cleaned['Confirmed'], 'bo')\n",
    "plt.xlabel('Humidity ', fontsize=16)\n",
    "plt.ylabel('The confirmed cases', fontsize=16)\n",
    "#plt.title('Time series of the number of confirmed cases')\n",
    "plt.show()"
   ]
  },
  {
   "cell_type": "code",
   "execution_count": 176,
   "metadata": {},
   "outputs": [
    {
     "data": {
      "image/png": "[encoded data removed]",
      "text/plain": [
       "<Figure size 360x360 with 1 Axes>"
      ]
     },
     "metadata": {
      "needs_background": "light"
     },
     "output_type": "display_data"
    }
   ],
   "source": [
    "plt.figure(figsize=(5,5))\n",
    "plt.plot( data_covid19_cleaned['temperature'],data_covid19_cleaned['Confirmed'], 'bo')\n",
    "plt.xlabel('Temperature', fontsize=16)\n",
    "plt.ylabel('The confirmed cases', fontsize=16)\n",
    "#plt.title('Time series of the number of confirmed cases')\n",
    "plt.show()"
   ]
  },
  {
   "cell_type": "code",
   "execution_count": null,
   "metadata": {},
   "outputs": [],
   "source": []
  },
  {
   "cell_type": "code",
   "execution_count": 177,
   "metadata": {},
   "outputs": [
    {
     "data": {
      "image/png": "[encoded data removed]",
      "text/plain": [
       "<Figure size 360x360 with 1 Axes>"
      ]
     },
     "metadata": {
      "needs_background": "light"
     },
     "output_type": "display_data"
    }
   ],
   "source": [
    "plt.figure(figsize=(5,5))\n",
    "plt.plot( data_covid19_cleaned['wind'],data_covid19_cleaned['Confirmed'], 'bo')\n",
    "plt.xlabel('Wind', fontsize=16)\n",
    "plt.ylabel('The confirmed cases', fontsize=16)\n",
    "#plt.title('Time series of the number of confirmed cases')\n",
    "plt.show()"
   ]
  },
  {
   "cell_type": "code",
   "execution_count": 178,
   "metadata": {},
   "outputs": [
    {
     "data": {
      "text/plain": [
       "Lat             7.540000\n",
       "Long           -5.547100\n",
       "Confirmed      51.287500\n",
       "humidity       84.140104\n",
       "temperature    26.213062\n",
       "wind            2.807552\n",
       "dtype: float64"
      ]
     },
     "execution_count": 178,
     "metadata": {},
     "output_type": "execute_result"
    }
   ],
   "source": [
    "mask=(data_covid19_cleaned['Country/Region']=='Cote d\\'Ivoire') & (data_covid19_cleaned['Date'] >= '2020-01-22') & (data_covid19_cleaned['Date'] <= '2020-03-29') \n",
    "country_one = data_covid19_cleaned.loc[mask]\n",
    "country_one.mean()"
   ]
  },
  {
   "cell_type": "code",
   "execution_count": null,
   "metadata": {},
   "outputs": [],
   "source": []
  },
  {
   "cell_type": "code",
   "execution_count": 179,
   "metadata": {},
   "outputs": [],
   "source": [
    "data_vizua=data_covid19_cleaned1.groupby('Country/Region').sum()"
   ]
  },
  {
   "cell_type": "code",
   "execution_count": 180,
   "metadata": {},
   "outputs": [],
   "source": [
    "date=data_vizua.drop('China').reset_index()"
   ]
  },
  {
   "cell_type": "code",
   "execution_count": 181,
   "metadata": {},
   "outputs": [
    {
     "data": {
      "text/html": [
       "<div>\n",
       "<style scoped>\n",
       "    .dataframe tbody tr th:only-of-type {\n",
       "        vertical-align: middle;\n",
       "    }\n",
       "\n",
       "    .dataframe tbody tr th {\n",
       "        vertical-align: top;\n",
       "    }\n",
       "\n",
       "    .dataframe thead th {\n",
       "        text-align: right;\n",
       "    }\n",
       "</style>\n",
       "<table border=\"1\" class=\"dataframe\">\n",
       "  <thead>\n",
       "    <tr style=\"text-align: right;\">\n",
       "      <th></th>\n",
       "      <th>Country/Region</th>\n",
       "      <th>Lat</th>\n",
       "      <th>Long</th>\n",
       "      <th>Confirmed</th>\n",
       "    </tr>\n",
       "  </thead>\n",
       "  <tbody>\n",
       "    <tr>\n",
       "      <th>0</th>\n",
       "      <td>Afghanistan</td>\n",
       "      <td>2640.000</td>\n",
       "      <td>5200.000</td>\n",
       "      <td>4903</td>\n",
       "    </tr>\n",
       "    <tr>\n",
       "      <th>1</th>\n",
       "      <td>Albania</td>\n",
       "      <td>3292.264</td>\n",
       "      <td>1613.464</td>\n",
       "      <td>5751</td>\n",
       "    </tr>\n",
       "    <tr>\n",
       "      <th>2</th>\n",
       "      <td>Algeria</td>\n",
       "      <td>2242.712</td>\n",
       "      <td>132.768</td>\n",
       "      <td>18293</td>\n",
       "    </tr>\n",
       "    <tr>\n",
       "      <th>3</th>\n",
       "      <td>Andorra</td>\n",
       "      <td>3400.504</td>\n",
       "      <td>121.744</td>\n",
       "      <td>7829</td>\n",
       "    </tr>\n",
       "    <tr>\n",
       "      <th>4</th>\n",
       "      <td>Angola</td>\n",
       "      <td>-896.216</td>\n",
       "      <td>1429.912</td>\n",
       "      <td>186</td>\n",
       "    </tr>\n",
       "  </tbody>\n",
       "</table>\n",
       "</div>"
      ],
      "text/plain": [
       "  Country/Region       Lat      Long  Confirmed\n",
       "0    Afghanistan  2640.000  5200.000       4903\n",
       "1        Albania  3292.264  1613.464       5751\n",
       "2        Algeria  2242.712   132.768      18293\n",
       "3        Andorra  3400.504   121.744       7829\n",
       "4         Angola  -896.216  1429.912        186"
      ]
     },
     "execution_count": 181,
     "metadata": {},
     "output_type": "execute_result"
    }
   ],
   "source": [
    "date.head()"
   ]
  },
  {
   "cell_type": "code",
   "execution_count": 182,
   "metadata": {},
   "outputs": [],
   "source": [
    "#data_covid19_cleaned.loc[(data_covid19_cleaned['Country/Region'] == 'Canada') & (data_covid19_cleaned['Date'] == '2020-03-30')]"
   ]
  },
  {
   "cell_type": "code",
   "execution_count": 183,
   "metadata": {},
   "outputs": [
    {
     "data": {
      "application/vnd.plotly.v1+json": {
       "config": {
        "plotlyServerURL": "https://plot.ly"
       },
       "data": [
        {
         "domain": {
          "x": [
           0,
           1
          ],
          "y": [
           0,
           1
          ]
         },
         "hoverlabel": {
          "namelength": 0
         },
         "hovertemplate": "Country/Region=%{label}<br>Confirmed=%{value}",
         "labels": [
          "Afghanistan",
          "Albania",
          "Algeria",
          "Andorra",
          "Angola",
          "Antigua and Barbuda",
          "Argentina",
          "Armenia",
          "Australia",
          "Austria",
          "Azerbaijan",
          "Bahamas",
          "Bahrain",
          "Bangladesh",
          "Barbados",
          "Belarus",
          "Belgium",
          "Belize",
          "Benin",
          "Bhutan",
          "Bolivia",
          "Bosnia and Herzegovina",
          "Botswana",
          "Brazil",
          "Brunei",
          "Bulgaria",
          "Burkina Faso",
          "Burma",
          "Burundi",
          "Cabo Verde",
          "Cambodia",
          "Cameroon",
          "Canada",
          "Central African Republic",
          "Chad",
          "Chile",
          "Colombia",
          "Congo (Brazzaville)",
          "Congo (Kinshasa)",
          "Costa Rica",
          "Cote d'Ivoire",
          "Croatia",
          "Cuba",
          "Cyprus",
          "Czechia",
          "Denmark",
          "Diamond Princess",
          "Djibouti",
          "Dominica",
          "Dominican Republic",
          "Ecuador",
          "Egypt",
          "El Salvador",
          "Equatorial Guinea",
          "Eritrea",
          "Estonia",
          "Eswatini",
          "Ethiopia",
          "Fiji",
          "Finland",
          "France",
          "Gabon",
          "Gambia",
          "Georgia",
          "Germany",
          "Ghana",
          "Greece",
          "Grenada",
          "Guatemala",
          "Guinea",
          "Guinea-Bissau",
          "Guyana",
          "Haiti",
          "Holy See",
          "Honduras",
          "Hungary",
          "Iceland",
          "India",
          "Indonesia",
          "Iran",
          "Iraq",
          "Ireland",
          "Israel",
          "Italy",
          "Jamaica",
          "Japan",
          "Jordan",
          "Kazakhstan",
          "Kenya",
          "Korea, South",
          "Kosovo",
          "Kuwait",
          "Kyrgyzstan",
          "Laos",
          "Latvia",
          "Lebanon",
          "Liberia",
          "Libya",
          "Liechtenstein",
          "Lithuania",
          "Luxembourg",
          "MS Zaandam",
          "Madagascar",
          "Malawi",
          "Malaysia",
          "Maldives",
          "Mali",
          "Malta",
          "Mauritania",
          "Mauritius",
          "Mexico",
          "Moldova",
          "Monaco",
          "Mongolia",
          "Montenegro",
          "Morocco",
          "Mozambique",
          "Namibia",
          "Nepal",
          "Netherlands",
          "New Zealand",
          "Nicaragua",
          "Niger",
          "Nigeria",
          "North Macedonia",
          "Norway",
          "Oman",
          "Pakistan",
          "Panama",
          "Papua New Guinea",
          "Paraguay",
          "Peru",
          "Philippines",
          "Poland",
          "Portugal",
          "Qatar",
          "Romania",
          "Russia",
          "Rwanda",
          "Saint Kitts and Nevis",
          "Saint Lucia",
          "Saint Vincent and the Grenadines",
          "San Marino",
          "Sao Tome and Principe",
          "Saudi Arabia",
          "Senegal",
          "Serbia",
          "Seychelles",
          "Sierra Leone",
          "Singapore",
          "Slovakia",
          "Slovenia",
          "Somalia",
          "South Africa",
          "South Sudan",
          "Spain",
          "Sri Lanka",
          "Sudan",
          "Suriname",
          "Sweden",
          "Switzerland",
          "Syria",
          "Taiwan*",
          "Tanzania",
          "Thailand",
          "Timor-Leste",
          "Togo",
          "Trinidad and Tobago",
          "Tunisia",
          "Turkey",
          "US",
          "Uganda",
          "Ukraine",
          "United Arab Emirates",
          "United Kingdom",
          "Uruguay",
          "Uzbekistan",
          "Venezuela",
          "Vietnam",
          "West Bank and Gaza",
          "Western Sahara",
          "Yemen",
          "Zambia",
          "Zimbabwe"
         ],
         "legendgroup": "",
         "name": "",
         "showlegend": true,
         "textinfo": "percent+label",
         "textposition": "inside",
         "type": "pie",
         "values": [
          4903,
          5751,
          18293,
          7829,
          186,
          213,
          21550,
          12086,
          92718,
          206694,
          8332,
          409,
          15406,
          2134,
          813,
          9381,
          291300,
          78,
          287,
          95,
          2467,
          9676,
          73,
          162653,
          3032,
          8946,
          5484,
          268,
          31,
          116,
          2404,
          6916,
          210565,
          111,
          127,
          64417,
          22625,
          482,
          2243,
          7612,
          4103,
          18532,
          4624,
          6677,
          72952,
          79948,
          39164,
          956,
          219,
          24389,
          56929,
          19853,
          853,
          294,
          344,
          17994,
          176,
          649,
          165,
          34152,
          1346012,
          364,
          75,
          3049,
          1603483,
          3739,
          30826,
          169,
          1046,
          1333,
          251,
          424,
          324,
          130,
          3606,
          11282,
          26193,
          54444,
          36779,
          1114864,
          16394,
          76286,
          117276,
          2509070,
          941,
          66014,
          5780,
          8009,
          1833,
          359272,
          2137,
          10602,
          2527,
          174,
          8584,
          10576,
          210,
          209,
          1456,
          11722,
          45346,
          98,
          1048,
          52,
          65154,
          479,
          621,
          4253,
          108,
          3197,
          28596,
          11385,
          1163,
          298,
          2787,
          14252,
          180,
          249,
          172,
          285472,
          13999,
          91,
          2460,
          3220,
          7839,
          108650,
          5052,
          50035,
          26381,
          27,
          1584,
          37071,
          45402,
          58832,
          162633,
          27068,
          54504,
          77438,
          1588,
          125,
          204,
          85,
          6216,
          20,
          37761,
          3699,
          26389,
          216,
          51,
          27282,
          8885,
          18710,
          120,
          26977,
          13,
          2074225,
          3235,
          172,
          188,
          115984,
          368735,
          224,
          8169,
          395,
          36109,
          21,
          820,
          1783,
          8137,
          356377,
          4615915,
          711,
          16904,
          25645,
          669560,
          6770,
          5011,
          2891,
          5356,
          3606,
          24,
          1,
          582,
          153
         ]
        }
       ],
       "layout": {
        "geo": {
         "showcoastlines": true,
         "showframe": true
        },
        "height": 600,
        "legend": {
         "tracegroupgap": 0
        },
        "margin": {
         "t": 60
        },
        "template": {
         "data": {
          "bar": [
           {
            "error_x": {
             "color": "#2a3f5f"
            },
            "error_y": {
             "color": "#2a3f5f"
            },
            "marker": {
             "line": {
              "color": "#E5ECF6",
              "width": 0.5
             }
            },
            "type": "bar"
           }
          ],
          "barpolar": [
           {
            "marker": {
             "line": {
              "color": "#E5ECF6",
              "width": 0.5
             }
            },
            "type": "barpolar"
           }
          ],
          "carpet": [
           {
            "aaxis": {
             "endlinecolor": "#2a3f5f",
             "gridcolor": "white",
             "linecolor": "white",
             "minorgridcolor": "white",
             "startlinecolor": "#2a3f5f"
            },
            "baxis": {
             "endlinecolor": "#2a3f5f",
             "gridcolor": "white",
             "linecolor": "white",
             "minorgridcolor": "white",
             "startlinecolor": "#2a3f5f"
            },
            "type": "carpet"
           }
          ],
          "choropleth": [
           {
            "colorbar": {
             "outlinewidth": 0,
             "ticks": ""
            },
            "type": "choropleth"
           }
          ],
          "contour": [
           {
            "colorbar": {
             "outlinewidth": 0,
             "ticks": ""
            },
            "colorscale": [
             [
              0,
              "#0d0887"
             ],
             [
              0.1111111111111111,
              "#46039f"
             ],
             [
              0.2222222222222222,
              "#7201a8"
             ],
             [
              0.3333333333333333,
              "#9c179e"
             ],
             [
              0.4444444444444444,
              "#bd3786"
             ],
             [
              0.5555555555555556,
              "#d8576b"
             ],
             [
              0.6666666666666666,
              "#ed7953"
             ],
             [
              0.7777777777777778,
              "#fb9f3a"
             ],
             [
              0.8888888888888888,
              "#fdca26"
             ],
             [
              1,
              "#f0f921"
             ]
            ],
            "type": "contour"
           }
          ],
          "contourcarpet": [
           {
            "colorbar": {
             "outlinewidth": 0,
             "ticks": ""
            },
            "type": "contourcarpet"
           }
          ],
          "heatmap": [
           {
            "colorbar": {
             "outlinewidth": 0,
             "ticks": ""
            },
            "colorscale": [
             [
              0,
              "#0d0887"
             ],
             [
              0.1111111111111111,
              "#46039f"
             ],
             [
              0.2222222222222222,
              "#7201a8"
             ],
             [
              0.3333333333333333,
              "#9c179e"
             ],
             [
              0.4444444444444444,
              "#bd3786"
             ],
             [
              0.5555555555555556,
              "#d8576b"
             ],
             [
              0.6666666666666666,
              "#ed7953"
             ],
             [
              0.7777777777777778,
              "#fb9f3a"
             ],
             [
              0.8888888888888888,
              "#fdca26"
             ],
             [
              1,
              "#f0f921"
             ]
            ],
            "type": "heatmap"
           }
          ],
          "heatmapgl": [
           {
            "colorbar": {
             "outlinewidth": 0,
             "ticks": ""
            },
            "colorscale": [
             [
              0,
              "#0d0887"
             ],
             [
              0.1111111111111111,
              "#46039f"
             ],
             [
              0.2222222222222222,
              "#7201a8"
             ],
             [
              0.3333333333333333,
              "#9c179e"
             ],
             [
              0.4444444444444444,
              "#bd3786"
             ],
             [
              0.5555555555555556,
              "#d8576b"
             ],
             [
              0.6666666666666666,
              "#ed7953"
             ],
             [
              0.7777777777777778,
              "#fb9f3a"
             ],
             [
              0.8888888888888888,
              "#fdca26"
             ],
             [
              1,
              "#f0f921"
             ]
            ],
            "type": "heatmapgl"
           }
          ],
          "histogram": [
           {
            "marker": {
             "colorbar": {
              "outlinewidth": 0,
              "ticks": ""
             }
            },
            "type": "histogram"
           }
          ],
          "histogram2d": [
           {
            "colorbar": {
             "outlinewidth": 0,
             "ticks": ""
            },
            "colorscale": [
             [
              0,
              "#0d0887"
             ],
             [
              0.1111111111111111,
              "#46039f"
             ],
             [
              0.2222222222222222,
              "#7201a8"
             ],
             [
              0.3333333333333333,
              "#9c179e"
             ],
             [
              0.4444444444444444,
              "#bd3786"
             ],
             [
              0.5555555555555556,
              "#d8576b"
             ],
             [
              0.6666666666666666,
              "#ed7953"
             ],
             [
              0.7777777777777778,
              "#fb9f3a"
             ],
             [
              0.8888888888888888,
              "#fdca26"
             ],
             [
              1,
              "#f0f921"
             ]
            ],
            "type": "histogram2d"
           }
          ],
          "histogram2dcontour": [
           {
            "colorbar": {
             "outlinewidth": 0,
             "ticks": ""
            },
            "colorscale": [
             [
              0,
              "#0d0887"
             ],
             [
              0.1111111111111111,
              "#46039f"
             ],
             [
              0.2222222222222222,
              "#7201a8"
             ],
             [
              0.3333333333333333,
              "#9c179e"
             ],
             [
              0.4444444444444444,
              "#bd3786"
             ],
             [
              0.5555555555555556,
              "#d8576b"
             ],
             [
              0.6666666666666666,
              "#ed7953"
             ],
             [
              0.7777777777777778,
              "#fb9f3a"
             ],
             [
              0.8888888888888888,
              "#fdca26"
             ],
             [
              1,
              "#f0f921"
             ]
            ],
            "type": "histogram2dcontour"
           }
          ],
          "mesh3d": [
           {
            "colorbar": {
             "outlinewidth": 0,
             "ticks": ""
            },
            "type": "mesh3d"
           }
          ],
          "parcoords": [
           {
            "line": {
             "colorbar": {
              "outlinewidth": 0,
              "ticks": ""
             }
            },
            "type": "parcoords"
           }
          ],
          "pie": [
           {
            "automargin": true,
            "type": "pie"
           }
          ],
          "scatter": [
           {
            "marker": {
             "colorbar": {
              "outlinewidth": 0,
              "ticks": ""
             }
            },
            "type": "scatter"
           }
          ],
          "scatter3d": [
           {
            "line": {
             "colorbar": {
              "outlinewidth": 0,
              "ticks": ""
             }
            },
            "marker": {
             "colorbar": {
              "outlinewidth": 0,
              "ticks": ""
             }
            },
            "type": "scatter3d"
           }
          ],
          "scattercarpet": [
           {
            "marker": {
             "colorbar": {
              "outlinewidth": 0,
              "ticks": ""
             }
            },
            "type": "scattercarpet"
           }
          ],
          "scattergeo": [
           {
            "marker": {
             "colorbar": {
              "outlinewidth": 0,
              "ticks": ""
             }
            },
            "type": "scattergeo"
           }
          ],
          "scattergl": [
           {
            "marker": {
             "colorbar": {
              "outlinewidth": 0,
              "ticks": ""
             }
            },
            "type": "scattergl"
           }
          ],
          "scattermapbox": [
           {
            "marker": {
             "colorbar": {
              "outlinewidth": 0,
              "ticks": ""
             }
            },
            "type": "scattermapbox"
           }
          ],
          "scatterpolar": [
           {
            "marker": {
             "colorbar": {
              "outlinewidth": 0,
              "ticks": ""
             }
            },
            "type": "scatterpolar"
           }
          ],
          "scatterpolargl": [
           {
            "marker": {
             "colorbar": {
              "outlinewidth": 0,
              "ticks": ""
             }
            },
            "type": "scatterpolargl"
           }
          ],
          "scatterternary": [
           {
            "marker": {
             "colorbar": {
              "outlinewidth": 0,
              "ticks": ""
             }
            },
            "type": "scatterternary"
           }
          ],
          "surface": [
           {
            "colorbar": {
             "outlinewidth": 0,
             "ticks": ""
            },
            "colorscale": [
             [
              0,
              "#0d0887"
             ],
             [
              0.1111111111111111,
              "#46039f"
             ],
             [
              0.2222222222222222,
              "#7201a8"
             ],
             [
              0.3333333333333333,
              "#9c179e"
             ],
             [
              0.4444444444444444,
              "#bd3786"
             ],
             [
              0.5555555555555556,
              "#d8576b"
             ],
             [
              0.6666666666666666,
              "#ed7953"
             ],
             [
              0.7777777777777778,
              "#fb9f3a"
             ],
             [
              0.8888888888888888,
              "#fdca26"
             ],
             [
              1,
              "#f0f921"
             ]
            ],
            "type": "surface"
           }
          ],
          "table": [
           {
            "cells": {
             "fill": {
              "color": "#EBF0F8"
             },
             "line": {
              "color": "white"
             }
            },
            "header": {
             "fill": {
              "color": "#C8D4E3"
             },
             "line": {
              "color": "white"
             }
            },
            "type": "table"
           }
          ]
         },
         "layout": {
          "annotationdefaults": {
           "arrowcolor": "#2a3f5f",
           "arrowhead": 0,
           "arrowwidth": 1
          },
          "coloraxis": {
           "colorbar": {
            "outlinewidth": 0,
            "ticks": ""
           }
          },
          "colorscale": {
           "diverging": [
            [
             0,
             "#8e0152"
            ],
            [
             0.1,
             "#c51b7d"
            ],
            [
             0.2,
             "#de77ae"
            ],
            [
             0.3,
             "#f1b6da"
            ],
            [
             0.4,
             "#fde0ef"
            ],
            [
             0.5,
             "#f7f7f7"
            ],
            [
             0.6,
             "#e6f5d0"
            ],
            [
             0.7,
             "#b8e186"
            ],
            [
             0.8,
             "#7fbc41"
            ],
            [
             0.9,
             "#4d9221"
            ],
            [
             1,
             "#276419"
            ]
           ],
           "sequential": [
            [
             0,
             "#0d0887"
            ],
            [
             0.1111111111111111,
             "#46039f"
            ],
            [
             0.2222222222222222,
             "#7201a8"
            ],
            [
             0.3333333333333333,
             "#9c179e"
            ],
            [
             0.4444444444444444,
             "#bd3786"
            ],
            [
             0.5555555555555556,
             "#d8576b"
            ],
            [
             0.6666666666666666,
             "#ed7953"
            ],
            [
             0.7777777777777778,
             "#fb9f3a"
            ],
            [
             0.8888888888888888,
             "#fdca26"
            ],
            [
             1,
             "#f0f921"
            ]
           ],
           "sequentialminus": [
            [
             0,
             "#0d0887"
            ],
            [
             0.1111111111111111,
             "#46039f"
            ],
            [
             0.2222222222222222,
             "#7201a8"
            ],
            [
             0.3333333333333333,
             "#9c179e"
            ],
            [
             0.4444444444444444,
             "#bd3786"
            ],
            [
             0.5555555555555556,
             "#d8576b"
            ],
            [
             0.6666666666666666,
             "#ed7953"
            ],
            [
             0.7777777777777778,
             "#fb9f3a"
            ],
            [
             0.8888888888888888,
             "#fdca26"
            ],
            [
             1,
             "#f0f921"
            ]
           ]
          },
          "colorway": [
           "#636efa",
           "#EF553B",
           "#00cc96",
           "#ab63fa",
           "#FFA15A",
           "#19d3f3",
           "#FF6692",
           "#B6E880",
           "#FF97FF",
           "#FECB52"
          ],
          "font": {
           "color": "#2a3f5f"
          },
          "geo": {
           "bgcolor": "white",
           "lakecolor": "white",
           "landcolor": "#E5ECF6",
           "showlakes": true,
           "showland": true,
           "subunitcolor": "white"
          },
          "hoverlabel": {
           "align": "left"
          },
          "hovermode": "closest",
          "mapbox": {
           "style": "light"
          },
          "paper_bgcolor": "white",
          "plot_bgcolor": "#E5ECF6",
          "polar": {
           "angularaxis": {
            "gridcolor": "white",
            "linecolor": "white",
            "ticks": ""
           },
           "bgcolor": "#E5ECF6",
           "radialaxis": {
            "gridcolor": "white",
            "linecolor": "white",
            "ticks": ""
           }
          },
          "scene": {
           "xaxis": {
            "backgroundcolor": "#E5ECF6",
            "gridcolor": "white",
            "gridwidth": 2,
            "linecolor": "white",
            "showbackground": true,
            "ticks": "",
            "zerolinecolor": "white"
           },
           "yaxis": {
            "backgroundcolor": "#E5ECF6",
            "gridcolor": "white",
            "gridwidth": 2,
            "linecolor": "white",
            "showbackground": true,
            "ticks": "",
            "zerolinecolor": "white"
           },
           "zaxis": {
            "backgroundcolor": "#E5ECF6",
            "gridcolor": "white",
            "gridwidth": 2,
            "linecolor": "white",
            "showbackground": true,
            "ticks": "",
            "zerolinecolor": "white"
           }
          },
          "shapedefaults": {
           "line": {
            "color": "#2a3f5f"
           }
          },
          "ternary": {
           "aaxis": {
            "gridcolor": "white",
            "linecolor": "white",
            "ticks": ""
           },
           "baxis": {
            "gridcolor": "white",
            "linecolor": "white",
            "ticks": ""
           },
           "bgcolor": "#E5ECF6",
           "caxis": {
            "gridcolor": "white",
            "linecolor": "white",
            "ticks": ""
           }
          },
          "title": {
           "x": 0.05
          },
          "xaxis": {
           "automargin": true,
           "gridcolor": "white",
           "linecolor": "white",
           "ticks": "",
           "title": {
            "standoff": 15
           },
           "zerolinecolor": "white",
           "zerolinewidth": 2
          },
          "yaxis": {
           "automargin": true,
           "gridcolor": "white",
           "linecolor": "white",
           "ticks": "",
           "title": {
            "standoff": 15
           },
           "zerolinecolor": "white",
           "zerolinewidth": 2
          }
         }
        },
        "title": {
         "x": 0.5
        }
       }
      },
      "text/html": [
       "<div>\n",
       "        \n",
       "        \n",
       "            <div id=\"30aca84a-5747-4c18-b484-41fab1dd5af5\" class=\"plotly-graph-div\" style=\"height:600px; width:100%;\"></div>\n",
       "            <script type=\"text/javascript\">\n",
       "                require([\"plotly\"], function(Plotly) {\n",
       "                    window.PLOTLYENV=window.PLOTLYENV || {};\n",
       "                    \n",
       "                if (document.getElementById(\"30aca84a-5747-4c18-b484-41fab1dd5af5\")) {\n",
       "                    Plotly.newPlot(\n",
       "                        '30aca84a-5747-4c18-b484-41fab1dd5af5',\n",
       "                        [{\"domain\": {\"x\": [0.0, 1.0], \"y\": [0.0, 1.0]}, \"hoverlabel\": {\"namelength\": 0}, \"hovertemplate\": \"Country/Region=%{label}<br>Confirmed=%{value}\", \"labels\": [\"Afghanistan\", \"Albania\", \"Algeria\", \"Andorra\", \"Angola\", \"Antigua and Barbuda\", \"Argentina\", \"Armenia\", \"Australia\", \"Austria\", \"Azerbaijan\", \"Bahamas\", \"Bahrain\", \"Bangladesh\", \"Barbados\", \"Belarus\", \"Belgium\", \"Belize\", \"Benin\", \"Bhutan\", \"Bolivia\", \"Bosnia and Herzegovina\", \"Botswana\", \"Brazil\", \"Brunei\", \"Bulgaria\", \"Burkina Faso\", \"Burma\", \"Burundi\", \"Cabo Verde\", \"Cambodia\", \"Cameroon\", \"Canada\", \"Central African Republic\", \"Chad\", \"Chile\", \"Colombia\", \"Congo (Brazzaville)\", \"Congo (Kinshasa)\", \"Costa Rica\", \"Cote d'Ivoire\", \"Croatia\", \"Cuba\", \"Cyprus\", \"Czechia\", \"Denmark\", \"Diamond Princess\", \"Djibouti\", \"Dominica\", \"Dominican Republic\", \"Ecuador\", \"Egypt\", \"El Salvador\", \"Equatorial Guinea\", \"Eritrea\", \"Estonia\", \"Eswatini\", \"Ethiopia\", \"Fiji\", \"Finland\", \"France\", \"Gabon\", \"Gambia\", \"Georgia\", \"Germany\", \"Ghana\", \"Greece\", \"Grenada\", \"Guatemala\", \"Guinea\", \"Guinea-Bissau\", \"Guyana\", \"Haiti\", \"Holy See\", \"Honduras\", \"Hungary\", \"Iceland\", \"India\", \"Indonesia\", \"Iran\", \"Iraq\", \"Ireland\", \"Israel\", \"Italy\", \"Jamaica\", \"Japan\", \"Jordan\", \"Kazakhstan\", \"Kenya\", \"Korea, South\", \"Kosovo\", \"Kuwait\", \"Kyrgyzstan\", \"Laos\", \"Latvia\", \"Lebanon\", \"Liberia\", \"Libya\", \"Liechtenstein\", \"Lithuania\", \"Luxembourg\", \"MS Zaandam\", \"Madagascar\", \"Malawi\", \"Malaysia\", \"Maldives\", \"Mali\", \"Malta\", \"Mauritania\", \"Mauritius\", \"Mexico\", \"Moldova\", \"Monaco\", \"Mongolia\", \"Montenegro\", \"Morocco\", \"Mozambique\", \"Namibia\", \"Nepal\", \"Netherlands\", \"New Zealand\", \"Nicaragua\", \"Niger\", \"Nigeria\", \"North Macedonia\", \"Norway\", \"Oman\", \"Pakistan\", \"Panama\", \"Papua New Guinea\", \"Paraguay\", \"Peru\", \"Philippines\", \"Poland\", \"Portugal\", \"Qatar\", \"Romania\", \"Russia\", \"Rwanda\", \"Saint Kitts and Nevis\", \"Saint Lucia\", \"Saint Vincent and the Grenadines\", \"San Marino\", \"Sao Tome and Principe\", \"Saudi Arabia\", \"Senegal\", \"Serbia\", \"Seychelles\", \"Sierra Leone\", \"Singapore\", \"Slovakia\", \"Slovenia\", \"Somalia\", \"South Africa\", \"South Sudan\", \"Spain\", \"Sri Lanka\", \"Sudan\", \"Suriname\", \"Sweden\", \"Switzerland\", \"Syria\", \"Taiwan*\", \"Tanzania\", \"Thailand\", \"Timor-Leste\", \"Togo\", \"Trinidad and Tobago\", \"Tunisia\", \"Turkey\", \"US\", \"Uganda\", \"Ukraine\", \"United Arab Emirates\", \"United Kingdom\", \"Uruguay\", \"Uzbekistan\", \"Venezuela\", \"Vietnam\", \"West Bank and Gaza\", \"Western Sahara\", \"Yemen\", \"Zambia\", \"Zimbabwe\"], \"legendgroup\": \"\", \"name\": \"\", \"showlegend\": true, \"textinfo\": \"percent+label\", \"textposition\": \"inside\", \"type\": \"pie\", \"values\": [4903, 5751, 18293, 7829, 186, 213, 21550, 12086, 92718, 206694, 8332, 409, 15406, 2134, 813, 9381, 291300, 78, 287, 95, 2467, 9676, 73, 162653, 3032, 8946, 5484, 268, 31, 116, 2404, 6916, 210565, 111, 127, 64417, 22625, 482, 2243, 7612, 4103, 18532, 4624, 6677, 72952, 79948, 39164, 956, 219, 24389, 56929, 19853, 853, 294, 344, 17994, 176, 649, 165, 34152, 1346012, 364, 75, 3049, 1603483, 3739, 30826, 169, 1046, 1333, 251, 424, 324, 130, 3606, 11282, 26193, 54444, 36779, 1114864, 16394, 76286, 117276, 2509070, 941, 66014, 5780, 8009, 1833, 359272, 2137, 10602, 2527, 174, 8584, 10576, 210, 209, 1456, 11722, 45346, 98, 1048, 52, 65154, 479, 621, 4253, 108, 3197, 28596, 11385, 1163, 298, 2787, 14252, 180, 249, 172, 285472, 13999, 91, 2460, 3220, 7839, 108650, 5052, 50035, 26381, 27, 1584, 37071, 45402, 58832, 162633, 27068, 54504, 77438, 1588, 125, 204, 85, 6216, 20, 37761, 3699, 26389, 216, 51, 27282, 8885, 18710, 120, 26977, 13, 2074225, 3235, 172, 188, 115984, 368735, 224, 8169, 395, 36109, 21, 820, 1783, 8137, 356377, 4615915, 711, 16904, 25645, 669560, 6770, 5011, 2891, 5356, 3606, 24, 1, 582, 153]}],\n",
       "                        {\"geo\": {\"showcoastlines\": true, \"showframe\": true}, \"height\": 600, \"legend\": {\"tracegroupgap\": 0}, \"margin\": {\"t\": 60}, \"template\": {\"data\": {\"bar\": [{\"error_x\": {\"color\": \"#2a3f5f\"}, \"error_y\": {\"color\": \"#2a3f5f\"}, \"marker\": {\"line\": {\"color\": \"#E5ECF6\", \"width\": 0.5}}, \"type\": \"bar\"}], \"barpolar\": [{\"marker\": {\"line\": {\"color\": \"#E5ECF6\", \"width\": 0.5}}, \"type\": \"barpolar\"}], \"carpet\": [{\"aaxis\": {\"endlinecolor\": \"#2a3f5f\", \"gridcolor\": \"white\", \"linecolor\": \"white\", \"minorgridcolor\": \"white\", \"startlinecolor\": \"#2a3f5f\"}, \"baxis\": {\"endlinecolor\": \"#2a3f5f\", \"gridcolor\": \"white\", \"linecolor\": \"white\", \"minorgridcolor\": \"white\", \"startlinecolor\": \"#2a3f5f\"}, \"type\": \"carpet\"}], \"choropleth\": [{\"colorbar\": {\"outlinewidth\": 0, \"ticks\": \"\"}, \"type\": \"choropleth\"}], \"contour\": [{\"colorbar\": {\"outlinewidth\": 0, \"ticks\": \"\"}, \"colorscale\": [[0.0, \"#0d0887\"], [0.1111111111111111, \"#46039f\"], [0.2222222222222222, \"#7201a8\"], [0.3333333333333333, \"#9c179e\"], [0.4444444444444444, \"#bd3786\"], [0.5555555555555556, \"#d8576b\"], [0.6666666666666666, \"#ed7953\"], [0.7777777777777778, \"#fb9f3a\"], [0.8888888888888888, \"#fdca26\"], [1.0, \"#f0f921\"]], \"type\": \"contour\"}], \"contourcarpet\": [{\"colorbar\": {\"outlinewidth\": 0, \"ticks\": \"\"}, \"type\": \"contourcarpet\"}], \"heatmap\": [{\"colorbar\": {\"outlinewidth\": 0, \"ticks\": \"\"}, \"colorscale\": [[0.0, \"#0d0887\"], [0.1111111111111111, \"#46039f\"], [0.2222222222222222, \"#7201a8\"], [0.3333333333333333, \"#9c179e\"], [0.4444444444444444, \"#bd3786\"], [0.5555555555555556, \"#d8576b\"], [0.6666666666666666, \"#ed7953\"], [0.7777777777777778, \"#fb9f3a\"], [0.8888888888888888, \"#fdca26\"], [1.0, \"#f0f921\"]], \"type\": \"heatmap\"}], \"heatmapgl\": [{\"colorbar\": {\"outlinewidth\": 0, \"ticks\": \"\"}, \"colorscale\": [[0.0, \"#0d0887\"], [0.1111111111111111, \"#46039f\"], [0.2222222222222222, \"#7201a8\"], [0.3333333333333333, \"#9c179e\"], [0.4444444444444444, \"#bd3786\"], [0.5555555555555556, \"#d8576b\"], [0.6666666666666666, \"#ed7953\"], [0.7777777777777778, \"#fb9f3a\"], [0.8888888888888888, \"#fdca26\"], [1.0, \"#f0f921\"]], \"type\": \"heatmapgl\"}], \"histogram\": [{\"marker\": {\"colorbar\": {\"outlinewidth\": 0, \"ticks\": \"\"}}, \"type\": \"histogram\"}], \"histogram2d\": [{\"colorbar\": {\"outlinewidth\": 0, \"ticks\": \"\"}, \"colorscale\": [[0.0, \"#0d0887\"], [0.1111111111111111, \"#46039f\"], [0.2222222222222222, \"#7201a8\"], [0.3333333333333333, \"#9c179e\"], [0.4444444444444444, \"#bd3786\"], [0.5555555555555556, \"#d8576b\"], [0.6666666666666666, \"#ed7953\"], [0.7777777777777778, \"#fb9f3a\"], [0.8888888888888888, \"#fdca26\"], [1.0, \"#f0f921\"]], \"type\": \"histogram2d\"}], \"histogram2dcontour\": [{\"colorbar\": {\"outlinewidth\": 0, \"ticks\": \"\"}, \"colorscale\": [[0.0, \"#0d0887\"], [0.1111111111111111, \"#46039f\"], [0.2222222222222222, \"#7201a8\"], [0.3333333333333333, \"#9c179e\"], [0.4444444444444444, \"#bd3786\"], [0.5555555555555556, \"#d8576b\"], [0.6666666666666666, \"#ed7953\"], [0.7777777777777778, \"#fb9f3a\"], [0.8888888888888888, \"#fdca26\"], [1.0, \"#f0f921\"]], \"type\": \"histogram2dcontour\"}], \"mesh3d\": [{\"colorbar\": {\"outlinewidth\": 0, \"ticks\": \"\"}, \"type\": \"mesh3d\"}], \"parcoords\": [{\"line\": {\"colorbar\": {\"outlinewidth\": 0, \"ticks\": \"\"}}, \"type\": \"parcoords\"}], \"pie\": [{\"automargin\": true, \"type\": \"pie\"}], \"scatter\": [{\"marker\": {\"colorbar\": {\"outlinewidth\": 0, \"ticks\": \"\"}}, \"type\": \"scatter\"}], \"scatter3d\": [{\"line\": {\"colorbar\": {\"outlinewidth\": 0, \"ticks\": \"\"}}, \"marker\": {\"colorbar\": {\"outlinewidth\": 0, \"ticks\": \"\"}}, \"type\": \"scatter3d\"}], \"scattercarpet\": [{\"marker\": {\"colorbar\": {\"outlinewidth\": 0, \"ticks\": \"\"}}, \"type\": \"scattercarpet\"}], \"scattergeo\": [{\"marker\": {\"colorbar\": {\"outlinewidth\": 0, \"ticks\": \"\"}}, \"type\": \"scattergeo\"}], \"scattergl\": [{\"marker\": {\"colorbar\": {\"outlinewidth\": 0, \"ticks\": \"\"}}, \"type\": \"scattergl\"}], \"scattermapbox\": [{\"marker\": {\"colorbar\": {\"outlinewidth\": 0, \"ticks\": \"\"}}, \"type\": \"scattermapbox\"}], \"scatterpolar\": [{\"marker\": {\"colorbar\": {\"outlinewidth\": 0, \"ticks\": \"\"}}, \"type\": \"scatterpolar\"}], \"scatterpolargl\": [{\"marker\": {\"colorbar\": {\"outlinewidth\": 0, \"ticks\": \"\"}}, \"type\": \"scatterpolargl\"}], \"scatterternary\": [{\"marker\": {\"colorbar\": {\"outlinewidth\": 0, \"ticks\": \"\"}}, \"type\": \"scatterternary\"}], \"surface\": [{\"colorbar\": {\"outlinewidth\": 0, \"ticks\": \"\"}, \"colorscale\": [[0.0, \"#0d0887\"], [0.1111111111111111, \"#46039f\"], [0.2222222222222222, \"#7201a8\"], [0.3333333333333333, \"#9c179e\"], [0.4444444444444444, \"#bd3786\"], [0.5555555555555556, \"#d8576b\"], [0.6666666666666666, \"#ed7953\"], [0.7777777777777778, \"#fb9f3a\"], [0.8888888888888888, \"#fdca26\"], [1.0, \"#f0f921\"]], \"type\": \"surface\"}], \"table\": [{\"cells\": {\"fill\": {\"color\": \"#EBF0F8\"}, \"line\": {\"color\": \"white\"}}, \"header\": {\"fill\": {\"color\": \"#C8D4E3\"}, \"line\": {\"color\": \"white\"}}, \"type\": \"table\"}]}, \"layout\": {\"annotationdefaults\": {\"arrowcolor\": \"#2a3f5f\", \"arrowhead\": 0, \"arrowwidth\": 1}, \"coloraxis\": {\"colorbar\": {\"outlinewidth\": 0, \"ticks\": \"\"}}, \"colorscale\": {\"diverging\": [[0, \"#8e0152\"], [0.1, \"#c51b7d\"], [0.2, \"#de77ae\"], [0.3, \"#f1b6da\"], [0.4, \"#fde0ef\"], [0.5, \"#f7f7f7\"], [0.6, \"#e6f5d0\"], [0.7, \"#b8e186\"], [0.8, \"#7fbc41\"], [0.9, \"#4d9221\"], [1, \"#276419\"]], \"sequential\": [[0.0, \"#0d0887\"], [0.1111111111111111, \"#46039f\"], [0.2222222222222222, \"#7201a8\"], [0.3333333333333333, \"#9c179e\"], [0.4444444444444444, \"#bd3786\"], [0.5555555555555556, \"#d8576b\"], [0.6666666666666666, \"#ed7953\"], [0.7777777777777778, \"#fb9f3a\"], [0.8888888888888888, \"#fdca26\"], [1.0, \"#f0f921\"]], \"sequentialminus\": [[0.0, \"#0d0887\"], [0.1111111111111111, \"#46039f\"], [0.2222222222222222, \"#7201a8\"], [0.3333333333333333, \"#9c179e\"], [0.4444444444444444, \"#bd3786\"], [0.5555555555555556, \"#d8576b\"], [0.6666666666666666, \"#ed7953\"], [0.7777777777777778, \"#fb9f3a\"], [0.8888888888888888, \"#fdca26\"], [1.0, \"#f0f921\"]]}, \"colorway\": [\"#636efa\", \"#EF553B\", \"#00cc96\", \"#ab63fa\", \"#FFA15A\", \"#19d3f3\", \"#FF6692\", \"#B6E880\", \"#FF97FF\", \"#FECB52\"], \"font\": {\"color\": \"#2a3f5f\"}, \"geo\": {\"bgcolor\": \"white\", \"lakecolor\": \"white\", \"landcolor\": \"#E5ECF6\", \"showlakes\": true, \"showland\": true, \"subunitcolor\": \"white\"}, \"hoverlabel\": {\"align\": \"left\"}, \"hovermode\": \"closest\", \"mapbox\": {\"style\": \"light\"}, \"paper_bgcolor\": \"white\", \"plot_bgcolor\": \"#E5ECF6\", \"polar\": {\"angularaxis\": {\"gridcolor\": \"white\", \"linecolor\": \"white\", \"ticks\": \"\"}, \"bgcolor\": \"#E5ECF6\", \"radialaxis\": {\"gridcolor\": \"white\", \"linecolor\": \"white\", \"ticks\": \"\"}}, \"scene\": {\"xaxis\": {\"backgroundcolor\": \"#E5ECF6\", \"gridcolor\": \"white\", \"gridwidth\": 2, \"linecolor\": \"white\", \"showbackground\": true, \"ticks\": \"\", \"zerolinecolor\": \"white\"}, \"yaxis\": {\"backgroundcolor\": \"#E5ECF6\", \"gridcolor\": \"white\", \"gridwidth\": 2, \"linecolor\": \"white\", \"showbackground\": true, \"ticks\": \"\", \"zerolinecolor\": \"white\"}, \"zaxis\": {\"backgroundcolor\": \"#E5ECF6\", \"gridcolor\": \"white\", \"gridwidth\": 2, \"linecolor\": \"white\", \"showbackground\": true, \"ticks\": \"\", \"zerolinecolor\": \"white\"}}, \"shapedefaults\": {\"line\": {\"color\": \"#2a3f5f\"}}, \"ternary\": {\"aaxis\": {\"gridcolor\": \"white\", \"linecolor\": \"white\", \"ticks\": \"\"}, \"baxis\": {\"gridcolor\": \"white\", \"linecolor\": \"white\", \"ticks\": \"\"}, \"bgcolor\": \"#E5ECF6\", \"caxis\": {\"gridcolor\": \"white\", \"linecolor\": \"white\", \"ticks\": \"\"}}, \"title\": {\"x\": 0.05}, \"xaxis\": {\"automargin\": true, \"gridcolor\": \"white\", \"linecolor\": \"white\", \"ticks\": \"\", \"title\": {\"standoff\": 15}, \"zerolinecolor\": \"white\", \"zerolinewidth\": 2}, \"yaxis\": {\"automargin\": true, \"gridcolor\": \"white\", \"linecolor\": \"white\", \"ticks\": \"\", \"title\": {\"standoff\": 15}, \"zerolinecolor\": \"white\", \"zerolinewidth\": 2}}}, \"title\": {\"x\": 0.5}},\n",
       "                        {\"responsive\": true}\n",
       "                    ).then(function(){\n",
       "                            \n",
       "var gd = document.getElementById('30aca84a-5747-4c18-b484-41fab1dd5af5');\n",
       "var x = new MutationObserver(function (mutations, observer) {{\n",
       "        var display = window.getComputedStyle(gd).display;\n",
       "        if (!display || display === 'none') {{\n",
       "            console.log([gd, 'removed!']);\n",
       "            Plotly.purge(gd);\n",
       "            observer.disconnect();\n",
       "        }}\n",
       "}});\n",
       "\n",
       "// Listen for the removal of the full notebook cells\n",
       "var notebookContainer = gd.closest('#notebook-container');\n",
       "if (notebookContainer) {{\n",
       "    x.observe(notebookContainer, {childList: true});\n",
       "}}\n",
       "\n",
       "// Listen for the clearing of the current output cell\n",
       "var outputEl = gd.closest('.output');\n",
       "if (outputEl) {{\n",
       "    x.observe(outputEl, {childList: true});\n",
       "}}\n",
       "\n",
       "                        })\n",
       "                };\n",
       "                });\n",
       "            </script>\n",
       "        </div>"
      ]
     },
     "metadata": {},
     "output_type": "display_data"
    },
    {
     "data": {
      "text/plain": [
       "<Figure size 432x288 with 0 Axes>"
      ]
     },
     "metadata": {},
     "output_type": "display_data"
    }
   ],
   "source": [
    "fig = px.pie(date, values = 'Confirmed',names='Country/Region', height=600)\n",
    "fig.update_traces(textposition='inside', textinfo='percent+label')\n",
    "\n",
    "fig.update_layout(\n",
    "    title_x = 0.5,\n",
    "    geo=dict(\n",
    "        showframe = True,\n",
    "        showcoastlines = True,\n",
    "    ))\n",
    "fig.show()\n",
    "plt.savefig('risk_countries.png')"
   ]
  },
  {
   "cell_type": "raw",
   "metadata": {},
   "source": [
    "# Data vizualisation for th etop 30 high ranked countries"
   ]
  },
  {
   "cell_type": "code",
   "execution_count": 184,
   "metadata": {},
   "outputs": [
    {
     "data": {
      "text/plain": [
       "array(['Afghanistan', 'Albania', 'Algeria', 'Andorra', 'Angola',\n",
       "       'Antigua and Barbuda', 'Argentina', 'Armenia', 'Australia',\n",
       "       'Austria', 'Azerbaijan', 'Bahamas', 'Bahrain', 'Bangladesh',\n",
       "       'Barbados', 'Belarus', 'Belgium', 'Belize', 'Benin', 'Bhutan',\n",
       "       'Bolivia', 'Bosnia and Herzegovina', 'Botswana', 'Brazil',\n",
       "       'Brunei', 'Bulgaria', 'Burkina Faso', 'Burma', 'Burundi',\n",
       "       'Cabo Verde', 'Cambodia', 'Cameroon', 'Canada',\n",
       "       'Central African Republic', 'Chad', 'Chile', 'China', 'Colombia',\n",
       "       'Congo (Brazzaville)', 'Congo (Kinshasa)', 'Costa Rica',\n",
       "       \"Cote d'Ivoire\", 'Croatia', 'Cuba', 'Cyprus', 'Czechia', 'Denmark',\n",
       "       'Diamond Princess', 'Djibouti', 'Dominica', 'Dominican Republic',\n",
       "       'Ecuador', 'Egypt', 'El Salvador', 'Equatorial Guinea', 'Eritrea',\n",
       "       'Estonia', 'Eswatini', 'Ethiopia', 'Fiji', 'Finland', 'France',\n",
       "       'Gabon', 'Gambia', 'Georgia', 'Germany', 'Ghana', 'Greece',\n",
       "       'Grenada', 'Guatemala', 'Guinea', 'Guinea-Bissau', 'Guyana',\n",
       "       'Haiti', 'Holy See', 'Honduras', 'Hungary', 'Iceland', 'India',\n",
       "       'Indonesia', 'Iran', 'Iraq', 'Ireland', 'Israel', 'Italy',\n",
       "       'Jamaica', 'Japan', 'Jordan', 'Kazakhstan', 'Kenya',\n",
       "       'Korea, South', 'Kosovo', 'Kuwait', 'Kyrgyzstan', 'Laos', 'Latvia',\n",
       "       'Lebanon', 'Liberia', 'Libya', 'Liechtenstein', 'Lithuania',\n",
       "       'Luxembourg', 'MS Zaandam', 'Madagascar', 'Malawi', 'Malaysia',\n",
       "       'Maldives', 'Mali', 'Malta', 'Mauritania', 'Mauritius', 'Mexico',\n",
       "       'Moldova', 'Monaco', 'Mongolia', 'Montenegro', 'Morocco',\n",
       "       'Mozambique', 'Namibia', 'Nepal', 'Netherlands', 'New Zealand',\n",
       "       'Nicaragua', 'Niger', 'Nigeria', 'North Macedonia', 'Norway',\n",
       "       'Oman', 'Pakistan', 'Panama', 'Papua New Guinea', 'Paraguay',\n",
       "       'Peru', 'Philippines', 'Poland', 'Portugal', 'Qatar', 'Romania',\n",
       "       'Russia', 'Rwanda', 'Saint Kitts and Nevis', 'Saint Lucia',\n",
       "       'Saint Vincent and the Grenadines', 'San Marino',\n",
       "       'Sao Tome and Principe', 'Saudi Arabia', 'Senegal', 'Serbia',\n",
       "       'Seychelles', 'Sierra Leone', 'Singapore', 'Slovakia', 'Slovenia',\n",
       "       'Somalia', 'South Africa', 'South Sudan', 'Spain', 'Sri Lanka',\n",
       "       'Sudan', 'Suriname', 'Sweden', 'Switzerland', 'Syria', 'Taiwan*',\n",
       "       'Tanzania', 'Thailand', 'Timor-Leste', 'Togo',\n",
       "       'Trinidad and Tobago', 'Tunisia', 'Turkey', 'US', 'Uganda',\n",
       "       'Ukraine', 'United Arab Emirates', 'United Kingdom', 'Uruguay',\n",
       "       'Uzbekistan', 'Venezuela', 'Vietnam', 'West Bank and Gaza',\n",
       "       'Western Sahara', 'Yemen', 'Zambia', 'Zimbabwe'], dtype=object)"
      ]
     },
     "execution_count": 184,
     "metadata": {},
     "output_type": "execute_result"
    }
   ],
   "source": [
    "data_covid19_cleaned['Country/Region'].unique()"
   ]
  },
  {
   "cell_type": "code",
   "execution_count": 185,
   "metadata": {},
   "outputs": [],
   "source": [
    "Thailand=data_covid19_cleaned.loc[(data_covid19_cleaned['Country/Region'] == 'Thailand')]\n",
    "Japan=data_covid19_cleaned.loc[(data_covid19_cleaned['Country/Region'] == 'Japan')]\n",
    "#Hong_Kong=data_covid19_cleaned.loc[(data_covid19_cleaned['Country/Region'] == 'Tunisia')]\n",
    "Taiwan=data_covid19_cleaned.loc[(data_covid19_cleaned['Country/Region'] == 'Taiwan*')]\n",
    "South_Korea=data_covid19_cleaned.loc[(data_covid19_cleaned['Country/Region'] == 'Korea, South')]\n",
    "United_States=data_covid19_cleaned.loc[(data_covid19_cleaned['Country/Region'] == 'US')]\n",
    "Malaysia=data_covid19_cleaned.loc[(data_covid19_cleaned['Country/Region'] == 'Malaysia')]\n",
    "Singapore=data_covid19_cleaned.loc[(data_covid19_cleaned['Country/Region'] == 'Singapore')]\n",
    "Vietnam=data_covid19_cleaned.loc[(data_covid19_cleaned['Country/Region'] == 'Vietnam')]\n",
    "Australia=data_covid19_cleaned.loc[(data_covid19_cleaned['Country/Region'] == 'Australia')]\n",
    "Indonesia=data_covid19_cleaned.loc[(data_covid19_cleaned['Country/Region'] == 'Indonesia')]\n",
    "Cambodia=data_covid19_cleaned.loc[(data_covid19_cleaned['Country/Region'] == 'Cambodia')]\n",
    "#Myanmar=data_covid19_cleaned.loc[(data_covid19_cleaned['Country/Region'] == 'Egypt')]\n",
    "Netherlands=data_covid19_cleaned.loc[(data_covid19_cleaned['Country/Region'] == 'Netherlands')]\n",
    "Maldives=data_covid19_cleaned.loc[(data_covid19_cleaned['Country/Region'] == 'Maldives')]\n",
    "\n",
    "Sri_Lanka=data_covid19_cleaned.loc[(data_covid19_cleaned['Country/Region'] == 'Sri Lanka')]\n",
    "Egypt=data_covid19_cleaned.loc[(data_covid19_cleaned['Country/Region'] == 'Egypt')]\n",
    "Turkey=data_covid19_cleaned.loc[(data_covid19_cleaned['Country/Region'] == 'Turkey')]\n",
    "Spain=data_covid19_cleaned.loc[(data_covid19_cleaned['Country/Region'] == 'Spain')]\n",
    "India=data_covid19_cleaned.loc[(data_covid19_cleaned['Country/Region'] == 'India')]\n",
    "\n",
    "\n",
    "New_Zeland=data_covid19_cleaned.loc[(data_covid19_cleaned['Country/Region'] == 'New Zealand')]\n",
    "France=data_covid19_cleaned.loc[(data_covid19_cleaned['Country/Region'] == 'France')]\n",
    "Russia=data_covid19_cleaned.loc[(data_covid19_cleaned['Country/Region'] == 'Russia')]\n",
    "Italy=data_covid19_cleaned.loc[(data_covid19_cleaned['Country/Region'] == 'Italy')]\n",
    "Philippines=data_covid19_cleaned.loc[(data_covid19_cleaned['Country/Region'] == 'Philippines')]\n",
    "Germany=data_covid19_cleaned.loc[(data_covid19_cleaned['Country/Region'] == 'Germany')]\n",
    "Canada=data_covid19_cleaned.loc[(data_covid19_cleaned['Country/Region'] == 'Canada')]\n",
    "United_Kingdom=data_covid19_cleaned.loc[(data_covid19_cleaned['Country/Region'] == 'United Kingdom')]\n",
    "United_Arab_Emirates=data_covid19_cleaned.loc[(data_covid19_cleaned['Country/Region'] == 'United Arab Emirates')]"
   ]
  },
  {
   "cell_type": "code",
   "execution_count": null,
   "metadata": {},
   "outputs": [],
   "source": []
  },
  {
   "cell_type": "code",
   "execution_count": 186,
   "metadata": {},
   "outputs": [
    {
     "ename": "NameError",
     "evalue": "name 'plot_Senegal' is not defined",
     "output_type": "error",
     "traceback": [
      "\u001b[0;31m---------------------------------------------------------------------------\u001b[0m",
      "\u001b[0;31mNameError\u001b[0m                                 Traceback (most recent call last)",
      "\u001b[0;32m<ipython-input-186-a6fec139ea18>\u001b[0m in \u001b[0;36m<module>\u001b[0;34m\u001b[0m\n\u001b[1;32m      1\u001b[0m \u001b[0mplt\u001b[0m\u001b[0;34m.\u001b[0m\u001b[0mfigure\u001b[0m\u001b[0;34m(\u001b[0m\u001b[0mfigsize\u001b[0m\u001b[0;34m=\u001b[0m\u001b[0;34m(\u001b[0m\u001b[0;36m14\u001b[0m\u001b[0;34m,\u001b[0m \u001b[0;36m7\u001b[0m\u001b[0;34m)\u001b[0m\u001b[0;34m)\u001b[0m\u001b[0;34m\u001b[0m\u001b[0;34m\u001b[0m\u001b[0m\n\u001b[0;32m----> 2\u001b[0;31m \u001b[0mplt\u001b[0m\u001b[0;34m.\u001b[0m\u001b[0mplot\u001b[0m\u001b[0;34m(\u001b[0m\u001b[0mplot_Senegal\u001b[0m\u001b[0;34m[\u001b[0m\u001b[0;34m'Date'\u001b[0m\u001b[0;34m]\u001b[0m\u001b[0;34m,\u001b[0m \u001b[0mThailand\u001b[0m\u001b[0;34m[\u001b[0m\u001b[0;34m'Confirmed'\u001b[0m\u001b[0;34m]\u001b[0m\u001b[0;34m)\u001b[0m\u001b[0;34m\u001b[0m\u001b[0;34m\u001b[0m\u001b[0m\n\u001b[0m\u001b[1;32m      3\u001b[0m \u001b[0mplt\u001b[0m\u001b[0;34m.\u001b[0m\u001b[0mplot\u001b[0m\u001b[0;34m(\u001b[0m\u001b[0mplot_Senegal\u001b[0m\u001b[0;34m[\u001b[0m\u001b[0;34m'Date'\u001b[0m\u001b[0;34m]\u001b[0m\u001b[0;34m,\u001b[0m \u001b[0mJapan\u001b[0m\u001b[0;34m[\u001b[0m\u001b[0;34m'Confirmed'\u001b[0m\u001b[0;34m]\u001b[0m\u001b[0;34m)\u001b[0m\u001b[0;34m\u001b[0m\u001b[0;34m\u001b[0m\u001b[0m\n\u001b[1;32m      4\u001b[0m \u001b[0mplt\u001b[0m\u001b[0;34m.\u001b[0m\u001b[0mplot\u001b[0m\u001b[0;34m(\u001b[0m\u001b[0mplot_Senegal\u001b[0m\u001b[0;34m[\u001b[0m\u001b[0;34m'Date'\u001b[0m\u001b[0;34m]\u001b[0m\u001b[0;34m,\u001b[0m \u001b[0mTaiwan\u001b[0m\u001b[0;34m[\u001b[0m\u001b[0;34m'Confirmed'\u001b[0m\u001b[0;34m]\u001b[0m\u001b[0;34m)\u001b[0m\u001b[0;34m\u001b[0m\u001b[0;34m\u001b[0m\u001b[0m\n\u001b[1;32m      5\u001b[0m \u001b[0mplt\u001b[0m\u001b[0;34m.\u001b[0m\u001b[0mplot\u001b[0m\u001b[0;34m(\u001b[0m\u001b[0mplot_Senegal\u001b[0m\u001b[0;34m[\u001b[0m\u001b[0;34m'Date'\u001b[0m\u001b[0;34m]\u001b[0m\u001b[0;34m,\u001b[0m \u001b[0mSouth_Korea\u001b[0m\u001b[0;34m[\u001b[0m\u001b[0;34m'Confirmed'\u001b[0m\u001b[0;34m]\u001b[0m\u001b[0;34m)\u001b[0m\u001b[0;34m\u001b[0m\u001b[0;34m\u001b[0m\u001b[0m\n",
      "\u001b[0;31mNameError\u001b[0m: name 'plot_Senegal' is not defined"
     ]
    },
    {
     "data": {
      "text/plain": [
       "<Figure size 1008x504 with 0 Axes>"
      ]
     },
     "metadata": {},
     "output_type": "display_data"
    }
   ],
   "source": [
    "plt.figure(figsize=(14, 7))\n",
    "plt.plot(plot_Senegal['Date'], Thailand['Confirmed']) \n",
    "plt.plot(plot_Senegal['Date'], Japan['Confirmed']) \n",
    "plt.plot(plot_Senegal['Date'], Taiwan['Confirmed']) \n",
    "plt.plot(plot_Senegal['Date'], South_Korea['Confirmed']) \n",
    "plt.plot(plot_Senegal['Date'], United_States['Confirmed']) \n",
    "\n",
    "plt.plot(plot_Senegal['Date'], Malaysia['Confirmed']) \n",
    "plt.plot(plot_Senegal['Date'], Singapore['Confirmed']) \n",
    "plt.plot(plot_Senegal['Date'], Vietnam['Confirmed']) \n",
    "plt.plot(plot_Senegal['Date'], Australia['Confirmed']) \n",
    "plt.plot(plot_Senegal['Date'], Indonesia['Confirmed']) \n",
    "\n",
    "plt.plot(plot_Senegal['Date'], Netherlands['Confirmed']) \n",
    "plt.plot(plot_Senegal['Date'], Maldives['Confirmed']) \n",
    "plt.plot(plot_Senegal['Date'], Sri_Lanka['Confirmed']) \n",
    "plt.plot(plot_Senegal['Date'], Egypt['Confirmed']) \n",
    "plt.plot(plot_Senegal['Date'], Turkey['Confirmed']) \n",
    "plt.plot(plot_Senegal['Date'], Spain['Confirmed']) \n",
    "plt.plot(plot_Senegal['Date'], India['Confirmed']) \n",
    "plt.plot(plot_Senegal['Date'], New_Zeland['Confirmed']) \n",
    "plt.plot(plot_Senegal['Date'], France['Confirmed']) \n",
    "plt.plot(plot_Senegal['Date'], Russia['Confirmed']) \n",
    " \n",
    "plt.plot(plot_Senegal['Date'], Italy['Confirmed']) \n",
    "plt.plot(plot_Senegal['Date'], Philippines['Confirmed']) \n",
    "plt.plot(plot_Senegal['Date'], Germany['Confirmed']) \n",
    "plt.plot(plot_Senegal['Date'], United_Kingdom['Confirmed']) \n",
    "plt.plot(plot_Senegal['Date'], United_Arab_Emirates['Confirmed']) \n",
    "plt.grid()\n",
    "#plt.title('# of Coronavirus Cases', size=30)\n",
    "plt.xlabel('Observation date', size=20)\n",
    "plt.ylabel('Infected cases', size=20)\n",
    "\n",
    "plt.legend(['Thailand','Japan','Taiwan','South_Korea','United_States','Malaysia','Singapore','Vietnam','Australia','Indonesia','Netherlands', 'Maldives', 'Sri_Lanka', 'Egypt', 'Turkey', 'Spain', 'India', 'New_Zeland', 'France', 'Russia','Italy','Philippines','United_Kingdom','United_Arab_Emirates'],loc=0)\n",
    "plt.xticks(size=10)\n",
    "plt.yticks(size=10)\n",
    "\n",
    "plt.show()"
   ]
  },
  {
   "cell_type": "code",
   "execution_count": null,
   "metadata": {},
   "outputs": [],
   "source": []
  },
  {
   "cell_type": "code",
   "execution_count": null,
   "metadata": {},
   "outputs": [],
   "source": []
  },
  {
   "cell_type": "code",
   "execution_count": 187,
   "metadata": {
    "scrolled": true
   },
   "outputs": [
    {
     "data": {
      "text/html": [
       "<div>\n",
       "<style scoped>\n",
       "    .dataframe tbody tr th:only-of-type {\n",
       "        vertical-align: middle;\n",
       "    }\n",
       "\n",
       "    .dataframe tbody tr th {\n",
       "        vertical-align: top;\n",
       "    }\n",
       "\n",
       "    .dataframe thead th {\n",
       "        text-align: right;\n",
       "    }\n",
       "</style>\n",
       "<table border=\"1\" class=\"dataframe\">\n",
       "  <thead>\n",
       "    <tr style=\"text-align: right;\">\n",
       "      <th></th>\n",
       "      <th>Country/Region</th>\n",
       "      <th>Date</th>\n",
       "      <th>Lat</th>\n",
       "      <th>Long</th>\n",
       "      <th>Confirmed</th>\n",
       "      <th>humidity</th>\n",
       "      <th>temperature</th>\n",
       "      <th>wind</th>\n",
       "    </tr>\n",
       "  </thead>\n",
       "  <tbody>\n",
       "  </tbody>\n",
       "</table>\n",
       "</div>"
      ],
      "text/plain": [
       "Empty DataFrame\n",
       "Columns: [Country/Region, Date, Lat, Long, Confirmed, humidity, temperature, wind]\n",
       "Index: []"
      ]
     },
     "execution_count": 187,
     "metadata": {},
     "output_type": "execute_result"
    }
   ],
   "source": [
    "data_covid19_cleaned.loc[(data_covid19_cleaned['Country/Region'] == 'Ghana') & (data_covid19_cleaned['Date'] == '2020-03-15') ]"
   ]
  },
  {
   "cell_type": "code",
   "execution_count": 188,
   "metadata": {},
   "outputs": [
    {
     "data": {
      "text/plain": [
       "Lat             7.946500\n",
       "Long           -1.023200\n",
       "Confirmed      46.737500\n",
       "humidity       68.408854\n",
       "temperature    29.592766\n",
       "wind            3.484266\n",
       "dtype: float64"
      ]
     },
     "execution_count": 188,
     "metadata": {},
     "output_type": "execute_result"
    }
   ],
   "source": [
    "mask=(data_covid19_cleaned['Country/Region']=='Ghana') & (data_covid19_cleaned['Date'] >= '2020-01-22') & (data_covid19_cleaned['Date'] <= '2020-03-15') \n",
    "country_one = data_covid19_cleaned.loc[mask]\n",
    "country_one.mean()"
   ]
  },
  {
   "cell_type": "markdown",
   "metadata": {},
   "source": [
    "## Vizualizing Africa"
   ]
  },
  {
   "cell_type": "code",
   "execution_count": 189,
   "metadata": {},
   "outputs": [],
   "source": [
    "plot_Senegal=data_covid19_cleaned.loc[(data_covid19_cleaned['Country/Region'] == 'Senegal')]\n",
    "plot_Nigeria=data_covid19_cleaned.loc[(data_covid19_cleaned['Country/Region'] == 'Nigeria')]\n",
    "plot_Tunisia=data_covid19_cleaned.loc[(data_covid19_cleaned['Country/Region'] == 'Tunisia')]\n",
    "plot_Algeria=data_covid19_cleaned.loc[(data_covid19_cleaned['Country/Region'] == 'Algeria')]\n",
    "plot_Egypt=data_covid19_cleaned.loc[(data_covid19_cleaned['Country/Region'] == 'Egypt')]\n",
    "plot_South_Africa=data_covid19_cleaned.loc[(data_covid19_cleaned['Country/Region'] == 'South Africa')]\n",
    "plot_cote=data_covid19_cleaned.loc[(data_covid19_cleaned['Country/Region'] == 'Cote d\\'Ivoire')]\n",
    "plot_Morocco=data_covid19_cleaned.loc[(data_covid19_cleaned['Country/Region'] == 'Morocco')]"
   ]
  },
  {
   "cell_type": "code",
   "execution_count": 190,
   "metadata": {},
   "outputs": [
    {
     "data": {
      "text/html": [
       "<div>\n",
       "<style scoped>\n",
       "    .dataframe tbody tr th:only-of-type {\n",
       "        vertical-align: middle;\n",
       "    }\n",
       "\n",
       "    .dataframe tbody tr th {\n",
       "        vertical-align: top;\n",
       "    }\n",
       "\n",
       "    .dataframe thead th {\n",
       "        text-align: right;\n",
       "    }\n",
       "</style>\n",
       "<table border=\"1\" class=\"dataframe\">\n",
       "  <thead>\n",
       "    <tr style=\"text-align: right;\">\n",
       "      <th></th>\n",
       "      <th>Country/Region</th>\n",
       "      <th>Date</th>\n",
       "      <th>Lat</th>\n",
       "      <th>Long</th>\n",
       "      <th>Confirmed</th>\n",
       "      <th>humidity</th>\n",
       "      <th>temperature</th>\n",
       "      <th>wind</th>\n",
       "    </tr>\n",
       "  </thead>\n",
       "  <tbody>\n",
       "    <tr>\n",
       "      <th>11680</th>\n",
       "      <td>Senegal</td>\n",
       "      <td>2020-03-25</td>\n",
       "      <td>14.4974</td>\n",
       "      <td>-14.4524</td>\n",
       "      <td>0</td>\n",
       "      <td>17.5</td>\n",
       "      <td>29.062083</td>\n",
       "      <td>5.421667</td>\n",
       "    </tr>\n",
       "    <tr>\n",
       "      <th>11681</th>\n",
       "      <td>Senegal</td>\n",
       "      <td>2020-03-25</td>\n",
       "      <td>14.4974</td>\n",
       "      <td>-14.4524</td>\n",
       "      <td>0</td>\n",
       "      <td>17.5</td>\n",
       "      <td>29.062083</td>\n",
       "      <td>5.421667</td>\n",
       "    </tr>\n",
       "    <tr>\n",
       "      <th>11682</th>\n",
       "      <td>Senegal</td>\n",
       "      <td>2020-03-25</td>\n",
       "      <td>14.4974</td>\n",
       "      <td>-14.4524</td>\n",
       "      <td>0</td>\n",
       "      <td>17.5</td>\n",
       "      <td>29.062083</td>\n",
       "      <td>5.421667</td>\n",
       "    </tr>\n",
       "    <tr>\n",
       "      <th>11683</th>\n",
       "      <td>Senegal</td>\n",
       "      <td>2020-03-25</td>\n",
       "      <td>14.4974</td>\n",
       "      <td>-14.4524</td>\n",
       "      <td>0</td>\n",
       "      <td>17.5</td>\n",
       "      <td>29.062083</td>\n",
       "      <td>5.421667</td>\n",
       "    </tr>\n",
       "    <tr>\n",
       "      <th>11684</th>\n",
       "      <td>Senegal</td>\n",
       "      <td>2020-03-25</td>\n",
       "      <td>14.4974</td>\n",
       "      <td>-14.4524</td>\n",
       "      <td>0</td>\n",
       "      <td>17.5</td>\n",
       "      <td>29.062083</td>\n",
       "      <td>5.421667</td>\n",
       "    </tr>\n",
       "  </tbody>\n",
       "</table>\n",
       "</div>"
      ],
      "text/plain": [
       "      Country/Region       Date      Lat     Long  Confirmed  humidity  \\\n",
       "11680        Senegal 2020-03-25  14.4974 -14.4524          0      17.5   \n",
       "11681        Senegal 2020-03-25  14.4974 -14.4524          0      17.5   \n",
       "11682        Senegal 2020-03-25  14.4974 -14.4524          0      17.5   \n",
       "11683        Senegal 2020-03-25  14.4974 -14.4524          0      17.5   \n",
       "11684        Senegal 2020-03-25  14.4974 -14.4524          0      17.5   \n",
       "\n",
       "       temperature      wind  \n",
       "11680    29.062083  5.421667  \n",
       "11681    29.062083  5.421667  \n",
       "11682    29.062083  5.421667  \n",
       "11683    29.062083  5.421667  \n",
       "11684    29.062083  5.421667  "
      ]
     },
     "execution_count": 190,
     "metadata": {},
     "output_type": "execute_result"
    }
   ],
   "source": [
    "plot_Senegal.head()"
   ]
  },
  {
   "cell_type": "code",
   "execution_count": null,
   "metadata": {},
   "outputs": [],
   "source": []
  },
  {
   "cell_type": "code",
   "execution_count": null,
   "metadata": {},
   "outputs": [],
   "source": []
  },
  {
   "cell_type": "code",
   "execution_count": 191,
   "metadata": {},
   "outputs": [
    {
     "data": {
      "image/png": "[encoded data removed]",
      "text/plain": [
       "<Figure size 1008x504 with 1 Axes>"
      ]
     },
     "metadata": {
      "needs_background": "light"
     },
     "output_type": "display_data"
    }
   ],
   "source": [
    "plt.figure(figsize=(14, 7))\n",
    "plt.plot(plot_Senegal['Date'], plot_Senegal['Confirmed'])\n",
    "plt.plot(plot_Nigeria['Date'], plot_Nigeria['Confirmed'])\n",
    "plt.plot(plot_Tunisia['Date'], plot_Tunisia['Confirmed'])\n",
    "plt.plot(plot_Algeria['Date'], plot_Algeria['Confirmed'])\n",
    "plt.plot(plot_Egypt['Date'], plot_Egypt['Confirmed'])\n",
    "plt.plot(plot_South_Africa['Date'], plot_South_Africa['Confirmed'])\n",
    "plt.plot(plot_cote['Date'],plot_cote['Confirmed'])\n",
    "plt.plot(plot_Morocco['Date'], plot_Morocco['Confirmed'])                \n",
    "#plt.title('# of Coronavirus Cases', size=30)\n",
    "plt.xlabel('Observation date', size=20)\n",
    "plt.ylabel('Infected cases', size=20)\n",
    "plt.legend(['Senegal', 'Nigera', 'Tunisia', 'Algeria', 'Egypt', 'South Africa','Cote d\\'Ivoire', 'Morocco'])\n",
    "plt.xticks(size=10)\n",
    "plt.yticks(size=10)\n",
    "plt.grid()\n",
    "plt.show()\n"
   ]
  },
  {
   "cell_type": "code",
   "execution_count": 192,
   "metadata": {},
   "outputs": [],
   "source": [
    "data_covid_africa=pd.read_csv(\"dataset/africa_dataset.csv\")"
   ]
  },
  {
   "cell_type": "code",
   "execution_count": 193,
   "metadata": {},
   "outputs": [
    {
     "data": {
      "text/html": [
       "<div>\n",
       "<style scoped>\n",
       "    .dataframe tbody tr th:only-of-type {\n",
       "        vertical-align: middle;\n",
       "    }\n",
       "\n",
       "    .dataframe tbody tr th {\n",
       "        vertical-align: top;\n",
       "    }\n",
       "\n",
       "    .dataframe thead th {\n",
       "        text-align: right;\n",
       "    }\n",
       "</style>\n",
       "<table border=\"1\" class=\"dataframe\">\n",
       "  <thead>\n",
       "    <tr style=\"text-align: right;\">\n",
       "      <th></th>\n",
       "      <th>Countries</th>\n",
       "      <th>lockdown date</th>\n",
       "      <th>Confirmed_cases</th>\n",
       "      <th>temperature</th>\n",
       "      <th>humidity</th>\n",
       "      <th>wind velocity</th>\n",
       "      <th>population density</th>\n",
       "      <th>GDP_country</th>\n",
       "      <th>Risk_country</th>\n",
       "    </tr>\n",
       "  </thead>\n",
       "  <tbody>\n",
       "    <tr>\n",
       "      <th>0</th>\n",
       "      <td>Senegal</td>\n",
       "      <td>24/03/2020</td>\n",
       "      <td>83</td>\n",
       "      <td>29.22</td>\n",
       "      <td>17.41</td>\n",
       "      <td>5.38</td>\n",
       "      <td>82</td>\n",
       "      <td>24130</td>\n",
       "      <td>0.00</td>\n",
       "    </tr>\n",
       "    <tr>\n",
       "      <th>1</th>\n",
       "      <td>Nigeria</td>\n",
       "      <td>23/03/2020</td>\n",
       "      <td>51</td>\n",
       "      <td>28.47</td>\n",
       "      <td>65.24</td>\n",
       "      <td>1.95</td>\n",
       "      <td>218</td>\n",
       "      <td>397270</td>\n",
       "      <td>0.00</td>\n",
       "    </tr>\n",
       "    <tr>\n",
       "      <th>2</th>\n",
       "      <td>Tunisia</td>\n",
       "      <td>20/03/2020</td>\n",
       "      <td>173</td>\n",
       "      <td>17.92</td>\n",
       "      <td>62.81</td>\n",
       "      <td>5.43</td>\n",
       "      <td>72</td>\n",
       "      <td>39861</td>\n",
       "      <td>0.00</td>\n",
       "    </tr>\n",
       "    <tr>\n",
       "      <th>3</th>\n",
       "      <td>Algeria</td>\n",
       "      <td>24/03/2020</td>\n",
       "      <td>24</td>\n",
       "      <td>22.38</td>\n",
       "      <td>10.65</td>\n",
       "      <td>5.76</td>\n",
       "      <td>18</td>\n",
       "      <td>180689</td>\n",
       "      <td>0.00</td>\n",
       "    </tr>\n",
       "    <tr>\n",
       "      <th>4</th>\n",
       "      <td>Egypt</td>\n",
       "      <td>24/03/2020</td>\n",
       "      <td>402</td>\n",
       "      <td>21.77</td>\n",
       "      <td>19.61</td>\n",
       "      <td>4.17</td>\n",
       "      <td>100</td>\n",
       "      <td>250895</td>\n",
       "      <td>0.43</td>\n",
       "    </tr>\n",
       "    <tr>\n",
       "      <th>5</th>\n",
       "      <td>Morocco</td>\n",
       "      <td>16/03/2020</td>\n",
       "      <td>29</td>\n",
       "      <td>11.53</td>\n",
       "      <td>67.56</td>\n",
       "      <td>2.15</td>\n",
       "      <td>80</td>\n",
       "      <td>118495</td>\n",
       "      <td>0.00</td>\n",
       "    </tr>\n",
       "    <tr>\n",
       "      <th>6</th>\n",
       "      <td>SA</td>\n",
       "      <td>26/03/2020</td>\n",
       "      <td>927</td>\n",
       "      <td>24.08</td>\n",
       "      <td>43.02</td>\n",
       "      <td>4.11</td>\n",
       "      <td>48</td>\n",
       "      <td>368288</td>\n",
       "      <td>0.00</td>\n",
       "    </tr>\n",
       "    <tr>\n",
       "      <th>7</th>\n",
       "      <td>Cote d’Ivoire</td>\n",
       "      <td>29/03/2020</td>\n",
       "      <td>165</td>\n",
       "      <td>25.93</td>\n",
       "      <td>84.71</td>\n",
       "      <td>2.83</td>\n",
       "      <td>83</td>\n",
       "      <td>43007</td>\n",
       "      <td>0.00</td>\n",
       "    </tr>\n",
       "  </tbody>\n",
       "</table>\n",
       "</div>"
      ],
      "text/plain": [
       "       Countries lockdown date  Confirmed_cases  temperature  humidity  \\\n",
       "0        Senegal    24/03/2020               83        29.22     17.41   \n",
       "1        Nigeria    23/03/2020               51        28.47     65.24   \n",
       "2        Tunisia    20/03/2020              173        17.92     62.81   \n",
       "3        Algeria    24/03/2020               24        22.38     10.65   \n",
       "4          Egypt    24/03/2020              402        21.77     19.61   \n",
       "5        Morocco    16/03/2020               29        11.53     67.56   \n",
       "6             SA    26/03/2020              927        24.08     43.02   \n",
       "7  Cote d’Ivoire    29/03/2020              165        25.93     84.71   \n",
       "\n",
       "   wind velocity  population density  GDP_country  Risk_country  \n",
       "0           5.38                  82        24130          0.00  \n",
       "1           1.95                 218       397270          0.00  \n",
       "2           5.43                  72        39861          0.00  \n",
       "3           5.76                  18       180689          0.00  \n",
       "4           4.17                 100       250895          0.43  \n",
       "5           2.15                  80       118495          0.00  \n",
       "6           4.11                  48       368288          0.00  \n",
       "7           2.83                  83        43007          0.00  "
      ]
     },
     "execution_count": 193,
     "metadata": {},
     "output_type": "execute_result"
    }
   ],
   "source": [
    "data_covid_africa"
   ]
  },
  {
   "cell_type": "code",
   "execution_count": 194,
   "metadata": {},
   "outputs": [
    {
     "data": {
      "text/plain": [
       "<seaborn.axisgrid.FacetGrid at 0x7feed3f76f90>"
      ]
     },
     "execution_count": 194,
     "metadata": {},
     "output_type": "execute_result"
    },
    {
     "data": {
      "image/png": "[encoded data removed]",
      "text/plain": [
       "<Figure size 360x360 with 1 Axes>"
      ]
     },
     "metadata": {
      "needs_background": "light"
     },
     "output_type": "display_data"
    }
   ],
   "source": [
    "#sns.catplot(data_covid_africa['Countries'],data_covid_africa['Confirmed_cases'])\n",
    "sns.catplot(x=\"Countries\",y=\"Confirmed_cases\",kind='bar',data=data_covid_africa)"
   ]
  },
  {
   "cell_type": "code",
   "execution_count": null,
   "metadata": {},
   "outputs": [],
   "source": []
  },
  {
   "cell_type": "markdown",
   "metadata": {},
   "source": [
    "# Data analysis with the sample dataset"
   ]
  },
  {
   "cell_type": "code",
   "execution_count": 195,
   "metadata": {},
   "outputs": [],
   "source": [
    "dataframe_cov=pd.read_csv(\"dataset/high_risk_factor_data_temp.csv\")"
   ]
  },
  {
   "cell_type": "code",
   "execution_count": 196,
   "metadata": {},
   "outputs": [
    {
     "data": {
      "text/plain": [
       "(52, 11)"
      ]
     },
     "execution_count": 196,
     "metadata": {},
     "output_type": "execute_result"
    }
   ],
   "source": [
    "dataframe_cov.shape"
   ]
  },
  {
   "cell_type": "code",
   "execution_count": 197,
   "metadata": {},
   "outputs": [
    {
     "data": {
      "text/plain": [
       "23"
      ]
     },
     "execution_count": 197,
     "metadata": {},
     "output_type": "execute_result"
    }
   ],
   "source": [
    "dataframe_cov['Total_testing'].isnull().sum()"
   ]
  },
  {
   "cell_type": "code",
   "execution_count": 198,
   "metadata": {},
   "outputs": [],
   "source": [
    "#dataframe_cov['Total_testing'].fillna(mean)"
   ]
  },
  {
   "cell_type": "code",
   "execution_count": 288,
   "metadata": {},
   "outputs": [],
   "source": [
    "dataframe_cov['Confirmed_log']=np.log10(dataframe_cov['Confirmed_cases'])"
   ]
  },
  {
   "cell_type": "code",
   "execution_count": 289,
   "metadata": {},
   "outputs": [],
   "source": [
    "dataframe_cov=dataframe_cov.fillna(0)"
   ]
  },
  {
   "cell_type": "code",
   "execution_count": 290,
   "metadata": {},
   "outputs": [
    {
     "name": "stdout",
     "output_type": "stream",
     "text": [
      "The correlation between the variable Temperature and the number of confirmed cases is: -0.249\n"
     ]
    }
   ],
   "source": [
    "corr, _ = pearsonr(dataframe_cov['Temperature'], dataframe_cov['Confirmed_log'])\n",
    "print('The correlation between the variable Temperature and the number of confirmed cases is: %.3f' % corr)"
   ]
  },
  {
   "cell_type": "code",
   "execution_count": 291,
   "metadata": {},
   "outputs": [
    {
     "name": "stdout",
     "output_type": "stream",
     "text": [
      "The correlation between the variable Risk and the number of confirmed cases is: 0.066\n"
     ]
    }
   ],
   "source": [
    "corr, _ = pearsonr(dataframe_cov['Risk'], dataframe_cov['Confirmed_log'])\n",
    "print('The correlation between the variable Risk and the number of confirmed cases is: %.3f' % corr)"
   ]
  },
  {
   "cell_type": "code",
   "execution_count": 292,
   "metadata": {},
   "outputs": [
    {
     "name": "stdout",
     "output_type": "stream",
     "text": [
      "The correlation between the variable Humidity and the number of confirmed cases is: 0.051\n"
     ]
    }
   ],
   "source": [
    "corr, _ = pearsonr(dataframe_cov['Humidity'], dataframe_cov['Confirmed_log'])\n",
    "print('The correlation between the variable Humidity and the number of confirmed cases is: %.3f' % corr)"
   ]
  },
  {
   "cell_type": "code",
   "execution_count": 293,
   "metadata": {},
   "outputs": [
    {
     "name": "stdout",
     "output_type": "stream",
     "text": [
      "The correlation between the variable Wind and the number of confirmed cases is: 0.047\n"
     ]
    }
   ],
   "source": [
    "corr, _ = pearsonr(dataframe_cov['Wind'], dataframe_cov['Confirmed_log'])\n",
    "print('The correlation between the variable Wind and the number of confirmed cases is: %.3f' % corr)"
   ]
  },
  {
   "cell_type": "code",
   "execution_count": null,
   "metadata": {},
   "outputs": [],
   "source": []
  },
  {
   "cell_type": "code",
   "execution_count": 205,
   "metadata": {},
   "outputs": [
    {
     "name": "stdout",
     "output_type": "stream",
     "text": [
      "The correlation between the variable Population density and the number of confirmed cases is: -0.132\n"
     ]
    }
   ],
   "source": [
    "corr, _ = pearsonr(dataframe_cov['Population density'], dataframe_cov['Confirmed_log'])\n",
    "print('The correlation between the variable Population density and the number of confirmed cases is: %.3f' % corr)"
   ]
  },
  {
   "cell_type": "code",
   "execution_count": 206,
   "metadata": {},
   "outputs": [
    {
     "data": {
      "text/plain": [
       "Index(['Country', 'Risk', 'Confirmed_cases', 'Lockdown_date', 'Total_testing',\n",
       "       'Temperature', 'Humidity', 'Wind', 'Population density', 'BMI', 'GDP',\n",
       "       'Confirmed_log'],\n",
       "      dtype='object')"
      ]
     },
     "execution_count": 206,
     "metadata": {},
     "output_type": "execute_result"
    }
   ],
   "source": [
    "dataframe_cov.columns"
   ]
  },
  {
   "cell_type": "code",
   "execution_count": null,
   "metadata": {},
   "outputs": [],
   "source": []
  },
  {
   "cell_type": "code",
   "execution_count": 207,
   "metadata": {},
   "outputs": [],
   "source": [
    "#dataframe_final['Confirmed_log']=np.log10(dataframe_final['Confirmed_cases'])"
   ]
  },
  {
   "cell_type": "code",
   "execution_count": 208,
   "metadata": {},
   "outputs": [],
   "source": [
    "dataframe_cov['Lockdown_date']=pd.to_datetime(dataframe_cov['Lockdown_date'])"
   ]
  },
  {
   "cell_type": "code",
   "execution_count": 209,
   "metadata": {},
   "outputs": [],
   "source": [
    "date=[]\n",
    "for i in range(len(dataframe_cov)):\n",
    "    date.append('2020-01-22')"
   ]
  },
  {
   "cell_type": "code",
   "execution_count": 210,
   "metadata": {},
   "outputs": [],
   "source": [
    "start_date=pd.DataFrame(date)"
   ]
  },
  {
   "cell_type": "code",
   "execution_count": 211,
   "metadata": {},
   "outputs": [],
   "source": [
    "dataframe_cov['start_date']=pd.to_datetime(date)"
   ]
  },
  {
   "cell_type": "code",
   "execution_count": 212,
   "metadata": {},
   "outputs": [
    {
     "data": {
      "text/html": [
       "<div>\n",
       "<style scoped>\n",
       "    .dataframe tbody tr th:only-of-type {\n",
       "        vertical-align: middle;\n",
       "    }\n",
       "\n",
       "    .dataframe tbody tr th {\n",
       "        vertical-align: top;\n",
       "    }\n",
       "\n",
       "    .dataframe thead th {\n",
       "        text-align: right;\n",
       "    }\n",
       "</style>\n",
       "<table border=\"1\" class=\"dataframe\">\n",
       "  <thead>\n",
       "    <tr style=\"text-align: right;\">\n",
       "      <th></th>\n",
       "      <th>Country</th>\n",
       "      <th>Risk</th>\n",
       "      <th>Confirmed_cases</th>\n",
       "      <th>Lockdown_date</th>\n",
       "      <th>Total_testing</th>\n",
       "      <th>Temperature</th>\n",
       "      <th>Humidity</th>\n",
       "      <th>Wind</th>\n",
       "      <th>Population density</th>\n",
       "      <th>BMI</th>\n",
       "      <th>GDP</th>\n",
       "      <th>Confirmed_log</th>\n",
       "      <th>start_date</th>\n",
       "    </tr>\n",
       "  </thead>\n",
       "  <tbody>\n",
       "    <tr>\n",
       "      <th>0</th>\n",
       "      <td>Algeria</td>\n",
       "      <td>0.00</td>\n",
       "      <td>24</td>\n",
       "      <td>2020-03-24</td>\n",
       "      <td>0</td>\n",
       "      <td>22.38</td>\n",
       "      <td>10.65</td>\n",
       "      <td>5.76</td>\n",
       "      <td>18.41</td>\n",
       "      <td>26.2</td>\n",
       "      <td>180689</td>\n",
       "      <td>1.380211</td>\n",
       "      <td>2020-01-22</td>\n",
       "    </tr>\n",
       "    <tr>\n",
       "      <th>1</th>\n",
       "      <td>Argentina</td>\n",
       "      <td>0.00</td>\n",
       "      <td>128</td>\n",
       "      <td>2020-03-20</td>\n",
       "      <td>0</td>\n",
       "      <td>26.48</td>\n",
       "      <td>45.29</td>\n",
       "      <td>7.02</td>\n",
       "      <td>41.00</td>\n",
       "      <td>27.7</td>\n",
       "      <td>518475</td>\n",
       "      <td>2.107210</td>\n",
       "      <td>2020-01-22</td>\n",
       "    </tr>\n",
       "    <tr>\n",
       "      <th>2</th>\n",
       "      <td>Australia</td>\n",
       "      <td>3.37</td>\n",
       "      <td>2044</td>\n",
       "      <td>2020-03-24</td>\n",
       "      <td>131500</td>\n",
       "      <td>18.73</td>\n",
       "      <td>69.17</td>\n",
       "      <td>3.72</td>\n",
       "      <td>3.00</td>\n",
       "      <td>27.2</td>\n",
       "      <td>1432195</td>\n",
       "      <td>3.310481</td>\n",
       "      <td>2020-01-22</td>\n",
       "    </tr>\n",
       "    <tr>\n",
       "      <th>3</th>\n",
       "      <td>Austria</td>\n",
       "      <td>0.00</td>\n",
       "      <td>1332</td>\n",
       "      <td>2020-03-17</td>\n",
       "      <td>10278</td>\n",
       "      <td>-3.59</td>\n",
       "      <td>62.57</td>\n",
       "      <td>1.77</td>\n",
       "      <td>106.00</td>\n",
       "      <td>25.4</td>\n",
       "      <td>455737</td>\n",
       "      <td>3.124504</td>\n",
       "      <td>2020-01-22</td>\n",
       "    </tr>\n",
       "    <tr>\n",
       "      <th>4</th>\n",
       "      <td>Belgium</td>\n",
       "      <td>0.00</td>\n",
       "      <td>559</td>\n",
       "      <td>2020-03-13</td>\n",
       "      <td>125852</td>\n",
       "      <td>5.80</td>\n",
       "      <td>53.10</td>\n",
       "      <td>5.13</td>\n",
       "      <td>376.00</td>\n",
       "      <td>25.5</td>\n",
       "      <td>531767</td>\n",
       "      <td>2.747412</td>\n",
       "      <td>2020-01-22</td>\n",
       "    </tr>\n",
       "  </tbody>\n",
       "</table>\n",
       "</div>"
      ],
      "text/plain": [
       "     Country  Risk  Confirmed_cases Lockdown_date Total_testing  Temperature  \\\n",
       "0    Algeria  0.00               24    2020-03-24             0        22.38   \n",
       "1  Argentina  0.00              128    2020-03-20             0        26.48   \n",
       "2  Australia  3.37             2044    2020-03-24        131500        18.73   \n",
       "3    Austria  0.00             1332    2020-03-17         10278        -3.59   \n",
       "4    Belgium  0.00              559    2020-03-13        125852         5.80   \n",
       "\n",
       "   Humidity  Wind  Population density   BMI      GDP  Confirmed_log start_date  \n",
       "0     10.65  5.76               18.41  26.2   180689       1.380211 2020-01-22  \n",
       "1     45.29  7.02               41.00  27.7   518475       2.107210 2020-01-22  \n",
       "2     69.17  3.72                3.00  27.2  1432195       3.310481 2020-01-22  \n",
       "3     62.57  1.77              106.00  25.4   455737       3.124504 2020-01-22  \n",
       "4     53.10  5.13              376.00  25.5   531767       2.747412 2020-01-22  "
      ]
     },
     "execution_count": 212,
     "metadata": {},
     "output_type": "execute_result"
    }
   ],
   "source": [
    "dataframe_cov.head()"
   ]
  },
  {
   "cell_type": "code",
   "execution_count": null,
   "metadata": {},
   "outputs": [],
   "source": []
  },
  {
   "cell_type": "code",
   "execution_count": 213,
   "metadata": {},
   "outputs": [],
   "source": [
    "dataframe_cov['days']=dataframe_cov['Lockdown_date']-dataframe_cov['start_date']"
   ]
  },
  {
   "cell_type": "code",
   "execution_count": 214,
   "metadata": {},
   "outputs": [],
   "source": [
    "dataframe_final=dataframe_cov"
   ]
  },
  {
   "cell_type": "code",
   "execution_count": 215,
   "metadata": {},
   "outputs": [],
   "source": [
    "\n",
    "dataframe_final['days']=dataframe_final['days']/np.timedelta64(1,'D')\n",
    " "
   ]
  },
  {
   "cell_type": "code",
   "execution_count": 216,
   "metadata": {},
   "outputs": [
    {
     "data": {
      "text/html": [
       "<div>\n",
       "<style scoped>\n",
       "    .dataframe tbody tr th:only-of-type {\n",
       "        vertical-align: middle;\n",
       "    }\n",
       "\n",
       "    .dataframe tbody tr th {\n",
       "        vertical-align: top;\n",
       "    }\n",
       "\n",
       "    .dataframe thead th {\n",
       "        text-align: right;\n",
       "    }\n",
       "</style>\n",
       "<table border=\"1\" class=\"dataframe\">\n",
       "  <thead>\n",
       "    <tr style=\"text-align: right;\">\n",
       "      <th></th>\n",
       "      <th>Country</th>\n",
       "      <th>Risk</th>\n",
       "      <th>Confirmed_cases</th>\n",
       "      <th>Lockdown_date</th>\n",
       "      <th>Total_testing</th>\n",
       "      <th>Temperature</th>\n",
       "      <th>Humidity</th>\n",
       "      <th>Wind</th>\n",
       "      <th>Population density</th>\n",
       "      <th>BMI</th>\n",
       "      <th>GDP</th>\n",
       "      <th>Confirmed_log</th>\n",
       "      <th>start_date</th>\n",
       "      <th>days</th>\n",
       "    </tr>\n",
       "  </thead>\n",
       "  <tbody>\n",
       "    <tr>\n",
       "      <th>0</th>\n",
       "      <td>Algeria</td>\n",
       "      <td>0.00</td>\n",
       "      <td>24</td>\n",
       "      <td>2020-03-24</td>\n",
       "      <td>0</td>\n",
       "      <td>22.38</td>\n",
       "      <td>10.65</td>\n",
       "      <td>5.76</td>\n",
       "      <td>18.41</td>\n",
       "      <td>26.2</td>\n",
       "      <td>180689</td>\n",
       "      <td>1.380211</td>\n",
       "      <td>2020-01-22</td>\n",
       "      <td>62.0</td>\n",
       "    </tr>\n",
       "    <tr>\n",
       "      <th>1</th>\n",
       "      <td>Argentina</td>\n",
       "      <td>0.00</td>\n",
       "      <td>128</td>\n",
       "      <td>2020-03-20</td>\n",
       "      <td>0</td>\n",
       "      <td>26.48</td>\n",
       "      <td>45.29</td>\n",
       "      <td>7.02</td>\n",
       "      <td>41.00</td>\n",
       "      <td>27.7</td>\n",
       "      <td>518475</td>\n",
       "      <td>2.107210</td>\n",
       "      <td>2020-01-22</td>\n",
       "      <td>58.0</td>\n",
       "    </tr>\n",
       "    <tr>\n",
       "      <th>2</th>\n",
       "      <td>Australia</td>\n",
       "      <td>3.37</td>\n",
       "      <td>2044</td>\n",
       "      <td>2020-03-24</td>\n",
       "      <td>131500</td>\n",
       "      <td>18.73</td>\n",
       "      <td>69.17</td>\n",
       "      <td>3.72</td>\n",
       "      <td>3.00</td>\n",
       "      <td>27.2</td>\n",
       "      <td>1432195</td>\n",
       "      <td>3.310481</td>\n",
       "      <td>2020-01-22</td>\n",
       "      <td>62.0</td>\n",
       "    </tr>\n",
       "    <tr>\n",
       "      <th>3</th>\n",
       "      <td>Austria</td>\n",
       "      <td>0.00</td>\n",
       "      <td>1332</td>\n",
       "      <td>2020-03-17</td>\n",
       "      <td>10278</td>\n",
       "      <td>-3.59</td>\n",
       "      <td>62.57</td>\n",
       "      <td>1.77</td>\n",
       "      <td>106.00</td>\n",
       "      <td>25.4</td>\n",
       "      <td>455737</td>\n",
       "      <td>3.124504</td>\n",
       "      <td>2020-01-22</td>\n",
       "      <td>55.0</td>\n",
       "    </tr>\n",
       "    <tr>\n",
       "      <th>4</th>\n",
       "      <td>Belgium</td>\n",
       "      <td>0.00</td>\n",
       "      <td>559</td>\n",
       "      <td>2020-03-13</td>\n",
       "      <td>125852</td>\n",
       "      <td>5.80</td>\n",
       "      <td>53.10</td>\n",
       "      <td>5.13</td>\n",
       "      <td>376.00</td>\n",
       "      <td>25.5</td>\n",
       "      <td>531767</td>\n",
       "      <td>2.747412</td>\n",
       "      <td>2020-01-22</td>\n",
       "      <td>51.0</td>\n",
       "    </tr>\n",
       "  </tbody>\n",
       "</table>\n",
       "</div>"
      ],
      "text/plain": [
       "     Country  Risk  Confirmed_cases Lockdown_date Total_testing  Temperature  \\\n",
       "0    Algeria  0.00               24    2020-03-24             0        22.38   \n",
       "1  Argentina  0.00              128    2020-03-20             0        26.48   \n",
       "2  Australia  3.37             2044    2020-03-24        131500        18.73   \n",
       "3    Austria  0.00             1332    2020-03-17         10278        -3.59   \n",
       "4    Belgium  0.00              559    2020-03-13        125852         5.80   \n",
       "\n",
       "   Humidity  Wind  Population density   BMI      GDP  Confirmed_log  \\\n",
       "0     10.65  5.76               18.41  26.2   180689       1.380211   \n",
       "1     45.29  7.02               41.00  27.7   518475       2.107210   \n",
       "2     69.17  3.72                3.00  27.2  1432195       3.310481   \n",
       "3     62.57  1.77              106.00  25.4   455737       3.124504   \n",
       "4     53.10  5.13              376.00  25.5   531767       2.747412   \n",
       "\n",
       "  start_date  days  \n",
       "0 2020-01-22  62.0  \n",
       "1 2020-01-22  58.0  \n",
       "2 2020-01-22  62.0  \n",
       "3 2020-01-22  55.0  \n",
       "4 2020-01-22  51.0  "
      ]
     },
     "execution_count": 216,
     "metadata": {},
     "output_type": "execute_result"
    }
   ],
   "source": [
    "dataframe_final.head()"
   ]
  },
  {
   "cell_type": "code",
   "execution_count": null,
   "metadata": {},
   "outputs": [],
   "source": []
  },
  {
   "cell_type": "code",
   "execution_count": 217,
   "metadata": {},
   "outputs": [
    {
     "name": "stdout",
     "output_type": "stream",
     "text": [
      "The correlation between the variable Wind and the number of confirmed cases is: -0.246\n"
     ]
    }
   ],
   "source": [
    "corr, _ = pearsonr(dataframe_cov['days'], dataframe_cov['Confirmed_log'])\n",
    "print('The correlation between the variable Wind and the number of confirmed cases is: %.3f' % corr)"
   ]
  },
  {
   "cell_type": "code",
   "execution_count": 218,
   "metadata": {},
   "outputs": [
    {
     "name": "stdout",
     "output_type": "stream",
     "text": [
      "The correlation between the variable Temperature and the number of confirmed cases is: 0.530\n"
     ]
    }
   ],
   "source": [
    "corr, _ = pearsonr(dataframe_cov['GDP'], dataframe_cov['Confirmed_log'])\n",
    "print('The correlation between the variable Temperature and the number of confirmed cases is: %.3f' % corr)"
   ]
  },
  {
   "cell_type": "code",
   "execution_count": null,
   "metadata": {},
   "outputs": [],
   "source": []
  },
  {
   "cell_type": "markdown",
   "metadata": {},
   "source": [
    "# Splitting into Features and Target "
   ]
  },
  {
   "cell_type": "code",
   "execution_count": 219,
   "metadata": {},
   "outputs": [],
   "source": [
    "Y=dataframe_final['Confirmed_log']\n",
    "X=dataframe_final[['days','Risk','Temperature','Humidity','Wind','Population density','GDP']].avalues"
   ]
  },
  {
   "cell_type": "code",
   "execution_count": null,
   "metadata": {},
   "outputs": [],
   "source": []
  },
  {
   "cell_type": "markdown",
   "metadata": {},
   "source": [
    "# Scaling the features"
   ]
  },
  {
   "cell_type": "code",
   "execution_count": 220,
   "metadata": {},
   "outputs": [],
   "source": [
    "#from sklearn import preprocessing\n",
    "#standardized_X = preprocessing.scale(X)"
   ]
  },
  {
   "cell_type": "code",
   "execution_count": 221,
   "metadata": {},
   "outputs": [],
   "source": [
    "#x = sm.add_constant(X)  \n",
    "#model = sm.OLS(Y, x).fit()\n",
    "#predictions = model.predict(x) \n",
    "\n",
    "#print_model = model.summary()\n",
    "#print(print_model)"
   ]
  },
  {
   "cell_type": "code",
   "execution_count": null,
   "metadata": {},
   "outputs": [],
   "source": []
  },
  {
   "cell_type": "markdown",
   "metadata": {},
   "source": [
    "# Splitting into training and testing dataset"
   ]
  },
  {
   "cell_type": "code",
   "execution_count": 222,
   "metadata": {},
   "outputs": [],
   "source": [
    "X_train, X_test, y_train, y_test = train_test_split(X, Y, test_size=0.25, random_state=0)"
   ]
  },
  {
   "cell_type": "markdown",
   "metadata": {},
   "source": [
    "# Tuning  Hyperameters"
   ]
  },
  {
   "cell_type": "code",
   "execution_count": 223,
   "metadata": {},
   "outputs": [],
   "source": [
    "testing1=pd.read_csv(\"dataset/owid-covid-data.csv\")"
   ]
  },
  {
   "cell_type": "code",
   "execution_count": 295,
   "metadata": {},
   "outputs": [
    {
     "data": {
      "text/plain": [
       "Index(['iso_code', 'location', 'date', 'total_cases', 'new_cases',\n",
       "       'total_deaths', 'new_deaths', 'total_cases_per_million',\n",
       "       'new_cases_per_million', 'total_deaths_per_million',\n",
       "       'new_deaths_per_million', 'total_tests', 'new_tests',\n",
       "       'total_tests_per_thousand', 'new_tests_per_thousand', 'tests_units'],\n",
       "      dtype='object')"
      ]
     },
     "execution_count": 295,
     "metadata": {},
     "output_type": "execute_result"
    }
   ],
   "source": [
    "testing1.columns"
   ]
  },
  {
   "cell_type": "code",
   "execution_count": null,
   "metadata": {},
   "outputs": [],
   "source": [
    "group = data.groupby('date')['date', 'total_cases', 'total_deaths'].sum().reset_index()\n",
    "\n",
    "fig = px.line(group, x=\"date\", y=\"confirmed\", \n",
    "              title=\"Worldwide Confirmed Cases Over Time\")\n",
    "\n",
    "fig.show()\n",
    "\n",
    "fig = px.line(group, x=\"date\", y=\"deaths\", \n",
    "              title=\"Worldwide Deaths Over Time\")\n",
    "\n",
    "fig.show()"
   ]
  },
  {
   "cell_type": "code",
   "execution_count": 224,
   "metadata": {},
   "outputs": [
    {
     "data": {
      "text/html": [
       "<div>\n",
       "<style scoped>\n",
       "    .dataframe tbody tr th:only-of-type {\n",
       "        vertical-align: middle;\n",
       "    }\n",
       "\n",
       "    .dataframe tbody tr th {\n",
       "        vertical-align: top;\n",
       "    }\n",
       "\n",
       "    .dataframe thead th {\n",
       "        text-align: right;\n",
       "    }\n",
       "</style>\n",
       "<table border=\"1\" class=\"dataframe\">\n",
       "  <thead>\n",
       "    <tr style=\"text-align: right;\">\n",
       "      <th></th>\n",
       "      <th>iso_code</th>\n",
       "      <th>location</th>\n",
       "      <th>date</th>\n",
       "      <th>total_cases</th>\n",
       "      <th>new_cases</th>\n",
       "      <th>total_deaths</th>\n",
       "      <th>new_deaths</th>\n",
       "      <th>total_cases_per_million</th>\n",
       "      <th>new_cases_per_million</th>\n",
       "      <th>total_deaths_per_million</th>\n",
       "      <th>new_deaths_per_million</th>\n",
       "      <th>total_tests</th>\n",
       "      <th>new_tests</th>\n",
       "      <th>total_tests_per_thousand</th>\n",
       "      <th>new_tests_per_thousand</th>\n",
       "      <th>tests_units</th>\n",
       "    </tr>\n",
       "  </thead>\n",
       "  <tbody>\n",
       "    <tr>\n",
       "      <th>0</th>\n",
       "      <td>ABW</td>\n",
       "      <td>Aruba</td>\n",
       "      <td>2020-03-13</td>\n",
       "      <td>2</td>\n",
       "      <td>2</td>\n",
       "      <td>0</td>\n",
       "      <td>0</td>\n",
       "      <td>18.733</td>\n",
       "      <td>18.733</td>\n",
       "      <td>0.0</td>\n",
       "      <td>0.0</td>\n",
       "      <td>NaN</td>\n",
       "      <td>NaN</td>\n",
       "      <td>NaN</td>\n",
       "      <td>NaN</td>\n",
       "      <td>NaN</td>\n",
       "    </tr>\n",
       "    <tr>\n",
       "      <th>1</th>\n",
       "      <td>ABW</td>\n",
       "      <td>Aruba</td>\n",
       "      <td>2020-03-20</td>\n",
       "      <td>4</td>\n",
       "      <td>2</td>\n",
       "      <td>0</td>\n",
       "      <td>0</td>\n",
       "      <td>37.465</td>\n",
       "      <td>18.733</td>\n",
       "      <td>0.0</td>\n",
       "      <td>0.0</td>\n",
       "      <td>NaN</td>\n",
       "      <td>NaN</td>\n",
       "      <td>NaN</td>\n",
       "      <td>NaN</td>\n",
       "      <td>NaN</td>\n",
       "    </tr>\n",
       "    <tr>\n",
       "      <th>2</th>\n",
       "      <td>ABW</td>\n",
       "      <td>Aruba</td>\n",
       "      <td>2020-03-24</td>\n",
       "      <td>12</td>\n",
       "      <td>8</td>\n",
       "      <td>0</td>\n",
       "      <td>0</td>\n",
       "      <td>112.395</td>\n",
       "      <td>74.930</td>\n",
       "      <td>0.0</td>\n",
       "      <td>0.0</td>\n",
       "      <td>NaN</td>\n",
       "      <td>NaN</td>\n",
       "      <td>NaN</td>\n",
       "      <td>NaN</td>\n",
       "      <td>NaN</td>\n",
       "    </tr>\n",
       "    <tr>\n",
       "      <th>3</th>\n",
       "      <td>ABW</td>\n",
       "      <td>Aruba</td>\n",
       "      <td>2020-03-25</td>\n",
       "      <td>17</td>\n",
       "      <td>5</td>\n",
       "      <td>0</td>\n",
       "      <td>0</td>\n",
       "      <td>159.227</td>\n",
       "      <td>46.831</td>\n",
       "      <td>0.0</td>\n",
       "      <td>0.0</td>\n",
       "      <td>NaN</td>\n",
       "      <td>NaN</td>\n",
       "      <td>NaN</td>\n",
       "      <td>NaN</td>\n",
       "      <td>NaN</td>\n",
       "    </tr>\n",
       "    <tr>\n",
       "      <th>4</th>\n",
       "      <td>ABW</td>\n",
       "      <td>Aruba</td>\n",
       "      <td>2020-03-26</td>\n",
       "      <td>19</td>\n",
       "      <td>2</td>\n",
       "      <td>0</td>\n",
       "      <td>0</td>\n",
       "      <td>177.959</td>\n",
       "      <td>18.733</td>\n",
       "      <td>0.0</td>\n",
       "      <td>0.0</td>\n",
       "      <td>NaN</td>\n",
       "      <td>NaN</td>\n",
       "      <td>NaN</td>\n",
       "      <td>NaN</td>\n",
       "      <td>NaN</td>\n",
       "    </tr>\n",
       "  </tbody>\n",
       "</table>\n",
       "</div>"
      ],
      "text/plain": [
       "  iso_code location        date  total_cases  new_cases  total_deaths  \\\n",
       "0      ABW    Aruba  2020-03-13            2          2             0   \n",
       "1      ABW    Aruba  2020-03-20            4          2             0   \n",
       "2      ABW    Aruba  2020-03-24           12          8             0   \n",
       "3      ABW    Aruba  2020-03-25           17          5             0   \n",
       "4      ABW    Aruba  2020-03-26           19          2             0   \n",
       "\n",
       "   new_deaths  total_cases_per_million  new_cases_per_million  \\\n",
       "0           0                   18.733                 18.733   \n",
       "1           0                   37.465                 18.733   \n",
       "2           0                  112.395                 74.930   \n",
       "3           0                  159.227                 46.831   \n",
       "4           0                  177.959                 18.733   \n",
       "\n",
       "   total_deaths_per_million  new_deaths_per_million  total_tests  new_tests  \\\n",
       "0                       0.0                     0.0          NaN        NaN   \n",
       "1                       0.0                     0.0          NaN        NaN   \n",
       "2                       0.0                     0.0          NaN        NaN   \n",
       "3                       0.0                     0.0          NaN        NaN   \n",
       "4                       0.0                     0.0          NaN        NaN   \n",
       "\n",
       "   total_tests_per_thousand  new_tests_per_thousand tests_units  \n",
       "0                       NaN                     NaN         NaN  \n",
       "1                       NaN                     NaN         NaN  \n",
       "2                       NaN                     NaN         NaN  \n",
       "3                       NaN                     NaN         NaN  \n",
       "4                       NaN                     NaN         NaN  "
      ]
     },
     "execution_count": 224,
     "metadata": {},
     "output_type": "execute_result"
    }
   ],
   "source": [
    "testing1.head()"
   ]
  },
  {
   "cell_type": "code",
   "execution_count": 225,
   "metadata": {},
   "outputs": [],
   "source": [
    "mask=(testing1['date'] == '2020-04-10') \n",
    "testing = testing1.loc[mask]\n",
    "country=testing.fillna(0)"
   ]
  },
  {
   "cell_type": "code",
   "execution_count": 252,
   "metadata": {},
   "outputs": [
    {
     "name": "stdout",
     "output_type": "stream",
     "text": [
      "The correlation between the variable Temperature and the number of confirmed cases is: 0.256\n"
     ]
    }
   ],
   "source": [
    "corr, _ = pearsonr(country['total_cases'], country['total_tests'])\n",
    "print('The correlation between the variable Temperature and the number of confirmed cases is: %.3f' % corr)"
   ]
  },
  {
   "cell_type": "code",
   "execution_count": 253,
   "metadata": {},
   "outputs": [
    {
     "data": {
      "text/html": [
       "<div>\n",
       "<style scoped>\n",
       "    .dataframe tbody tr th:only-of-type {\n",
       "        vertical-align: middle;\n",
       "    }\n",
       "\n",
       "    .dataframe tbody tr th {\n",
       "        vertical-align: top;\n",
       "    }\n",
       "\n",
       "    .dataframe thead th {\n",
       "        text-align: right;\n",
       "    }\n",
       "</style>\n",
       "<table border=\"1\" class=\"dataframe\">\n",
       "  <thead>\n",
       "    <tr style=\"text-align: right;\">\n",
       "      <th></th>\n",
       "      <th>iso_code</th>\n",
       "      <th>location</th>\n",
       "      <th>date</th>\n",
       "      <th>total_cases</th>\n",
       "      <th>new_cases</th>\n",
       "      <th>total_deaths</th>\n",
       "      <th>new_deaths</th>\n",
       "      <th>total_cases_per_million</th>\n",
       "      <th>new_cases_per_million</th>\n",
       "      <th>total_deaths_per_million</th>\n",
       "      <th>new_deaths_per_million</th>\n",
       "      <th>total_tests</th>\n",
       "      <th>new_tests</th>\n",
       "      <th>total_tests_per_thousand</th>\n",
       "      <th>new_tests_per_thousand</th>\n",
       "      <th>tests_units</th>\n",
       "    </tr>\n",
       "  </thead>\n",
       "  <tbody>\n",
       "    <tr>\n",
       "      <th>14751</th>\n",
       "      <td>YEM</td>\n",
       "      <td>Yemen</td>\n",
       "      <td>2020-04-10</td>\n",
       "      <td>1</td>\n",
       "      <td>1</td>\n",
       "      <td>0</td>\n",
       "      <td>0</td>\n",
       "      <td>0.034</td>\n",
       "      <td>0.034</td>\n",
       "      <td>0.000</td>\n",
       "      <td>0.000</td>\n",
       "      <td>0.0</td>\n",
       "      <td>0.0</td>\n",
       "      <td>0.000</td>\n",
       "      <td>0.000</td>\n",
       "      <td>0</td>\n",
       "    </tr>\n",
       "    <tr>\n",
       "      <th>14820</th>\n",
       "      <td>ZAF</td>\n",
       "      <td>South Africa</td>\n",
       "      <td>2020-04-10</td>\n",
       "      <td>1934</td>\n",
       "      <td>89</td>\n",
       "      <td>18</td>\n",
       "      <td>0</td>\n",
       "      <td>32.609</td>\n",
       "      <td>1.501</td>\n",
       "      <td>0.303</td>\n",
       "      <td>0.000</td>\n",
       "      <td>73028.0</td>\n",
       "      <td>4154.0</td>\n",
       "      <td>1.231</td>\n",
       "      <td>0.070</td>\n",
       "      <td>units unclear</td>\n",
       "    </tr>\n",
       "    <tr>\n",
       "      <th>14867</th>\n",
       "      <td>ZMB</td>\n",
       "      <td>Zambia</td>\n",
       "      <td>2020-04-10</td>\n",
       "      <td>39</td>\n",
       "      <td>0</td>\n",
       "      <td>1</td>\n",
       "      <td>0</td>\n",
       "      <td>2.121</td>\n",
       "      <td>0.000</td>\n",
       "      <td>0.054</td>\n",
       "      <td>0.000</td>\n",
       "      <td>0.0</td>\n",
       "      <td>0.0</td>\n",
       "      <td>0.000</td>\n",
       "      <td>0.000</td>\n",
       "      <td>0</td>\n",
       "    </tr>\n",
       "    <tr>\n",
       "      <th>14913</th>\n",
       "      <td>ZWE</td>\n",
       "      <td>Zimbabwe</td>\n",
       "      <td>2020-04-10</td>\n",
       "      <td>11</td>\n",
       "      <td>0</td>\n",
       "      <td>3</td>\n",
       "      <td>1</td>\n",
       "      <td>0.740</td>\n",
       "      <td>0.000</td>\n",
       "      <td>0.202</td>\n",
       "      <td>0.067</td>\n",
       "      <td>463.0</td>\n",
       "      <td>25.0</td>\n",
       "      <td>0.031</td>\n",
       "      <td>0.002</td>\n",
       "      <td>tests performed</td>\n",
       "    </tr>\n",
       "    <tr>\n",
       "      <th>15039</th>\n",
       "      <td>0</td>\n",
       "      <td>World</td>\n",
       "      <td>2020-04-10</td>\n",
       "      <td>1563819</td>\n",
       "      <td>87027</td>\n",
       "      <td>96669</td>\n",
       "      <td>7445</td>\n",
       "      <td>200.623</td>\n",
       "      <td>11.165</td>\n",
       "      <td>12.402</td>\n",
       "      <td>0.955</td>\n",
       "      <td>0.0</td>\n",
       "      <td>0.0</td>\n",
       "      <td>0.000</td>\n",
       "      <td>0.000</td>\n",
       "      <td>0</td>\n",
       "    </tr>\n",
       "  </tbody>\n",
       "</table>\n",
       "</div>"
      ],
      "text/plain": [
       "      iso_code      location        date  total_cases  new_cases  \\\n",
       "14751      YEM         Yemen  2020-04-10            1          1   \n",
       "14820      ZAF  South Africa  2020-04-10         1934         89   \n",
       "14867      ZMB        Zambia  2020-04-10           39          0   \n",
       "14913      ZWE      Zimbabwe  2020-04-10           11          0   \n",
       "15039        0         World  2020-04-10      1563819      87027   \n",
       "\n",
       "       total_deaths  new_deaths  total_cases_per_million  \\\n",
       "14751             0           0                    0.034   \n",
       "14820            18           0                   32.609   \n",
       "14867             1           0                    2.121   \n",
       "14913             3           1                    0.740   \n",
       "15039         96669        7445                  200.623   \n",
       "\n",
       "       new_cases_per_million  total_deaths_per_million  \\\n",
       "14751                  0.034                     0.000   \n",
       "14820                  1.501                     0.303   \n",
       "14867                  0.000                     0.054   \n",
       "14913                  0.000                     0.202   \n",
       "15039                 11.165                    12.402   \n",
       "\n",
       "       new_deaths_per_million  total_tests  new_tests  \\\n",
       "14751                   0.000          0.0        0.0   \n",
       "14820                   0.000      73028.0     4154.0   \n",
       "14867                   0.000          0.0        0.0   \n",
       "14913                   0.067        463.0       25.0   \n",
       "15039                   0.955          0.0        0.0   \n",
       "\n",
       "       total_tests_per_thousand  new_tests_per_thousand      tests_units  \n",
       "14751                     0.000                   0.000                0  \n",
       "14820                     1.231                   0.070    units unclear  \n",
       "14867                     0.000                   0.000                0  \n",
       "14913                     0.031                   0.002  tests performed  \n",
       "15039                     0.000                   0.000                0  "
      ]
     },
     "execution_count": 253,
     "metadata": {},
     "output_type": "execute_result"
    }
   ],
   "source": [
    "country.tail()"
   ]
  },
  {
   "cell_type": "code",
   "execution_count": null,
   "metadata": {},
   "outputs": [],
   "source": []
  },
  {
   "cell_type": "code",
   "execution_count": 254,
   "metadata": {},
   "outputs": [],
   "source": [
    "data_covid19_confirmed_top=country.nlargest(100, ['total_tests']) "
   ]
  },
  {
   "cell_type": "code",
   "execution_count": 256,
   "metadata": {},
   "outputs": [],
   "source": [
    "data_covid19_confirmed_top.to_csv('data_covid19_confirmed_top.csv')"
   ]
  },
  {
   "cell_type": "code",
   "execution_count": null,
   "metadata": {},
   "outputs": [],
   "source": []
  },
  {
   "cell_type": "code",
   "execution_count": 257,
   "metadata": {},
   "outputs": [],
   "source": [
    "data_frame1=pd.read_csv(\"data_covid19_confirmed_top.csv\")"
   ]
  },
  {
   "cell_type": "code",
   "execution_count": 258,
   "metadata": {},
   "outputs": [],
   "source": [
    "testing_dataframe=data_frame1.sort_values(by=['location'])"
   ]
  },
  {
   "cell_type": "code",
   "execution_count": 260,
   "metadata": {},
   "outputs": [
    {
     "name": "stdout",
     "output_type": "stream",
     "text": [
      "The correlation between the variable Temperature and the number of confirmed cases is: 0.896\n"
     ]
    }
   ],
   "source": [
    "corr, _ = pearsonr(testing_dataframe['total_cases'], testing_dataframe['total_tests'])\n",
    "print('The correlation between the variable Temperature and the number of confirmed cases is: %.3f' % corr)"
   ]
  },
  {
   "cell_type": "code",
   "execution_count": null,
   "metadata": {},
   "outputs": [],
   "source": []
  },
  {
   "cell_type": "code",
   "execution_count": 262,
   "metadata": {},
   "outputs": [
    {
     "data": {
      "text/plain": [
       "[<matplotlib.lines.Line2D at 0x7feed36c6850>]"
      ]
     },
     "execution_count": 262,
     "metadata": {},
     "output_type": "execute_result"
    },
    {
     "data": {
      "image/png": "[encoded data removed]",
      "text/plain": [
       "<Figure size 432x288 with 1 Axes>"
      ]
     },
     "metadata": {
      "needs_background": "light"
     },
     "output_type": "display_data"
    }
   ],
   "source": [
    "plt.plot(testing_dataframe['total_cases'],testing_dataframe['total_tests'],'ro')"
   ]
  },
  {
   "cell_type": "code",
   "execution_count": 263,
   "metadata": {},
   "outputs": [],
   "source": [
    "#data_covid19_confirmed_top1['location'].unique()"
   ]
  },
  {
   "cell_type": "code",
   "execution_count": 266,
   "metadata": {},
   "outputs": [
    {
     "data": {
      "text/html": [
       "<div>\n",
       "<style scoped>\n",
       "    .dataframe tbody tr th:only-of-type {\n",
       "        vertical-align: middle;\n",
       "    }\n",
       "\n",
       "    .dataframe tbody tr th {\n",
       "        vertical-align: top;\n",
       "    }\n",
       "\n",
       "    .dataframe thead th {\n",
       "        text-align: right;\n",
       "    }\n",
       "</style>\n",
       "<table border=\"1\" class=\"dataframe\">\n",
       "  <thead>\n",
       "    <tr style=\"text-align: right;\">\n",
       "      <th></th>\n",
       "      <th>Country/Region</th>\n",
       "      <th>Date</th>\n",
       "      <th>Lat</th>\n",
       "      <th>Long</th>\n",
       "      <th>Confirmed</th>\n",
       "      <th>humidity</th>\n",
       "      <th>temperature</th>\n",
       "      <th>wind</th>\n",
       "    </tr>\n",
       "  </thead>\n",
       "  <tbody>\n",
       "    <tr>\n",
       "      <th>0</th>\n",
       "      <td>Afghanistan</td>\n",
       "      <td>2020-01-22</td>\n",
       "      <td>33.0</td>\n",
       "      <td>65.0</td>\n",
       "      <td>0</td>\n",
       "      <td>95.625</td>\n",
       "      <td>9.90875</td>\n",
       "      <td>1.265</td>\n",
       "    </tr>\n",
       "    <tr>\n",
       "      <th>1</th>\n",
       "      <td>Afghanistan</td>\n",
       "      <td>2020-01-22</td>\n",
       "      <td>33.0</td>\n",
       "      <td>65.0</td>\n",
       "      <td>0</td>\n",
       "      <td>95.625</td>\n",
       "      <td>9.90875</td>\n",
       "      <td>1.265</td>\n",
       "    </tr>\n",
       "    <tr>\n",
       "      <th>2</th>\n",
       "      <td>Afghanistan</td>\n",
       "      <td>2020-01-22</td>\n",
       "      <td>33.0</td>\n",
       "      <td>65.0</td>\n",
       "      <td>0</td>\n",
       "      <td>95.625</td>\n",
       "      <td>9.90875</td>\n",
       "      <td>1.265</td>\n",
       "    </tr>\n",
       "    <tr>\n",
       "      <th>3</th>\n",
       "      <td>Afghanistan</td>\n",
       "      <td>2020-01-22</td>\n",
       "      <td>33.0</td>\n",
       "      <td>65.0</td>\n",
       "      <td>0</td>\n",
       "      <td>95.625</td>\n",
       "      <td>9.90875</td>\n",
       "      <td>1.265</td>\n",
       "    </tr>\n",
       "    <tr>\n",
       "      <th>4</th>\n",
       "      <td>Afghanistan</td>\n",
       "      <td>2020-01-22</td>\n",
       "      <td>33.0</td>\n",
       "      <td>65.0</td>\n",
       "      <td>0</td>\n",
       "      <td>95.625</td>\n",
       "      <td>9.90875</td>\n",
       "      <td>1.265</td>\n",
       "    </tr>\n",
       "  </tbody>\n",
       "</table>\n",
       "</div>"
      ],
      "text/plain": [
       "  Country/Region       Date   Lat  Long  Confirmed  humidity  temperature  \\\n",
       "0    Afghanistan 2020-01-22  33.0  65.0          0    95.625      9.90875   \n",
       "1    Afghanistan 2020-01-22  33.0  65.0          0    95.625      9.90875   \n",
       "2    Afghanistan 2020-01-22  33.0  65.0          0    95.625      9.90875   \n",
       "3    Afghanistan 2020-01-22  33.0  65.0          0    95.625      9.90875   \n",
       "4    Afghanistan 2020-01-22  33.0  65.0          0    95.625      9.90875   \n",
       "\n",
       "    wind  \n",
       "0  1.265  \n",
       "1  1.265  \n",
       "2  1.265  \n",
       "3  1.265  \n",
       "4  1.265  "
      ]
     },
     "execution_count": 266,
     "metadata": {},
     "output_type": "execute_result"
    }
   ],
   "source": [
    "data_covid19_cleaned.head()"
   ]
  },
  {
   "cell_type": "code",
   "execution_count": 267,
   "metadata": {},
   "outputs": [],
   "source": [
    "mask=(data_covid19_cleaned['Date'] >= '2020-01-22') & (data_covid19_cleaned['Date'] <= '2020-04-10') \n",
    "country_one = data_covid19_cleaned.loc[mask]"
   ]
  },
  {
   "cell_type": "code",
   "execution_count": 268,
   "metadata": {},
   "outputs": [],
   "source": [
    "data_grouped=data_covid19_cleaned.groupby('Country/Region').mean().reset_index()"
   ]
  },
  {
   "cell_type": "code",
   "execution_count": 269,
   "metadata": {},
   "outputs": [
    {
     "data": {
      "text/html": [
       "<div>\n",
       "<style scoped>\n",
       "    .dataframe tbody tr th:only-of-type {\n",
       "        vertical-align: middle;\n",
       "    }\n",
       "\n",
       "    .dataframe tbody tr th {\n",
       "        vertical-align: top;\n",
       "    }\n",
       "\n",
       "    .dataframe thead th {\n",
       "        text-align: right;\n",
       "    }\n",
       "</style>\n",
       "<table border=\"1\" class=\"dataframe\">\n",
       "  <thead>\n",
       "    <tr style=\"text-align: right;\">\n",
       "      <th></th>\n",
       "      <th>Country/Region</th>\n",
       "      <th>Lat</th>\n",
       "      <th>Long</th>\n",
       "      <th>Confirmed</th>\n",
       "      <th>humidity</th>\n",
       "      <th>temperature</th>\n",
       "      <th>wind</th>\n",
       "    </tr>\n",
       "  </thead>\n",
       "  <tbody>\n",
       "    <tr>\n",
       "      <th>180</th>\n",
       "      <td>West Bank and Gaza</td>\n",
       "      <td>31.952200</td>\n",
       "      <td>35.233200</td>\n",
       "      <td>45.0750</td>\n",
       "      <td>59.749479</td>\n",
       "      <td>12.830021</td>\n",
       "      <td>1.968177</td>\n",
       "    </tr>\n",
       "    <tr>\n",
       "      <th>181</th>\n",
       "      <td>Western Sahara</td>\n",
       "      <td>24.215500</td>\n",
       "      <td>-12.885800</td>\n",
       "      <td>0.3000</td>\n",
       "      <td>26.316886</td>\n",
       "      <td>21.154095</td>\n",
       "      <td>4.099726</td>\n",
       "    </tr>\n",
       "    <tr>\n",
       "      <th>182</th>\n",
       "      <td>Yemen</td>\n",
       "      <td>15.552727</td>\n",
       "      <td>48.516388</td>\n",
       "      <td>0.0125</td>\n",
       "      <td>NaN</td>\n",
       "      <td>NaN</td>\n",
       "      <td>NaN</td>\n",
       "    </tr>\n",
       "    <tr>\n",
       "      <th>183</th>\n",
       "      <td>Zambia</td>\n",
       "      <td>-15.416700</td>\n",
       "      <td>28.283300</td>\n",
       "      <td>7.2750</td>\n",
       "      <td>75.611458</td>\n",
       "      <td>20.803490</td>\n",
       "      <td>3.300943</td>\n",
       "    </tr>\n",
       "    <tr>\n",
       "      <th>184</th>\n",
       "      <td>Zimbabwe</td>\n",
       "      <td>-20.000000</td>\n",
       "      <td>30.000000</td>\n",
       "      <td>1.9125</td>\n",
       "      <td>60.620833</td>\n",
       "      <td>23.057047</td>\n",
       "      <td>2.178651</td>\n",
       "    </tr>\n",
       "  </tbody>\n",
       "</table>\n",
       "</div>"
      ],
      "text/plain": [
       "         Country/Region        Lat       Long  Confirmed   humidity  \\\n",
       "180  West Bank and Gaza  31.952200  35.233200    45.0750  59.749479   \n",
       "181      Western Sahara  24.215500 -12.885800     0.3000  26.316886   \n",
       "182               Yemen  15.552727  48.516388     0.0125        NaN   \n",
       "183              Zambia -15.416700  28.283300     7.2750  75.611458   \n",
       "184            Zimbabwe -20.000000  30.000000     1.9125  60.620833   \n",
       "\n",
       "     temperature      wind  \n",
       "180    12.830021  1.968177  \n",
       "181    21.154095  4.099726  \n",
       "182          NaN       NaN  \n",
       "183    20.803490  3.300943  \n",
       "184    23.057047  2.178651  "
      ]
     },
     "execution_count": 269,
     "metadata": {},
     "output_type": "execute_result"
    }
   ],
   "source": [
    "data_grouped.tail()"
   ]
  },
  {
   "cell_type": "code",
   "execution_count": 270,
   "metadata": {},
   "outputs": [],
   "source": [
    "#data_grouped['Country/Region'].unique()"
   ]
  },
  {
   "cell_type": "code",
   "execution_count": null,
   "metadata": {},
   "outputs": [],
   "source": []
  },
  {
   "cell_type": "code",
   "execution_count": 271,
   "metadata": {},
   "outputs": [],
   "source": [
    "countries=['Afghanistan', 'Albania', 'Andorra', 'Angola', 'Anguilla',\n",
    "       'Antigua and Barbuda', 'Argentina', 'Armenia', 'Aruba',\n",
    "       'Australia', 'Austria', 'Azerbaijan', 'Bahamas', 'Bahrain',\n",
    "       'Bangladesh', 'Barbados', 'Belarus', 'Belgium', 'Belize', 'Benin',\n",
    "       'Bermuda', 'Bhutan', 'Bolivia', 'Bonaire Sint Eustatius and Saba',\n",
    "       'Bosnia and Herzegovina', 'Botswana', 'Brazil', 'Brunei',\n",
    "       'Bulgaria', 'Burkina Faso', 'Burundi', 'Cameroon', 'Canada',\n",
    "       'Cape Verde', 'Central African Republic', 'Chile', 'China',\n",
    "       'Colombia', 'Congo', 'Costa Rica', \"Cote d'Ivoire\", 'Croatia',\n",
    "       'Cuba', 'Czech Republic', 'Democratic Republic of Congo',\n",
    "       'Denmark', 'Ecuador', 'Estonia', 'Finland', 'Ghana', 'Greece',\n",
    "       'Hungary', 'Iceland', 'India', 'Indonesia', 'Iran', 'Israel',\n",
    "       'Italy', 'Japan', 'Kazakhstan', 'Kenya', 'Latvia', 'Lithuania',\n",
    "       'Luxembourg', 'Malaysia', 'Mexico', 'Morocco', 'Myanmar', 'Nepal',\n",
    "       'New Zealand', 'Norway', 'Pakistan', 'Panama', 'Paraguay', 'Peru',\n",
    "       'Poland', 'Portugal', 'Qatar', 'Romania', 'Russia', 'Rwanda',\n",
    "       'Senegal', 'Serbia', 'Slovakia', 'Slovenia', 'South Africa',\n",
    "       'South Korea', 'Switzerland', 'Taiwan', 'Thailand', 'Tunisia',\n",
    "       'Turkey', 'Uganda', 'Ukraine', 'United Arab Emirates',\n",
    "       'United Kingdom', 'United States', 'Uruguay', 'Vietnam',\n",
    "       'Zimbabwe']\n",
    "\n",
    "\n",
    "\n",
    "total=[]\n",
    "\n",
    "for i in range(len(data_grouped)):\n",
    "    #print(data_grouped['Country/Region'][i])\n",
    "    for k in countries:\n",
    "        if data_grouped['Country/Region'][i]==k:\n",
    "            total.append([data_grouped['Country/Region'][i],data_grouped['temperature'][i],data_grouped['humidity'][i],data_grouped['wind'][i]])\n",
    "            \n",
    "dataframe= pd.DataFrame (total, columns = ['Country','temperature','humidity','wind'])"
   ]
  },
  {
   "cell_type": "code",
   "execution_count": 272,
   "metadata": {},
   "outputs": [
    {
     "data": {
      "text/plain": [
       "array(['Afghanistan', 'Albania', 'Andorra', 'Angola',\n",
       "       'Antigua and Barbuda', 'Argentina', 'Armenia', 'Australia',\n",
       "       'Austria', 'Azerbaijan', 'Bahamas', 'Bahrain', 'Bangladesh',\n",
       "       'Barbados', 'Belarus', 'Belgium', 'Belize', 'Benin', 'Bhutan',\n",
       "       'Bolivia', 'Bosnia and Herzegovina', 'Botswana', 'Brazil',\n",
       "       'Brunei', 'Bulgaria', 'Burkina Faso', 'Burundi', 'Cameroon',\n",
       "       'Canada', 'Central African Republic', 'Chile', 'China', 'Colombia',\n",
       "       'Costa Rica', \"Cote d'Ivoire\", 'Croatia', 'Cuba', 'Denmark',\n",
       "       'Ecuador', 'Estonia', 'Finland', 'Ghana', 'Greece', 'Hungary',\n",
       "       'Iceland', 'India', 'Indonesia', 'Iran', 'Israel', 'Italy',\n",
       "       'Japan', 'Kazakhstan', 'Kenya', 'Latvia', 'Lithuania',\n",
       "       'Luxembourg', 'Malaysia', 'Mexico', 'Morocco', 'Nepal',\n",
       "       'New Zealand', 'Norway', 'Pakistan', 'Panama', 'Paraguay', 'Peru',\n",
       "       'Poland', 'Portugal', 'Qatar', 'Romania', 'Russia', 'Rwanda',\n",
       "       'Senegal', 'Serbia', 'Slovakia', 'Slovenia', 'South Africa',\n",
       "       'Switzerland', 'Thailand', 'Tunisia', 'Turkey', 'Uganda',\n",
       "       'Ukraine', 'United Arab Emirates', 'United Kingdom', 'Uruguay',\n",
       "       'Vietnam', 'Zimbabwe'], dtype=object)"
      ]
     },
     "execution_count": 272,
     "metadata": {},
     "output_type": "execute_result"
    }
   ],
   "source": [
    "dataframe['Country'].unique()"
   ]
  },
  {
   "cell_type": "code",
   "execution_count": 273,
   "metadata": {},
   "outputs": [
    {
     "data": {
      "text/plain": [
       "array(['Afghanistan', 'Albania', 'Andorra', 'Angola', 'Anguilla',\n",
       "       'Antigua and Barbuda', 'Argentina', 'Armenia', 'Aruba',\n",
       "       'Australia', 'Austria', 'Azerbaijan', 'Bahamas', 'Bahrain',\n",
       "       'Bangladesh', 'Barbados', 'Belarus', 'Belgium', 'Belize', 'Benin',\n",
       "       'Bermuda', 'Bhutan', 'Bolivia', 'Bonaire Sint Eustatius and Saba',\n",
       "       'Bosnia and Herzegovina', 'Botswana', 'Brazil', 'Brunei',\n",
       "       'Bulgaria', 'Burkina Faso', 'Burundi', 'Cameroon', 'Canada',\n",
       "       'Cape Verde', 'Central African Republic', 'Chile', 'China',\n",
       "       'Colombia', 'Congo', 'Costa Rica', \"Cote d'Ivoire\", 'Croatia',\n",
       "       'Cuba', 'Czech Republic', 'Democratic Republic of Congo',\n",
       "       'Denmark', 'Ecuador', 'Estonia', 'Finland', 'Ghana', 'Greece',\n",
       "       'Hungary', 'Iceland', 'India', 'Indonesia', 'Iran', 'Israel',\n",
       "       'Italy', 'Japan', 'Kazakhstan', 'Kenya', 'Latvia', 'Lithuania',\n",
       "       'Luxembourg', 'Malaysia', 'Mexico', 'Morocco', 'Myanmar', 'Nepal',\n",
       "       'New Zealand', 'Norway', 'Pakistan', 'Panama', 'Paraguay', 'Peru',\n",
       "       'Poland', 'Portugal', 'Qatar', 'Romania', 'Russia', 'Rwanda',\n",
       "       'Senegal', 'Serbia', 'Slovakia', 'Slovenia', 'South Africa',\n",
       "       'South Korea', 'Switzerland', 'Taiwan', 'Thailand', 'Tunisia',\n",
       "       'Turkey', 'Uganda', 'Ukraine', 'United Arab Emirates',\n",
       "       'United Kingdom', 'United States', 'Uruguay', 'Vietnam',\n",
       "       'Zimbabwe'], dtype=object)"
      ]
     },
     "execution_count": 273,
     "metadata": {},
     "output_type": "execute_result"
    }
   ],
   "source": [
    "testing_dataframe['location'].unique()"
   ]
  },
  {
   "cell_type": "code",
   "execution_count": 275,
   "metadata": {},
   "outputs": [
    {
     "data": {
      "text/plain": [
       "88"
      ]
     },
     "execution_count": 275,
     "metadata": {},
     "output_type": "execute_result"
    }
   ],
   "source": [
    "aa=['Afghanistan', 'Albania', 'Andorra', 'Angola',\n",
    "       'Antigua and Barbuda', 'Argentina', 'Armenia', 'Australia',\n",
    "       'Austria', 'Azerbaijan', 'Bahamas', 'Bahrain', 'Bangladesh',\n",
    "       'Barbados', 'Belarus', 'Belgium', 'Belize', 'Benin', 'Bhutan',\n",
    "       'Bolivia', 'Bosnia and Herzegovina', 'Botswana', 'Brazil',\n",
    "       'Brunei', 'Bulgaria', 'Burkina Faso', 'Burundi', 'Cameroon',\n",
    "       'Canada', 'Central African Republic', 'Chile', 'China', 'Colombia',\n",
    "       'Costa Rica', \"Cote d'Ivoire\", 'Croatia', 'Cuba', 'Denmark',\n",
    "       'Ecuador', 'Estonia', 'Finland', 'Ghana', 'Greece', 'Hungary',\n",
    "       'Iceland', 'India', 'Indonesia', 'Iran', 'Israel', 'Italy',\n",
    "       'Japan', 'Kazakhstan', 'Kenya', 'Latvia', 'Lithuania',\n",
    "       'Luxembourg', 'Malaysia', 'Mexico', 'Morocco', 'Nepal',\n",
    "       'New Zealand', 'Norway', 'Pakistan', 'Panama', 'Paraguay', 'Peru',\n",
    "       'Poland', 'Portugal', 'Qatar', 'Romania', 'Russia', 'Rwanda',\n",
    "       'Senegal', 'Serbia', 'Slovakia', 'Slovenia', 'South Africa',\n",
    "       'Switzerland', 'Thailand', 'Tunisia', 'Turkey', 'Uganda',\n",
    "       'Ukraine', 'United Arab Emirates', 'United Kingdom', 'Uruguay',\n",
    "       'Vietnam', 'Zimbabwe']\n",
    "len(aa)"
   ]
  },
  {
   "cell_type": "code",
   "execution_count": 276,
   "metadata": {},
   "outputs": [],
   "source": [
    "dataframe.to_csv('dataframe.csv')"
   ]
  },
  {
   "cell_type": "code",
   "execution_count": 277,
   "metadata": {},
   "outputs": [],
   "source": [
    "selected_country=['Afghanistan', 'Albania', 'Andorra', 'Angola',\n",
    "       'Antigua and Barbuda', 'Argentina', 'Armenia', 'Australia',\n",
    "       'Austria', 'Azerbaijan', 'Bahamas', 'Bahrain', 'Bangladesh',\n",
    "       'Barbados', 'Belarus', 'Belgium', 'Belize', 'Benin', 'Bhutan',\n",
    "       'Bolivia', 'Bosnia and Herzegovina', 'Botswana', 'Brazil',\n",
    "       'Brunei', 'Bulgaria', 'Burkina Faso', 'Burundi', 'Cameroon',\n",
    "       'Canada', 'Central African Republic', 'Chile', 'China', 'Colombia',\n",
    "       'Costa Rica', \"Cote d'Ivoire\", 'Croatia', 'Cuba', 'Denmark',\n",
    "       'Ecuador', 'Estonia', 'Finland', 'Ghana', 'Greece', 'Hungary',\n",
    "       'Iceland', 'India', 'Indonesia', 'Iran', 'Israel', 'Italy',\n",
    "       'Japan', 'Kazakhstan', 'Kenya', 'Latvia', 'Lithuania',\n",
    "       'Luxembourg', 'Malaysia', 'Mexico', 'Morocco', 'Nepal',\n",
    "       'New Zealand', 'Norway', 'Pakistan', 'Panama', 'Paraguay', 'Peru',\n",
    "       'Poland', 'Portugal', 'Qatar', 'Romania', 'Russia', 'Rwanda',\n",
    "       'Senegal', 'Serbia', 'Slovakia', 'Slovenia', 'South Africa',\n",
    "       'Switzerland', 'Thailand', 'Tunisia', 'Turkey', 'Uganda',\n",
    "       'Ukraine', 'United Arab Emirates', 'United Kingdom', 'Uruguay',\n",
    "       'Vietnam', 'Zimbabwe']\n",
    "\n",
    "total=[]\n",
    "\n",
    "for i in range(len(testing_dataframe)):\n",
    "    #print(data_grouped['Country/Region'][i])\n",
    "    for k in selected_country:\n",
    "        if testing_dataframe['location'][i]==k:\n",
    "            total.append([testing_dataframe['location'][i],testing_dataframe['total_cases'][i],testing_dataframe['total_tests'][i]])\n",
    "            \n",
    "dataframe_2= pd.DataFrame (total, columns = ['location','total_cases','total_tests'])"
   ]
  },
  {
   "cell_type": "code",
   "execution_count": 278,
   "metadata": {},
   "outputs": [
    {
     "data": {
      "text/plain": [
       "Index(['location', 'total_cases', 'total_tests'], dtype='object')"
      ]
     },
     "execution_count": 278,
     "metadata": {},
     "output_type": "execute_result"
    }
   ],
   "source": [
    "dataframe_2.columns"
   ]
  },
  {
   "cell_type": "code",
   "execution_count": 280,
   "metadata": {},
   "outputs": [],
   "source": [
    "testing_dataset=dataframe_2.sort_values(by=['location']).reset_index()"
   ]
  },
  {
   "cell_type": "code",
   "execution_count": 281,
   "metadata": {},
   "outputs": [
    {
     "data": {
      "text/html": [
       "<div>\n",
       "<style scoped>\n",
       "    .dataframe tbody tr th:only-of-type {\n",
       "        vertical-align: middle;\n",
       "    }\n",
       "\n",
       "    .dataframe tbody tr th {\n",
       "        vertical-align: top;\n",
       "    }\n",
       "\n",
       "    .dataframe thead th {\n",
       "        text-align: right;\n",
       "    }\n",
       "</style>\n",
       "<table border=\"1\" class=\"dataframe\">\n",
       "  <thead>\n",
       "    <tr style=\"text-align: right;\">\n",
       "      <th></th>\n",
       "      <th>index</th>\n",
       "      <th>location</th>\n",
       "      <th>total_cases</th>\n",
       "      <th>total_tests</th>\n",
       "    </tr>\n",
       "  </thead>\n",
       "  <tbody>\n",
       "    <tr>\n",
       "      <th>0</th>\n",
       "      <td>63</td>\n",
       "      <td>Afghanistan</td>\n",
       "      <td>484</td>\n",
       "      <td>0.0</td>\n",
       "    </tr>\n",
       "    <tr>\n",
       "      <th>1</th>\n",
       "      <td>65</td>\n",
       "      <td>Albania</td>\n",
       "      <td>409</td>\n",
       "      <td>0.0</td>\n",
       "    </tr>\n",
       "    <tr>\n",
       "      <th>2</th>\n",
       "      <td>66</td>\n",
       "      <td>Andorra</td>\n",
       "      <td>583</td>\n",
       "      <td>0.0</td>\n",
       "    </tr>\n",
       "    <tr>\n",
       "      <th>3</th>\n",
       "      <td>64</td>\n",
       "      <td>Angola</td>\n",
       "      <td>19</td>\n",
       "      <td>0.0</td>\n",
       "    </tr>\n",
       "    <tr>\n",
       "      <th>4</th>\n",
       "      <td>69</td>\n",
       "      <td>Antigua and Barbuda</td>\n",
       "      <td>19</td>\n",
       "      <td>0.0</td>\n",
       "    </tr>\n",
       "  </tbody>\n",
       "</table>\n",
       "</div>"
      ],
      "text/plain": [
       "   index             location  total_cases  total_tests\n",
       "0     63          Afghanistan          484          0.0\n",
       "1     65              Albania          409          0.0\n",
       "2     66              Andorra          583          0.0\n",
       "3     64               Angola           19          0.0\n",
       "4     69  Antigua and Barbuda           19          0.0"
      ]
     },
     "execution_count": 281,
     "metadata": {},
     "output_type": "execute_result"
    }
   ],
   "source": [
    "testing_dataset.head()"
   ]
  },
  {
   "cell_type": "code",
   "execution_count": 282,
   "metadata": {},
   "outputs": [
    {
     "data": {
      "text/html": [
       "<div>\n",
       "<style scoped>\n",
       "    .dataframe tbody tr th:only-of-type {\n",
       "        vertical-align: middle;\n",
       "    }\n",
       "\n",
       "    .dataframe tbody tr th {\n",
       "        vertical-align: top;\n",
       "    }\n",
       "\n",
       "    .dataframe thead th {\n",
       "        text-align: right;\n",
       "    }\n",
       "</style>\n",
       "<table border=\"1\" class=\"dataframe\">\n",
       "  <thead>\n",
       "    <tr style=\"text-align: right;\">\n",
       "      <th></th>\n",
       "      <th>Country</th>\n",
       "      <th>temperature</th>\n",
       "      <th>humidity</th>\n",
       "      <th>wind</th>\n",
       "    </tr>\n",
       "  </thead>\n",
       "  <tbody>\n",
       "    <tr>\n",
       "      <th>0</th>\n",
       "      <td>Afghanistan</td>\n",
       "      <td>10.282745</td>\n",
       "      <td>89.434375</td>\n",
       "      <td>1.362359</td>\n",
       "    </tr>\n",
       "    <tr>\n",
       "      <th>1</th>\n",
       "      <td>Albania</td>\n",
       "      <td>7.967026</td>\n",
       "      <td>82.040693</td>\n",
       "      <td>1.656398</td>\n",
       "    </tr>\n",
       "    <tr>\n",
       "      <th>2</th>\n",
       "      <td>Andorra</td>\n",
       "      <td>5.750118</td>\n",
       "      <td>86.025272</td>\n",
       "      <td>1.006687</td>\n",
       "    </tr>\n",
       "    <tr>\n",
       "      <th>3</th>\n",
       "      <td>Angola</td>\n",
       "      <td>22.472328</td>\n",
       "      <td>79.405208</td>\n",
       "      <td>1.339839</td>\n",
       "    </tr>\n",
       "    <tr>\n",
       "      <th>4</th>\n",
       "      <td>Antigua and Barbuda</td>\n",
       "      <td>25.210521</td>\n",
       "      <td>80.880208</td>\n",
       "      <td>8.098062</td>\n",
       "    </tr>\n",
       "  </tbody>\n",
       "</table>\n",
       "</div>"
      ],
      "text/plain": [
       "               Country  temperature   humidity      wind\n",
       "0          Afghanistan    10.282745  89.434375  1.362359\n",
       "1              Albania     7.967026  82.040693  1.656398\n",
       "2              Andorra     5.750118  86.025272  1.006687\n",
       "3               Angola    22.472328  79.405208  1.339839\n",
       "4  Antigua and Barbuda    25.210521  80.880208  8.098062"
      ]
     },
     "execution_count": 282,
     "metadata": {},
     "output_type": "execute_result"
    }
   ],
   "source": [
    "dataframe.head()"
   ]
  },
  {
   "cell_type": "code",
   "execution_count": 283,
   "metadata": {},
   "outputs": [],
   "source": [
    "dataframe['total_tests']=testing_dataset['total_tests']\n",
    "dataframe['total_cases']=testing_dataset['total_cases']"
   ]
  },
  {
   "cell_type": "code",
   "execution_count": 284,
   "metadata": {},
   "outputs": [
    {
     "data": {
      "text/html": [
       "<div>\n",
       "<style scoped>\n",
       "    .dataframe tbody tr th:only-of-type {\n",
       "        vertical-align: middle;\n",
       "    }\n",
       "\n",
       "    .dataframe tbody tr th {\n",
       "        vertical-align: top;\n",
       "    }\n",
       "\n",
       "    .dataframe thead th {\n",
       "        text-align: right;\n",
       "    }\n",
       "</style>\n",
       "<table border=\"1\" class=\"dataframe\">\n",
       "  <thead>\n",
       "    <tr style=\"text-align: right;\">\n",
       "      <th></th>\n",
       "      <th>Country</th>\n",
       "      <th>temperature</th>\n",
       "      <th>humidity</th>\n",
       "      <th>wind</th>\n",
       "      <th>total_tests</th>\n",
       "      <th>total_cases</th>\n",
       "    </tr>\n",
       "  </thead>\n",
       "  <tbody>\n",
       "    <tr>\n",
       "      <th>0</th>\n",
       "      <td>Afghanistan</td>\n",
       "      <td>10.282745</td>\n",
       "      <td>89.434375</td>\n",
       "      <td>1.362359</td>\n",
       "      <td>0.0</td>\n",
       "      <td>484</td>\n",
       "    </tr>\n",
       "    <tr>\n",
       "      <th>1</th>\n",
       "      <td>Albania</td>\n",
       "      <td>7.967026</td>\n",
       "      <td>82.040693</td>\n",
       "      <td>1.656398</td>\n",
       "      <td>0.0</td>\n",
       "      <td>409</td>\n",
       "    </tr>\n",
       "    <tr>\n",
       "      <th>2</th>\n",
       "      <td>Andorra</td>\n",
       "      <td>5.750118</td>\n",
       "      <td>86.025272</td>\n",
       "      <td>1.006687</td>\n",
       "      <td>0.0</td>\n",
       "      <td>583</td>\n",
       "    </tr>\n",
       "    <tr>\n",
       "      <th>3</th>\n",
       "      <td>Angola</td>\n",
       "      <td>22.472328</td>\n",
       "      <td>79.405208</td>\n",
       "      <td>1.339839</td>\n",
       "      <td>0.0</td>\n",
       "      <td>19</td>\n",
       "    </tr>\n",
       "    <tr>\n",
       "      <th>4</th>\n",
       "      <td>Antigua and Barbuda</td>\n",
       "      <td>25.210521</td>\n",
       "      <td>80.880208</td>\n",
       "      <td>8.098062</td>\n",
       "      <td>0.0</td>\n",
       "      <td>19</td>\n",
       "    </tr>\n",
       "  </tbody>\n",
       "</table>\n",
       "</div>"
      ],
      "text/plain": [
       "               Country  temperature   humidity      wind  total_tests  \\\n",
       "0          Afghanistan    10.282745  89.434375  1.362359          0.0   \n",
       "1              Albania     7.967026  82.040693  1.656398          0.0   \n",
       "2              Andorra     5.750118  86.025272  1.006687          0.0   \n",
       "3               Angola    22.472328  79.405208  1.339839          0.0   \n",
       "4  Antigua and Barbuda    25.210521  80.880208  8.098062          0.0   \n",
       "\n",
       "   total_cases  \n",
       "0          484  \n",
       "1          409  \n",
       "2          583  \n",
       "3           19  \n",
       "4           19  "
      ]
     },
     "execution_count": 284,
     "metadata": {},
     "output_type": "execute_result"
    }
   ],
   "source": [
    "dataframe.head()"
   ]
  },
  {
   "cell_type": "code",
   "execution_count": null,
   "metadata": {},
   "outputs": [],
   "source": []
  },
  {
   "cell_type": "code",
   "execution_count": 286,
   "metadata": {},
   "outputs": [],
   "source": [
    "X2=dataframe[['temperature','humidity','wind','total_tests']].values\n",
    "Y2=dataframe[['total_cases']].values"
   ]
  },
  {
   "cell_type": "code",
   "execution_count": null,
   "metadata": {},
   "outputs": [],
   "source": []
  },
  {
   "cell_type": "code",
   "execution_count": 287,
   "metadata": {},
   "outputs": [
    {
     "name": "stderr",
     "output_type": "stream",
     "text": [
      "/usr/local/lib/python3.7/dist-packages/ipykernel_launcher.py:8: DataConversionWarning:\n",
      "\n",
      "A column-vector y was passed when a 1d array was expected. Please change the shape of y to (n_samples,), for example using ravel().\n",
      "\n"
     ]
    },
    {
     "data": {
      "text/plain": [
       "0.2508415650825184"
      ]
     },
     "execution_count": 287,
     "metadata": {},
     "output_type": "execute_result"
    }
   ],
   "source": [
    "# Split the dataset into the Training set and Test set\n",
    "from sklearn.model_selection import train_test_split\n",
    "X_train, X_test, y_train, y_test = train_test_split(X2, Y2, test_size = 0.25, random_state = 1)\n",
    "\n",
    "# Training the Random Forest Regression model on the whole dataset\n",
    "from sklearn.ensemble import RandomForestRegressor\n",
    "regressor = RandomForestRegressor(n_estimators = 1000, random_state = 0   )\n",
    "regressor.fit( X_train, y_train)\n",
    "\n",
    "y_pred = regressor.predict(X_test)\n",
    "\n",
    "\n",
    "from sklearn.metrics import r2_score\n",
    "r2_score(y_test,y_pred) "
   ]
  },
  {
   "cell_type": "code",
   "execution_count": null,
   "metadata": {},
   "outputs": [],
   "source": []
  }
 ],
 "metadata": {
  "kernelspec": {
   "display_name": "Python 3",
   "language": "python",
   "name": "python3"
  },
  "language_info": {
   "codemirror_mode": {
    "name": "ipython",
    "version": 3
   },
   "file_extension": ".py",
   "mimetype": "text/x-python",
   "name": "python",
   "nbconvert_exporter": "python",
   "pygments_lexer": "ipython3",
   "version": "3.7.7"
  }
 },
 "nbformat": 4,
 "nbformat_minor": 4
}
